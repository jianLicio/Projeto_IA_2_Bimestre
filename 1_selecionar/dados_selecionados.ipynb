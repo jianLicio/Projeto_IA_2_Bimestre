{
 "cells": [
  {
   "cell_type": "code",
   "execution_count": 1,
   "id": "d48ead14",
   "metadata": {
    "execution": {
     "iopub.execute_input": "2024-12-27T15:55:18.632507Z",
     "iopub.status.busy": "2024-12-27T15:55:18.631507Z",
     "iopub.status.idle": "2024-12-27T15:55:25.857823Z",
     "shell.execute_reply": "2024-12-27T15:55:25.857823Z"
    },
    "papermill": {
     "duration": 7.234322,
     "end_time": "2024-12-27T15:55:25.858829",
     "exception": false,
     "start_time": "2024-12-27T15:55:18.624507",
     "status": "completed"
    },
    "tags": []
   },
   "outputs": [],
   "source": [
    "import pandas as pd\n",
    "import numpy as np\n",
    "\n",
    "df = pd.read_csv('../base_dados/beber.csv', low_memory=False)\n"
   ]
  },
  {
   "cell_type": "code",
   "execution_count": 2,
   "id": "b51cb29f",
   "metadata": {
    "execution": {
     "iopub.execute_input": "2024-12-27T15:55:25.882830Z",
     "iopub.status.busy": "2024-12-27T15:55:25.881828Z",
     "iopub.status.idle": "2024-12-27T15:55:35.814338Z",
     "shell.execute_reply": "2024-12-27T15:55:35.814338Z"
    },
    "papermill": {
     "duration": 9.949516,
     "end_time": "2024-12-27T15:55:35.816344",
     "exception": false,
     "start_time": "2024-12-27T15:55:25.866828",
     "status": "completed"
    },
    "tags": []
   },
   "outputs": [],
   "source": [
    "df.to_csv('../base_dados/beber_copia.csv', index=False)"
   ]
  }
 ],
 "metadata": {
  "kernelspec": {
   "display_name": "Python 3",
   "language": "python",
   "name": "python3"
  },
  "language_info": {
   "codemirror_mode": {
    "name": "ipython",
    "version": 3
   },
   "file_extension": ".py",
   "mimetype": "text/x-python",
   "name": "python",
   "nbconvert_exporter": "python",
   "pygments_lexer": "ipython3",
   "version": "3.12.7"
  },
  "papermill": {
   "default_parameters": {},
   "duration": 18.78905,
   "end_time": "2024-12-27T15:55:36.140892",
   "environment_variables": {},
   "exception": null,
   "input_path": "..\\1_selecionar\\dados_selecionados.ipynb",
   "output_path": "..\\1_selecionar\\dados_selecionados.ipynb",
   "parameters": {},
   "start_time": "2024-12-27T15:55:17.351842",
   "version": "2.6.0"
  }
 },
 "nbformat": 4,
 "nbformat_minor": 5
}
