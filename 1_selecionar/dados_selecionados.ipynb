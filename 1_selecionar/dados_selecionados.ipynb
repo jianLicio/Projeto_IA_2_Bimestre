{
 "cells": [
  {
   "cell_type": "code",
   "execution_count": 1,
   "id": "d48ead14",
   "metadata": {
    "execution": {
     "iopub.execute_input": "2024-12-19T17:40:03.085502Z",
     "iopub.status.busy": "2024-12-19T17:40:03.084500Z",
     "iopub.status.idle": "2024-12-19T17:40:05.042943Z",
     "shell.execute_reply": "2024-12-19T17:40:05.042943Z"
    },
    "papermill": {
     "duration": 1.965453,
     "end_time": "2024-12-19T17:40:05.043951",
     "exception": false,
     "start_time": "2024-12-19T17:40:03.078498",
     "status": "completed"
    },
    "tags": []
   },
   "outputs": [],
   "source": [
    "import pandas as pd\n",
    "import numpy as np\n",
    "\n",
    "df = pd.read_csv('../base_dados/beber.csv', low_memory=False)\n"
   ]
  },
  {
   "cell_type": "code",
   "execution_count": 2,
   "id": "b51cb29f",
   "metadata": {
    "execution": {
     "iopub.execute_input": "2024-12-19T17:40:05.066955Z",
     "iopub.status.busy": "2024-12-19T17:40:05.065954Z",
     "iopub.status.idle": "2024-12-19T17:40:15.154875Z",
     "shell.execute_reply": "2024-12-19T17:40:15.154875Z"
    },
    "papermill": {
     "duration": 10.104934,
     "end_time": "2024-12-19T17:40:15.155881",
     "exception": false,
     "start_time": "2024-12-19T17:40:05.050947",
     "status": "completed"
    },
    "tags": []
   },
   "outputs": [],
   "source": [
    "df.to_csv('../base_dados/beber_copia.csv', index=False)"
   ]
  }
 ],
 "metadata": {
  "kernelspec": {
   "display_name": "Python 3",
   "language": "python",
   "name": "python3"
  },
  "language_info": {
   "codemirror_mode": {
    "name": "ipython",
    "version": 3
   },
   "file_extension": ".py",
   "mimetype": "text/x-python",
   "name": "python",
   "nbconvert_exporter": "python",
   "pygments_lexer": "ipython3",
   "version": "3.12.7"
  },
  "papermill": {
   "default_parameters": {},
   "duration": 13.678607,
   "end_time": "2024-12-19T17:40:15.478429",
   "environment_variables": {},
   "exception": null,
   "input_path": "..\\1_selecionar\\dados_selecionados.ipynb",
   "output_path": "..\\1_selecionar\\dados_selecionados.ipynb",
   "parameters": {},
   "start_time": "2024-12-19T17:40:01.799822",
   "version": "2.6.0"
  }
 },
 "nbformat": 4,
 "nbformat_minor": 5
}