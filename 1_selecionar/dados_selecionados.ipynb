{
 "cells": [
  {
   "cell_type": "code",
   "execution_count": 1,
   "id": "d48ead14",
   "metadata": {
    "execution": {
     "iopub.execute_input": "2024-12-24T19:48:10.553517Z",
     "iopub.status.busy": "2024-12-24T19:48:10.552517Z",
     "iopub.status.idle": "2024-12-24T19:48:12.407557Z",
     "shell.execute_reply": "2024-12-24T19:48:12.407557Z"
    },
    "papermill": {
     "duration": 1.863051,
     "end_time": "2024-12-24T19:48:12.408562",
     "exception": false,
     "start_time": "2024-12-24T19:48:10.545511",
     "status": "completed"
    },
    "tags": []
   },
   "outputs": [],
   "source": [
    "import pandas as pd\n",
    "import numpy as np\n",
    "\n",
    "df = pd.read_csv('../base_dados/beber.csv', low_memory=False)\n"
   ]
  },
  {
   "cell_type": "code",
   "execution_count": 2,
   "id": "b51cb29f",
   "metadata": {
    "execution": {
     "iopub.execute_input": "2024-12-24T19:48:12.430564Z",
     "iopub.status.busy": "2024-12-24T19:48:12.430564Z",
     "iopub.status.idle": "2024-12-24T19:48:23.601294Z",
     "shell.execute_reply": "2024-12-24T19:48:23.601294Z"
    },
    "papermill": {
     "duration": 11.186741,
     "end_time": "2024-12-24T19:48:23.603303",
     "exception": false,
     "start_time": "2024-12-24T19:48:12.416562",
     "status": "completed"
    },
    "tags": []
   },
   "outputs": [],
   "source": [
    "df.to_csv('../base_dados/beber_copia.csv', index=False)"
   ]
  }
 ],
 "metadata": {
  "kernelspec": {
   "display_name": "Python 3",
   "language": "python",
   "name": "python3"
  },
  "language_info": {
   "codemirror_mode": {
    "name": "ipython",
    "version": 3
   },
   "file_extension": ".py",
   "mimetype": "text/x-python",
   "name": "python",
   "nbconvert_exporter": "python",
   "pygments_lexer": "ipython3",
   "version": "3.12.7"
  },
  "papermill": {
   "default_parameters": {},
   "duration": 14.666017,
   "end_time": "2024-12-24T19:48:23.933845",
   "environment_variables": {},
   "exception": null,
   "input_path": "..\\1_selecionar\\dados_selecionados.ipynb",
   "output_path": "..\\1_selecionar\\dados_selecionados.ipynb",
   "parameters": {},
   "start_time": "2024-12-24T19:48:09.267828",
   "version": "2.6.0"
  }
 },
 "nbformat": 4,
 "nbformat_minor": 5
}