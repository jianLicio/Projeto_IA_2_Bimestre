{
 "cells": [
  {
   "cell_type": "code",
   "execution_count": 1,
   "id": "d48ead14",
   "metadata": {
    "execution": {
     "iopub.execute_input": "2024-12-18T14:59:38.177537Z",
     "iopub.status.busy": "2024-12-18T14:59:38.177537Z",
     "iopub.status.idle": "2024-12-18T14:59:40.374116Z",
     "shell.execute_reply": "2024-12-18T14:59:40.374116Z"
    },
    "papermill": {
     "duration": 2.204587,
     "end_time": "2024-12-18T14:59:40.375122",
     "exception": false,
     "start_time": "2024-12-18T14:59:38.170535",
     "status": "completed"
    },
    "tags": []
   },
   "outputs": [],
   "source": [
    "import pandas as pd\n",
    "import numpy as np\n",
    "\n",
    "df = pd.read_csv('../base_dados/beber.csv', low_memory=False)\n"
   ]
  },
  {
   "cell_type": "code",
   "execution_count": 2,
   "id": "b51cb29f",
   "metadata": {
    "execution": {
     "iopub.execute_input": "2024-12-18T14:59:40.399131Z",
     "iopub.status.busy": "2024-12-18T14:59:40.398135Z",
     "iopub.status.idle": "2024-12-18T14:59:50.826314Z",
     "shell.execute_reply": "2024-12-18T14:59:50.826314Z"
    },
    "papermill": {
     "duration": 10.445201,
     "end_time": "2024-12-18T14:59:50.828321",
     "exception": false,
     "start_time": "2024-12-18T14:59:40.383120",
     "status": "completed"
    },
    "tags": []
   },
   "outputs": [],
   "source": [
    "df.to_csv('../base_dados/beber_copia.csv', index=False)"
   ]
  }
 ],
 "metadata": {
  "kernelspec": {
   "display_name": "Python 3",
   "language": "python",
   "name": "python3"
  },
  "language_info": {
   "codemirror_mode": {
    "name": "ipython",
    "version": 3
   },
   "file_extension": ".py",
   "mimetype": "text/x-python",
   "name": "python",
   "nbconvert_exporter": "python",
   "pygments_lexer": "ipython3",
   "version": "3.12.7"
  },
  "papermill": {
   "default_parameters": {},
   "duration": 14.275992,
   "end_time": "2024-12-18T14:59:51.161638",
   "environment_variables": {},
   "exception": null,
   "input_path": "..\\1_selecionar\\dados_selecionados.ipynb",
   "output_path": "..\\1_selecionar\\dados_selecionados.ipynb",
   "parameters": {},
   "start_time": "2024-12-18T14:59:36.885646",
   "version": "2.6.0"
  }
 },
 "nbformat": 4,
 "nbformat_minor": 5
}