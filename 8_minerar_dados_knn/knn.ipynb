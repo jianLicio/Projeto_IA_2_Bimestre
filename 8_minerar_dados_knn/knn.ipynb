{
 "cells": [
  {
   "cell_type": "code",
   "execution_count": 5,
   "metadata": {},
   "outputs": [],
   "source": [
    "from sklearn.model_selection import train_test_split\n",
    "from sklearn.neighbors import KNeighborsClassifier\n",
    "from sklearn.metrics import accuracy_score, confusion_matrix\n",
    "import pandas as pd\n",
    "import numpy as np\n",
    "\n",
    "df = pd.read_csv('../base_dados/beber_copia3.csv', low_memory=False)\n"
   ]
  },
  {
   "cell_type": "code",
   "execution_count": 6,
   "metadata": {},
   "outputs": [
    {
     "name": "stdout",
     "output_type": "stream",
     "text": [
      "Acurácia para k=126 e distância euclidiana: 0.7008\n"
     ]
    }
   ],
   "source": [
    "\n",
    "# Separar features e target\n",
    "X = df.drop('drk_yn', axis=1)\n",
    "y = df['drk_yn']\n",
    "\n",
    "# Dividir em treino e teste\n",
    "X_train, X_test, y_train, y_test = train_test_split(X, y, test_size=0.3, random_state=42)\n",
    "\n",
    "# Definir k e a distância euclidiana\n",
    "k = 126\n",
    "dist = 'euclidean'\n",
    "\n",
    "# Criar e treinar o modelo\n",
    "knn = KNeighborsClassifier(n_neighbors=k, metric=dist)\n",
    "knn.fit(X_train, y_train)\n",
    "\n",
    "# Fazer previsões\n",
    "y_pred = knn.predict(X_test)\n",
    "\n",
    "# Calcular acurácia\n",
    "acc = accuracy_score(y_test, y_pred)\n",
    "print(f'Acurácia para k={k} e distância euclidiana: {acc:.4f}')\n",
    "\n",
    "# Calcular matriz de confusão\n",
    "cm = confusion_matrix(y_test, y_pred)\n",
    "cm_df = pd.DataFrame(cm, index=[f'Classe {i}' for i in range(len(cm))], \n",
    "                     columns=[f'Classe {i}' for i in range(len(cm))])\n",
    "\n",
    "# Salvar acurácia em arquivo\n",
    "accuracy_df = pd.DataFrame({'k': [k], 'distance': [dist], 'accuracy': [acc]})\n",
    "accuracy_df.to_csv('../base_dados/resultados_mineracao_dados/knn_acuracia_mineracao_final.csv', index=False)\n"
   ]
  }
 ],
 "metadata": {
  "kernelspec": {
   "display_name": "meu_ambiente",
   "language": "python",
   "name": "python3"
  },
  "language_info": {
   "codemirror_mode": {
    "name": "ipython",
    "version": 3
   },
   "file_extension": ".py",
   "mimetype": "text/x-python",
   "name": "python",
   "nbconvert_exporter": "python",
   "pygments_lexer": "ipython3",
   "version": "3.12.7"
  }
 },
 "nbformat": 4,
 "nbformat_minor": 2
}
