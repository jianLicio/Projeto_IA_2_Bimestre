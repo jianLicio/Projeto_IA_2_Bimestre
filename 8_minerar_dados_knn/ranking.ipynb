{
 "cells": [
  {
   "cell_type": "code",
   "execution_count": 5,
   "id": "30d8bac7",
   "metadata": {
    "execution": {
     "iopub.execute_input": "2024-12-24T19:53:30.210029Z",
     "iopub.status.busy": "2024-12-24T19:53:30.210029Z",
     "iopub.status.idle": "2024-12-24T19:53:33.604482Z",
     "shell.execute_reply": "2024-12-24T19:53:33.604482Z"
    },
    "papermill": {
     "duration": 3.406618,
     "end_time": "2024-12-24T19:53:33.606646",
     "exception": false,
     "start_time": "2024-12-24T19:53:30.200028",
     "status": "completed"
    },
    "tags": []
   },
   "outputs": [],
   "source": [
    "import pandas as pd\n",
    "from sklearn.ensemble import RandomForestClassifier\n",
    "import matplotlib.pyplot as plt\n",
    "\n",
    "df = pd.read_csv('../base_dados/beber_copia2.csv', low_memory=False)\n"
   ]
  },
  {
   "cell_type": "code",
   "execution_count": 6,
   "id": "b2499163",
   "metadata": {
    "execution": {
     "iopub.execute_input": "2024-12-24T19:53:33.630496Z",
     "iopub.status.busy": "2024-12-24T19:53:33.629494Z",
     "iopub.status.idle": "2024-12-24T19:56:12.342891Z",
     "shell.execute_reply": "2024-12-24T19:56:12.342891Z"
    },
    "papermill": {
     "duration": 158.741413,
     "end_time": "2024-12-24T19:56:12.355900",
     "exception": false,
     "start_time": "2024-12-24T19:53:33.614487",
     "status": "completed"
    },
    "tags": []
   },
   "outputs": [
    {
     "name": "stdout",
     "output_type": "stream",
     "text": [
      "                   Feature  Importance\n",
      "1                      age    0.122063\n",
      "2                   height    0.095212\n",
      "6         smk_stat_type_cd    0.069132\n",
      "11         waistline_grupo    0.066898\n",
      "0                      sex    0.063928\n",
      "12            weight_grupo    0.060395\n",
      "15         hdl_chole_grupo    0.057649\n",
      "16         ldl_chole_grupo    0.055448\n",
      "14         tot_chole_grupo    0.053896\n",
      "7                sbp_grupo    0.048669\n",
      "18          sgot_ast_grupo    0.045133\n",
      "17      triglyceride_grupo    0.041334\n",
      "9               blds_grupo    0.037270\n",
      "8                dbp_grupo    0.034531\n",
      "19         gamma_gtp_grupo    0.030955\n",
      "4              sight_right    0.027849\n",
      "3               sight_left    0.027105\n",
      "10        hemoglobin_grupo    0.025030\n",
      "13  serum_creatinine_grupo    0.021849\n",
      "5            urine_protein    0.015655\n"
     ]
    }
   ],
   "source": [
    "X = df.drop(columns=['drk_yn'])  # Dados preditores\n",
    "y = df['drk_yn']  # Coluna alvo\n",
    "\n",
    "# Treinar um modelo de Random Forest para calcular as importâncias dos atributos\n",
    "model = RandomForestClassifier(random_state=42)\n",
    "model.fit(X, y)\n",
    "\n",
    "# Obter as importâncias dos atributos\n",
    "importances = model.feature_importances_\n",
    "\n",
    "# Criar um DataFrame para organizar as importâncias\n",
    "feature_importance_df = pd.DataFrame({\n",
    "    'Feature': X.columns,\n",
    "    'Importance': importances\n",
    "})\n",
    "\n",
    "# Ordenar as características por importância\n",
    "feature_importance_df = feature_importance_df.sort_values(by='Importance', ascending=False)\n",
    "\n",
    "# Exibir o ranking\n",
    "print(feature_importance_df)\n",
    "\n",
    "\n",
    "\n",
    "# Criar um gráfico de barras para a importância dos atributos\n",
    "plt.figure(figsize=(10, 6))\n",
    "plt.bar(feature_importance_df['Feature'], feature_importance_df['Importance'], color='skyblue')\n",
    "plt.xlabel('Features')\n",
    "plt.ylabel('Importance')\n",
    "plt.title('Feature Importance')\n",
    "plt.xticks(rotation=45, ha='right')\n",
    "plt.tight_layout()\n",
    "plt.show()\n"
   ]
  },
  {
   "cell_type": "code",
   "execution_count": 7,
   "id": "762cb105",
   "metadata": {
    "execution": {
     "iopub.execute_input": "2024-12-24T19:56:12.427419Z",
     "iopub.status.busy": "2024-12-24T19:56:12.427419Z",
     "iopub.status.idle": "2024-12-24T19:56:12.591380Z",
     "shell.execute_reply": "2024-12-24T19:56:12.590357Z"
    },
    "papermill": {
     "duration": 0.198945,
     "end_time": "2024-12-24T19:56:12.594363",
     "exception": false,
     "start_time": "2024-12-24T19:56:12.395418",
     "status": "completed"
    },
    "tags": []
   },
   "outputs": [],
   "source": [
    "df.drop(columns=['sight_left'], inplace=True)\n",
    "df.drop(columns=['sight_right'], inplace=True)\n",
    "df.drop(columns=['hemoglobin_grupo'], inplace=True)\n",
    "df.drop(columns=['serum_creatinine_grupo'], inplace=True)\n",
    "df.drop(columns=['urine_protein'], inplace=True)\n"
   ]
  },
  {
   "cell_type": "code",
   "execution_count": 8,
   "id": "62b1ec44",
   "metadata": {
    "execution": {
     "iopub.execute_input": "2024-12-24T19:56:12.632363Z",
     "iopub.status.busy": "2024-12-24T19:56:12.631365Z",
     "iopub.status.idle": "2024-12-24T19:56:19.228106Z",
     "shell.execute_reply": "2024-12-24T19:56:19.228106Z"
    },
    "papermill": {
     "duration": 6.621752,
     "end_time": "2024-12-24T19:56:19.229114",
     "exception": false,
     "start_time": "2024-12-24T19:56:12.607362",
     "status": "completed"
    },
    "tags": []
   },
   "outputs": [],
   "source": [
    "df.to_csv('../base_dados/beber_copia3.csv', index=False)"
   ]
  }
 ],
 "metadata": {
  "kernelspec": {
   "display_name": "meu_ambiente",
   "language": "python",
   "name": "python3"
  },
  "language_info": {
   "codemirror_mode": {
    "name": "ipython",
    "version": 3
   },
   "file_extension": ".py",
   "mimetype": "text/x-python",
   "name": "python",
   "nbconvert_exporter": "python",
   "pygments_lexer": "ipython3",
   "version": "3.12.7"
  },
  "papermill": {
   "default_parameters": {},
   "duration": 171.923715,
   "end_time": "2024-12-24T19:56:20.861550",
   "environment_variables": {},
   "exception": null,
   "input_path": "..\\3_transformar\\5_ranking.ipynb",
   "output_path": "..\\3_transformar\\5_ranking.ipynb",
   "parameters": {},
   "start_time": "2024-12-24T19:53:28.937835",
   "version": "2.6.0"
  }
 },
 "nbformat": 4,
 "nbformat_minor": 5
}
