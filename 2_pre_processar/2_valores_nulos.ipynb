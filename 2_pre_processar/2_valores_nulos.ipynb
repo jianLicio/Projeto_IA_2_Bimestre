{
 "cells": [
  {
   "cell_type": "code",
   "execution_count": 1,
   "id": "916943b7",
   "metadata": {
    "execution": {
     "iopub.execute_input": "2024-12-18T15:00:16.301034Z",
     "iopub.status.busy": "2024-12-18T15:00:16.300036Z",
     "iopub.status.idle": "2024-12-18T15:00:17.994985Z",
     "shell.execute_reply": "2024-12-18T15:00:17.992973Z"
    },
    "papermill": {
     "duration": 1.707958,
     "end_time": "2024-12-18T15:00:17.997985",
     "exception": false,
     "start_time": "2024-12-18T15:00:16.290027",
     "status": "completed"
    },
    "tags": []
   },
   "outputs": [],
   "source": [
    "import pandas as pd\n",
    "import numpy as np\n",
    "\n",
    "df = pd.read_csv('../base_dados/beber_copia.csv', low_memory=False)\n"
   ]
  },
  {
   "cell_type": "code",
   "execution_count": 2,
   "id": "2c28c1d4",
   "metadata": {
    "execution": {
     "iopub.execute_input": "2024-12-18T15:00:18.030503Z",
     "iopub.status.busy": "2024-12-18T15:00:18.030503Z",
     "iopub.status.idle": "2024-12-18T15:00:18.107432Z",
     "shell.execute_reply": "2024-12-18T15:00:18.107432Z"
    },
    "papermill": {
     "duration": 0.097447,
     "end_time": "2024-12-18T15:00:18.108437",
     "exception": false,
     "start_time": "2024-12-18T15:00:18.010990",
     "status": "completed"
    },
    "tags": []
   },
   "outputs": [
    {
     "data": {
      "text/plain": [
       "hdl_chole           42\n",
       "ldl_chole           25\n",
       "sgot_ast            21\n",
       "tot_chole           17\n",
       "sex                  0\n",
       "age                  0\n",
       "height               0\n",
       "weight               0\n",
       "hear_left            0\n",
       "sight_right          0\n",
       "sight_left           0\n",
       "waistline            0\n",
       "blds                 0\n",
       "dbp                  0\n",
       "sbp                  0\n",
       "hear_right           0\n",
       "triglyceride         0\n",
       "hemoglobin           0\n",
       "urine_protein        0\n",
       "serum_creatinine     0\n",
       "sgot_alt             0\n",
       "gamma_gtp            0\n",
       "smk_stat_type_cd     0\n",
       "drk_yn               0\n",
       "dtype: int64"
      ]
     },
     "execution_count": 2,
     "metadata": {},
     "output_type": "execute_result"
    }
   ],
   "source": [
    "df.isnull().sum().sort_values(ascending=False)\n"
   ]
  },
  {
   "cell_type": "code",
   "execution_count": 3,
   "id": "8e96cb1d",
   "metadata": {
    "execution": {
     "iopub.execute_input": "2024-12-18T15:00:18.132952Z",
     "iopub.status.busy": "2024-12-18T15:00:18.132952Z",
     "iopub.status.idle": "2024-12-18T15:00:18.377012Z",
     "shell.execute_reply": "2024-12-18T15:00:18.377012Z"
    },
    "papermill": {
     "duration": 0.261072,
     "end_time": "2024-12-18T15:00:18.378019",
     "exception": false,
     "start_time": "2024-12-18T15:00:18.116947",
     "status": "completed"
    },
    "tags": []
   },
   "outputs": [
    {
     "name": "stdout",
     "output_type": "stream",
     "text": [
      "Número de linhas restantes: 991345\n"
     ]
    }
   ],
   "source": [
    "# Contar valores nulos por linha\n",
    "nulos_por_linha = df.isnull().sum(axis=1)\n",
    "\n",
    "# Filtrar apenas as linhas com menos de 3 valores nulos\n",
    "df_filtrado = df[nulos_por_linha < 3]\n",
    "\n",
    "# Exibir ou salvar o DataFrame atualizado\n",
    "print(f\"Número de linhas restantes: {len(df_filtrado)}\")\n"
   ]
  },
  {
   "cell_type": "markdown",
   "id": "7f976124",
   "metadata": {
    "papermill": {
     "duration": 0.019008,
     "end_time": "2024-12-18T15:00:18.404025",
     "exception": false,
     "start_time": "2024-12-18T15:00:18.385017",
     "status": "completed"
    },
    "tags": []
   },
   "source": [
    "### Remoção de instâncias com valores nulos"
   ]
  },
  {
   "cell_type": "code",
   "execution_count": 4,
   "id": "9d50d595",
   "metadata": {
    "execution": {
     "iopub.execute_input": "2024-12-18T15:00:18.434534Z",
     "iopub.status.busy": "2024-12-18T15:00:18.433533Z",
     "iopub.status.idle": "2024-12-18T15:00:18.582381Z",
     "shell.execute_reply": "2024-12-18T15:00:18.581375Z"
    },
    "papermill": {
     "duration": 0.164845,
     "end_time": "2024-12-18T15:00:18.583379",
     "exception": false,
     "start_time": "2024-12-18T15:00:18.418534",
     "status": "completed"
    },
    "tags": []
   },
   "outputs": [
    {
     "name": "stdout",
     "output_type": "stream",
     "text": [
      "Número de instâncias restantes (sem valores nulos): 991257"
     ]
    },
    {
     "name": "stdout",
     "output_type": "stream",
     "text": [
      "\n"
     ]
    }
   ],
   "source": [
    "# Remover todas as instâncias com qualquer valor nulo\n",
    "df = df.dropna()\n",
    "\n",
    "# Exibir o número de linhas restantes\n",
    "print(f\"Número de instâncias restantes (sem valores nulos): {len(df)}\")\n"
   ]
  },
  {
   "cell_type": "code",
   "execution_count": 5,
   "id": "3494f5c8",
   "metadata": {
    "execution": {
     "iopub.execute_input": "2024-12-18T15:00:18.605387Z",
     "iopub.status.busy": "2024-12-18T15:00:18.605387Z",
     "iopub.status.idle": "2024-12-18T15:00:23.826921Z",
     "shell.execute_reply": "2024-12-18T15:00:23.826921Z"
    },
    "papermill": {
     "duration": 5.236544,
     "end_time": "2024-12-18T15:00:23.827925",
     "exception": false,
     "start_time": "2024-12-18T15:00:18.591381",
     "status": "completed"
    },
    "tags": []
   },
   "outputs": [],
   "source": [
    "df_filtrado.to_csv('../base_dados/beber_copia.csv', index=False)\n"
   ]
  }
 ],
 "metadata": {
  "kernelspec": {
   "display_name": "Python 3",
   "language": "python",
   "name": "python3"
  },
  "language_info": {
   "codemirror_mode": {
    "name": "ipython",
    "version": 3
   },
   "file_extension": ".py",
   "mimetype": "text/x-python",
   "name": "python",
   "nbconvert_exporter": "python",
   "pygments_lexer": "ipython3",
   "version": "3.12.7"
  },
  "papermill": {
   "default_parameters": {},
   "duration": 9.694989,
   "end_time": "2024-12-18T15:00:24.156470",
   "environment_variables": {},
   "exception": null,
   "input_path": "..\\2_pre_processar\\2_valores_nulos.ipynb",
   "output_path": "..\\2_pre_processar\\2_valores_nulos.ipynb",
   "parameters": {},
   "start_time": "2024-12-18T15:00:14.461481",
   "version": "2.6.0"
  }
 },
 "nbformat": 4,
 "nbformat_minor": 5
}