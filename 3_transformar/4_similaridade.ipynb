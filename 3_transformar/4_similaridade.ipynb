{
 "cells": [
  {
   "cell_type": "markdown",
   "id": "a0f24df1",
   "metadata": {
    "tags": [
     "papermill-error-cell-tag"
    ]
   },
   "source": [
    "<span style=\"color:red; font-family:Helvetica Neue, Helvetica, Arial, sans-serif; font-size:2em;\">An Exception was encountered at '<a href=\"#papermill-error-cell\">In [3]</a>'.</span>"
   ]
  },
  {
   "cell_type": "code",
   "execution_count": 1,
   "id": "27244c69",
   "metadata": {
    "execution": {
     "iopub.execute_input": "2024-12-19T17:42:01.481843Z",
     "iopub.status.busy": "2024-12-19T17:42:01.481843Z",
     "iopub.status.idle": "2024-12-19T17:42:04.566812Z",
     "shell.execute_reply": "2024-12-19T17:42:04.566812Z"
    },
    "papermill": {
     "duration": 3.094979,
     "end_time": "2024-12-19T17:42:04.568817",
     "exception": false,
     "start_time": "2024-12-19T17:42:01.473838",
     "status": "completed"
    },
    "tags": []
   },
   "outputs": [],
   "source": [
    "import pandas as pd\n",
    "import matplotlib.pyplot as plt\n",
    "from sklearn.cluster import KMeans\n",
    "import numpy as np\n",
    "import seaborn as sns\n",
    "\n",
    "df = pd.read_csv('../base_dados/beber_copia2.csv', low_memory=False)\n"
   ]
  },
  {
   "cell_type": "code",
   "execution_count": 2,
   "id": "4044107c",
   "metadata": {
    "execution": {
     "iopub.execute_input": "2024-12-19T17:42:04.590818Z",
     "iopub.status.busy": "2024-12-19T17:42:04.590818Z",
     "iopub.status.idle": "2024-12-19T17:42:06.136414Z",
     "shell.execute_reply": "2024-12-19T17:42:06.136414Z"
    },
    "papermill": {
     "duration": 1.561601,
     "end_time": "2024-12-19T17:42:06.137421",
     "exception": false,
     "start_time": "2024-12-19T17:42:04.575820",
     "status": "completed"
    },
    "tags": []
   },
   "outputs": [
    {
     "name": "stdout",
     "output_type": "stream",
     "text": [
      "Valores únicos por atributo:\n",
      "\n",
      "Coluna: sex\n",
      "Valores únicos (2): ['female', 'male']\n",
      "\n",
      "Coluna: age\n",
      "Valores únicos (14): [20, 25, 30, 35, 40, 45, 50, 55, 60, 65, 70, 75, 80, 85]\n"
     ]
    },
    {
     "name": "stdout",
     "output_type": "stream",
     "text": [
      "\n",
      "Coluna: height\n",
      "Valores únicos (13): [130, 135, 140, 145, 150, 155, 160, 165, 170, 175, 180, 185, 190]\n",
      "\n",
      "Coluna: weight\n",
      "Valores únicos (24): [25, 30, 35, 40, 45, 50, 55, 60, 65, 70, 75, 80, 85, 90, 95, 100, 105, 110, 115, 120, 125, 130, 135, 140]\n",
      "\n",
      "Coluna: waistline\n",
      "Valores únicos (101): [8.0, 27.0, 30.0, 32.0, 35.0, 40.0, 42.0, 43.0, 48.0, 49.0, 50.0, 51.0, 52.0, 53.0, 54.0, 55.0, 56.0, 57.0, 58.0, 59.0, 60.0, 61.0, 62.0, 63.0, 64.0, 65.0, 66.0, 67.0, 68.0, 69.0, 70.0, 71.0, 72.0, 73.0, 74.0, 75.0, 76.0, 77.0, 78.0, 79.0, 80.0, 81.0, 82.0, 83.0, 84.0, 85.0, 86.0, 87.0, 88.0, 89.0, 90.0, 91.0, 92.0, 93.0, 94.0, 95.0, 96.0, 97.0, 98.0, 99.0, 100.0, 101.0, 102.0, 103.0, 104.0, 105.0, 106.0, 107.0, 108.0, 109.0, 110.0, 111.0, 112.0, 113.0, 114.0, 115.0, 116.0, 117.0, 118.0, 119.0, 120.0, 121.0, 122.0, 123.0, 124.0, 125.0, 126.0, 127.0, 128.0, 129.0, 130.0, 131.0, 132.0, 133.0, 134.0, 135.0, 136.0, 138.0, 140.0, 145.0, 149.0]\n"
     ]
    },
    {
     "name": "stdout",
     "output_type": "stream",
     "text": [
      "\n",
      "Coluna: sight_left\n",
      "Valores únicos (4): [0, 1, 2, 9]\n",
      "\n",
      "Coluna: sight_right\n",
      "Valores únicos (4): [0, 1, 2, 9]\n",
      "\n",
      "Coluna: hear_left\n",
      "Valores únicos (2): [1, 2]\n",
      "\n",
      "Coluna: hear_right\n",
      "Valores únicos (2): [1, 2]\n"
     ]
    },
    {
     "name": "stdout",
     "output_type": "stream",
     "text": [
      "\n",
      "Coluna: urine_protein\n",
      "Valores únicos (6): [1, 2, 3, 4, 5, 6]\n",
      "\n",
      "Coluna: smk_stat_type_cd\n",
      "Valores únicos (3): [1, 2, 3]\n",
      "\n",
      "Coluna: drk_yn\n",
      "Valores únicos (2): ['n', 'y']\n",
      "\n",
      "Coluna: sbp_grupo\n",
      "Valores únicos (6): [90, 120, 129, 139, 179, 199]\n"
     ]
    },
    {
     "name": "stdout",
     "output_type": "stream",
     "text": [
      "\n",
      "Coluna: dbp_grupo\n",
      "Valores únicos (6): [60, 80, 89, 99, 119, 140]\n",
      "\n",
      "Coluna: blds_grupo\n",
      "Valores únicos (3): [100, 125, 150]\n",
      "\n",
      "Coluna: tot_chole_grupo\n",
      "Valores únicos (3): [200, 239, 280]\n",
      "\n",
      "Coluna: hdl_chole_grupo\n",
      "Valores únicos (3): [40, 59, 80]\n"
     ]
    },
    {
     "name": "stdout",
     "output_type": "stream",
     "text": [
      "\n",
      "Coluna: ldl_chole_grupo\n",
      "Valores únicos (5): [100, 129, 159, 189, 209]\n",
      "\n",
      "Coluna: triglyceride_grupo\n",
      "Valores únicos (4): [150, 199, 499, 600]\n",
      "\n",
      "Coluna: hemoglobin_grupo\n",
      "Valores únicos (3): [13, 17, 21]\n",
      "\n",
      "Coluna: serum_creatinine_grupo\n",
      "Valores únicos (3): [1, 2, 3]\n"
     ]
    },
    {
     "name": "stdout",
     "output_type": "stream",
     "text": [
      "\n",
      "Coluna: sgot_ast_grupo\n",
      "Valores únicos (2): [40, 50]\n",
      "\n",
      "Coluna: gamma_gtp_grupo\n",
      "Valores únicos (2): [70, 80]\n"
     ]
    }
   ],
   "source": [
    "print(\"Valores únicos por atributo:\")\n",
    "\n",
    "df_colunas = df[df.columns]\n",
    "\n",
    "for coluna in df_colunas.columns:\n",
    "    # Garantir valores únicos e ordenados corretamente\n",
    "    valores_unicos = sorted(set(df[coluna].dropna()))  # Usar set() para garantir a unicidade\n",
    "    # Converter valores numéricos para inteiros ou floats simples\n",
    "    valores_unicos = [int(valor) if isinstance(valor, (int, np.integer)) else valor for valor in valores_unicos]\n",
    "    print(f\"\\nColuna: {coluna}\")\n",
    "    print(f\"Valores únicos ({len(valores_unicos)}): {valores_unicos}\")\n"
   ]
  },
  {
   "cell_type": "markdown",
   "id": "ceea920b",
   "metadata": {
    "tags": [
     "papermill-error-cell-tag"
    ]
   },
   "source": [
    "<span id=\"papermill-error-cell\" style=\"color:red; font-family:Helvetica Neue, Helvetica, Arial, sans-serif; font-size:2em;\">Execution using papermill encountered an exception here and stopped:</span>"
   ]
  },
  {
   "cell_type": "code",
   "execution_count": 3,
   "id": "3575d2d7",
   "metadata": {
    "execution": {
     "iopub.execute_input": "2024-12-19T17:42:06.158423Z",
     "iopub.status.busy": "2024-12-19T17:42:06.158423Z",
     "iopub.status.idle": "2024-12-19T17:42:07.045110Z",
     "shell.execute_reply": "2024-12-19T17:42:07.045110Z"
    },
    "papermill": {
     "duration": 0.901695,
     "end_time": "2024-12-19T17:42:07.046115",
     "exception": true,
     "start_time": "2024-12-19T17:42:06.144420",
     "status": "failed"
    },
    "tags": []
   },
   "outputs": [
    {
     "ename": "ValueError",
     "evalue": "could not convert string to float: 'male'",
     "output_type": "error",
     "traceback": [
      "\u001b[1;31m---------------------------------------------------------------------------\u001b[0m",
      "\u001b[1;31mValueError\u001b[0m                                Traceback (most recent call last)",
      "Cell \u001b[1;32mIn[3], line 1\u001b[0m\n\u001b[1;32m----> 1\u001b[0m correlation_matrix \u001b[38;5;241m=\u001b[39m \u001b[43mdf\u001b[49m\u001b[38;5;241;43m.\u001b[39;49m\u001b[43mcorr\u001b[49m\u001b[43m(\u001b[49m\u001b[43m)\u001b[49m\n\u001b[0;32m      3\u001b[0m \u001b[38;5;66;03m# Exibir a matriz de correlação\u001b[39;00m\n\u001b[0;32m      4\u001b[0m \u001b[38;5;28mprint\u001b[39m(\u001b[38;5;124m\"\u001b[39m\u001b[38;5;124mMatriz de Correlação:\u001b[39m\u001b[38;5;124m\"\u001b[39m)\n",
      "File \u001b[1;32m~\\AppData\\Roaming\\Python\\Python312\\site-packages\\pandas\\core\\frame.py:11049\u001b[0m, in \u001b[0;36mDataFrame.corr\u001b[1;34m(self, method, min_periods, numeric_only)\u001b[0m\n\u001b[0;32m  11047\u001b[0m cols \u001b[38;5;241m=\u001b[39m data\u001b[38;5;241m.\u001b[39mcolumns\n\u001b[0;32m  11048\u001b[0m idx \u001b[38;5;241m=\u001b[39m cols\u001b[38;5;241m.\u001b[39mcopy()\n\u001b[1;32m> 11049\u001b[0m mat \u001b[38;5;241m=\u001b[39m \u001b[43mdata\u001b[49m\u001b[38;5;241;43m.\u001b[39;49m\u001b[43mto_numpy\u001b[49m\u001b[43m(\u001b[49m\u001b[43mdtype\u001b[49m\u001b[38;5;241;43m=\u001b[39;49m\u001b[38;5;28;43mfloat\u001b[39;49m\u001b[43m,\u001b[49m\u001b[43m \u001b[49m\u001b[43mna_value\u001b[49m\u001b[38;5;241;43m=\u001b[39;49m\u001b[43mnp\u001b[49m\u001b[38;5;241;43m.\u001b[39;49m\u001b[43mnan\u001b[49m\u001b[43m,\u001b[49m\u001b[43m \u001b[49m\u001b[43mcopy\u001b[49m\u001b[38;5;241;43m=\u001b[39;49m\u001b[38;5;28;43;01mFalse\u001b[39;49;00m\u001b[43m)\u001b[49m\n\u001b[0;32m  11051\u001b[0m \u001b[38;5;28;01mif\u001b[39;00m method \u001b[38;5;241m==\u001b[39m \u001b[38;5;124m\"\u001b[39m\u001b[38;5;124mpearson\u001b[39m\u001b[38;5;124m\"\u001b[39m:\n\u001b[0;32m  11052\u001b[0m     correl \u001b[38;5;241m=\u001b[39m libalgos\u001b[38;5;241m.\u001b[39mnancorr(mat, minp\u001b[38;5;241m=\u001b[39mmin_periods)\n",
      "File \u001b[1;32m~\\AppData\\Roaming\\Python\\Python312\\site-packages\\pandas\\core\\frame.py:1993\u001b[0m, in \u001b[0;36mDataFrame.to_numpy\u001b[1;34m(self, dtype, copy, na_value)\u001b[0m\n\u001b[0;32m   1991\u001b[0m \u001b[38;5;28;01mif\u001b[39;00m dtype \u001b[38;5;129;01mis\u001b[39;00m \u001b[38;5;129;01mnot\u001b[39;00m \u001b[38;5;28;01mNone\u001b[39;00m:\n\u001b[0;32m   1992\u001b[0m     dtype \u001b[38;5;241m=\u001b[39m np\u001b[38;5;241m.\u001b[39mdtype(dtype)\n\u001b[1;32m-> 1993\u001b[0m result \u001b[38;5;241m=\u001b[39m \u001b[38;5;28;43mself\u001b[39;49m\u001b[38;5;241;43m.\u001b[39;49m\u001b[43m_mgr\u001b[49m\u001b[38;5;241;43m.\u001b[39;49m\u001b[43mas_array\u001b[49m\u001b[43m(\u001b[49m\u001b[43mdtype\u001b[49m\u001b[38;5;241;43m=\u001b[39;49m\u001b[43mdtype\u001b[49m\u001b[43m,\u001b[49m\u001b[43m \u001b[49m\u001b[43mcopy\u001b[49m\u001b[38;5;241;43m=\u001b[39;49m\u001b[43mcopy\u001b[49m\u001b[43m,\u001b[49m\u001b[43m \u001b[49m\u001b[43mna_value\u001b[49m\u001b[38;5;241;43m=\u001b[39;49m\u001b[43mna_value\u001b[49m\u001b[43m)\u001b[49m\n\u001b[0;32m   1994\u001b[0m \u001b[38;5;28;01mif\u001b[39;00m result\u001b[38;5;241m.\u001b[39mdtype \u001b[38;5;129;01mis\u001b[39;00m \u001b[38;5;129;01mnot\u001b[39;00m dtype:\n\u001b[0;32m   1995\u001b[0m     result \u001b[38;5;241m=\u001b[39m np\u001b[38;5;241m.\u001b[39masarray(result, dtype\u001b[38;5;241m=\u001b[39mdtype)\n",
      "File \u001b[1;32m~\\AppData\\Roaming\\Python\\Python312\\site-packages\\pandas\\core\\internals\\managers.py:1694\u001b[0m, in \u001b[0;36mBlockManager.as_array\u001b[1;34m(self, dtype, copy, na_value)\u001b[0m\n\u001b[0;32m   1692\u001b[0m         arr\u001b[38;5;241m.\u001b[39mflags\u001b[38;5;241m.\u001b[39mwriteable \u001b[38;5;241m=\u001b[39m \u001b[38;5;28;01mFalse\u001b[39;00m\n\u001b[0;32m   1693\u001b[0m \u001b[38;5;28;01melse\u001b[39;00m:\n\u001b[1;32m-> 1694\u001b[0m     arr \u001b[38;5;241m=\u001b[39m \u001b[38;5;28;43mself\u001b[39;49m\u001b[38;5;241;43m.\u001b[39;49m\u001b[43m_interleave\u001b[49m\u001b[43m(\u001b[49m\u001b[43mdtype\u001b[49m\u001b[38;5;241;43m=\u001b[39;49m\u001b[43mdtype\u001b[49m\u001b[43m,\u001b[49m\u001b[43m \u001b[49m\u001b[43mna_value\u001b[49m\u001b[38;5;241;43m=\u001b[39;49m\u001b[43mna_value\u001b[49m\u001b[43m)\u001b[49m\n\u001b[0;32m   1695\u001b[0m     \u001b[38;5;66;03m# The underlying data was copied within _interleave, so no need\u001b[39;00m\n\u001b[0;32m   1696\u001b[0m     \u001b[38;5;66;03m# to further copy if copy=True or setting na_value\u001b[39;00m\n\u001b[0;32m   1698\u001b[0m \u001b[38;5;28;01mif\u001b[39;00m na_value \u001b[38;5;129;01mis\u001b[39;00m lib\u001b[38;5;241m.\u001b[39mno_default:\n",
      "File \u001b[1;32m~\\AppData\\Roaming\\Python\\Python312\\site-packages\\pandas\\core\\internals\\managers.py:1753\u001b[0m, in \u001b[0;36mBlockManager._interleave\u001b[1;34m(self, dtype, na_value)\u001b[0m\n\u001b[0;32m   1751\u001b[0m     \u001b[38;5;28;01melse\u001b[39;00m:\n\u001b[0;32m   1752\u001b[0m         arr \u001b[38;5;241m=\u001b[39m blk\u001b[38;5;241m.\u001b[39mget_values(dtype)\n\u001b[1;32m-> 1753\u001b[0m     \u001b[43mresult\u001b[49m\u001b[43m[\u001b[49m\u001b[43mrl\u001b[49m\u001b[38;5;241;43m.\u001b[39;49m\u001b[43mindexer\u001b[49m\u001b[43m]\u001b[49m \u001b[38;5;241m=\u001b[39m arr\n\u001b[0;32m   1754\u001b[0m     itemmask[rl\u001b[38;5;241m.\u001b[39mindexer] \u001b[38;5;241m=\u001b[39m \u001b[38;5;241m1\u001b[39m\n\u001b[0;32m   1756\u001b[0m \u001b[38;5;28;01mif\u001b[39;00m \u001b[38;5;129;01mnot\u001b[39;00m itemmask\u001b[38;5;241m.\u001b[39mall():\n",
      "\u001b[1;31mValueError\u001b[0m: could not convert string to float: 'male'"
     ]
    }
   ],
   "source": [
    "correlation_matrix = df.corr()\n",
    "\n",
    "# Exibir a matriz de correlação\n",
    "print(\"Matriz de Correlação:\")\n",
    "print(correlation_matrix)\n",
    "\n",
    "# Visualizar a matriz de correlação com um heatmap\n",
    "plt.figure(figsize=(10, 8))\n",
    "sns.heatmap(correlation_matrix, annot=True, cmap='coolwarm', fmt=\".2f\")\n",
    "plt.title(\"Matriz de Correlação entre os Atributos\")\n",
    "plt.show()"
   ]
  }
 ],
 "metadata": {
  "kernelspec": {
   "display_name": "Python 3",
   "language": "python",
   "name": "python3"
  },
  "language_info": {
   "codemirror_mode": {
    "name": "ipython",
    "version": 3
   },
   "file_extension": ".py",
   "mimetype": "text/x-python",
   "name": "python",
   "nbconvert_exporter": "python",
   "pygments_lexer": "ipython3",
   "version": "3.12.7"
  },
  "papermill": {
   "default_parameters": {},
   "duration": 7.571979,
   "end_time": "2024-12-19T17:42:07.790732",
   "environment_variables": {},
   "exception": true,
   "input_path": "..\\3_transformar\\3_similaridade.ipynb",
   "output_path": "..\\3_transformar\\3_similaridade.ipynb",
   "parameters": {},
   "start_time": "2024-12-19T17:42:00.218753",
   "version": "2.6.0"
  }
 },
 "nbformat": 4,
 "nbformat_minor": 5
}