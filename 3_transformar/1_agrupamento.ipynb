{
 "cells": [
  {
   "cell_type": "code",
   "execution_count": 1,
   "id": "645363dc",
   "metadata": {
    "execution": {
     "iopub.execute_input": "2024-12-18T15:07:47.262908Z",
     "iopub.status.busy": "2024-12-18T15:07:47.262908Z",
     "iopub.status.idle": "2024-12-18T15:07:48.996896Z",
     "shell.execute_reply": "2024-12-18T15:07:48.996896Z"
    },
    "papermill": {
     "duration": 1.744995,
     "end_time": "2024-12-18T15:07:48.998902",
     "exception": false,
     "start_time": "2024-12-18T15:07:47.253907",
     "status": "completed"
    },
    "tags": []
   },
   "outputs": [],
   "source": [
    "import pandas as pd\n",
    "import numpy as np\n",
    "\n",
    "df = pd.read_csv('../base_dados/beber_copia.csv', low_memory=False)\n"
   ]
  },
  {
   "cell_type": "markdown",
   "id": "efae8fa1",
   "metadata": {
    "papermill": {
     "duration": 0.018995,
     "end_time": "2024-12-18T15:07:49.029901",
     "exception": false,
     "start_time": "2024-12-18T15:07:49.010906",
     "status": "completed"
    },
    "tags": []
   },
   "source": [
    "#### Para atributos que já possuiem um intervalo, os mesmos serão agrupados"
   ]
  },
  {
   "cell_type": "code",
   "execution_count": 2,
   "id": "fbdc6bf0",
   "metadata": {
    "execution": {
     "iopub.execute_input": "2024-12-18T15:07:49.067902Z",
     "iopub.status.busy": "2024-12-18T15:07:49.067902Z",
     "iopub.status.idle": "2024-12-18T15:07:49.247694Z",
     "shell.execute_reply": "2024-12-18T15:07:49.247694Z"
    },
    "papermill": {
     "duration": 0.197798,
     "end_time": "2024-12-18T15:07:49.248699",
     "exception": false,
     "start_time": "2024-12-18T15:07:49.050901",
     "status": "completed"
    },
    "tags": []
   },
   "outputs": [],
   "source": [
    "\n",
    "def classificar_sbp(sbp):\n",
    "    if sbp < 90:\n",
    "        return 'hipotensao'\n",
    "    elif 90 <= sbp <= 120:\n",
    "        return 'normal'\n",
    "    elif 121 <= sbp <= 129:\n",
    "        return 'limite'\n",
    "    elif 130 <= sbp <= 139:\n",
    "        return 'hipertensao_estagio_1'\n",
    "    elif 140 <= sbp <= 179:\n",
    "        return 'hipertensao_estagio_2'\n",
    "    elif sbp >= 180:\n",
    "        return 'crise_hipertensiva'\n",
    "    else:\n",
    "        return 'valor_invalido'\n",
    "\n",
    "df['sbp_grupo'] = df['sbp'].apply(classificar_sbp)\n",
    "\n"
   ]
  },
  {
   "cell_type": "code",
   "execution_count": 3,
   "id": "0201335d",
   "metadata": {
    "execution": {
     "iopub.execute_input": "2024-12-18T15:07:49.276714Z",
     "iopub.status.busy": "2024-12-18T15:07:49.275716Z",
     "iopub.status.idle": "2024-12-18T15:07:49.434965Z",
     "shell.execute_reply": "2024-12-18T15:07:49.434965Z"
    },
    "papermill": {
     "duration": 0.179272,
     "end_time": "2024-12-18T15:07:49.436972",
     "exception": false,
     "start_time": "2024-12-18T15:07:49.257700",
     "status": "completed"
    },
    "tags": []
   },
   "outputs": [],
   "source": [
    "def classificar_dbp(dbp):\n",
    "    if dbp < 60:\n",
    "        return 'hipotensao'\n",
    "    elif 60 <= dbp <= 80:\n",
    "        return 'normal'\n",
    "    elif 81 <= dbp <= 89:\n",
    "        return 'limite'\n",
    "    elif 90 <= dbp <= 99:\n",
    "        return 'hipertensao_estagio_1'\n",
    "    elif 100 <= dbp <= 119:\n",
    "        return 'hipertensao_estagio_2'\n",
    "    elif dbp >= 120:\n",
    "        return 'crise_hipertensiva'\n",
    "    else:\n",
    "        return 'valor_invalido'\n",
    "\n",
    "df['dbp_grupo'] = df['dbp'].apply(classificar_dbp)\n"
   ]
  },
  {
   "cell_type": "code",
   "execution_count": 4,
   "id": "ae5bcc30",
   "metadata": {
    "execution": {
     "iopub.execute_input": "2024-12-18T15:07:49.463977Z",
     "iopub.status.busy": "2024-12-18T15:07:49.463977Z",
     "iopub.status.idle": "2024-12-18T15:07:49.599054Z",
     "shell.execute_reply": "2024-12-18T15:07:49.599054Z"
    },
    "papermill": {
     "duration": 0.153088,
     "end_time": "2024-12-18T15:07:49.600059",
     "exception": false,
     "start_time": "2024-12-18T15:07:49.446971",
     "status": "completed"
    },
    "tags": []
   },
   "outputs": [],
   "source": [
    "def classificar_blds(blds):\n",
    "    if blds < 100:\n",
    "        return 'normal'\n",
    "    elif 100 <= blds <= 125:\n",
    "        return 'pre_diabetes'\n",
    "    elif blds >= 126:\n",
    "        return 'diabetes'\n",
    "    else:\n",
    "        return 'valor_invalido'\n",
    "\n",
    "# aplicar a classificação ao dataframe carregado\n",
    "df['blds_grupo'] = df['blds'].apply(classificar_blds)\n"
   ]
  },
  {
   "cell_type": "code",
   "execution_count": null,
   "id": "66464852",
   "metadata": {
    "papermill": {
     "duration": 0.015006,
     "end_time": "2024-12-18T15:07:49.625065",
     "exception": false,
     "start_time": "2024-12-18T15:07:49.610059",
     "status": "completed"
    },
    "tags": []
   },
   "outputs": [],
   "source": []
  },
  {
   "cell_type": "code",
   "execution_count": 5,
   "id": "288988cb",
   "metadata": {
    "execution": {
     "iopub.execute_input": "2024-12-18T15:07:49.658060Z",
     "iopub.status.busy": "2024-12-18T15:07:49.658060Z",
     "iopub.status.idle": "2024-12-18T15:07:49.842722Z",
     "shell.execute_reply": "2024-12-18T15:07:49.842722Z"
    },
    "papermill": {
     "duration": 0.202667,
     "end_time": "2024-12-18T15:07:49.843726",
     "exception": false,
     "start_time": "2024-12-18T15:07:49.641059",
     "status": "completed"
    },
    "tags": []
   },
   "outputs": [],
   "source": [
    "def classificar_tot_chole(tot_chole):\n",
    "    if tot_chole < 200:\n",
    "        return 'desejavel'\n",
    "    elif 200 <= tot_chole <= 239:\n",
    "        return 'limite'\n",
    "    elif tot_chole >= 240:\n",
    "        return 'alto'\n",
    "    else:\n",
    "        return 'valor_invalido'\n",
    "\n",
    "# aplicar a classificação ao dataframe carregado\n",
    "df['tot_chole_grupo'] = df['tot_chole'].apply(classificar_tot_chole)"
   ]
  },
  {
   "cell_type": "code",
   "execution_count": 6,
   "id": "895dc60b",
   "metadata": {
    "execution": {
     "iopub.execute_input": "2024-12-18T15:07:49.868730Z",
     "iopub.status.busy": "2024-12-18T15:07:49.867730Z",
     "iopub.status.idle": "2024-12-18T15:07:55.928757Z",
     "shell.execute_reply": "2024-12-18T15:07:55.928757Z"
    },
    "papermill": {
     "duration": 6.078036,
     "end_time": "2024-12-18T15:07:55.929762",
     "exception": false,
     "start_time": "2024-12-18T15:07:49.851726",
     "status": "completed"
    },
    "tags": []
   },
   "outputs": [],
   "source": [
    "def classificar_hdl_chole(hdl_chole, sex):\n",
    "    if sex == 'male':\n",
    "        if hdl_chole < 40:\n",
    "            return 'baixo_risco_alto'\n",
    "        elif 40 <= hdl_chole <= 59:\n",
    "            return 'normal'\n",
    "        elif hdl_chole >= 60:\n",
    "            return 'alto_protecao'\n",
    "        else:\n",
    "            return 'valor_invalido'\n",
    "    elif sex == 'female':\n",
    "        if hdl_chole < 50:\n",
    "            return 'baixo_risco_alto'\n",
    "        elif 50 <= hdl_chole <= 59:\n",
    "            return 'normal'\n",
    "        elif hdl_chole >= 60:\n",
    "            return 'alto_protecao'\n",
    "        else:\n",
    "            return 'valor_invalido'\n",
    "    else:\n",
    "        return 'sexo_invalido'\n",
    "\n",
    "df['hdl_chole_grupo'] = df.apply(lambda row: classificar_hdl_chole(row['hdl_chole'], row['sex']), axis=1)\n"
   ]
  },
  {
   "cell_type": "code",
   "execution_count": 7,
   "id": "33e3b94a",
   "metadata": {
    "execution": {
     "iopub.execute_input": "2024-12-18T15:07:55.956766Z",
     "iopub.status.busy": "2024-12-18T15:07:55.956766Z",
     "iopub.status.idle": "2024-12-18T15:07:56.158564Z",
     "shell.execute_reply": "2024-12-18T15:07:56.158564Z"
    },
    "papermill": {
     "duration": 0.221808,
     "end_time": "2024-12-18T15:07:56.159570",
     "exception": false,
     "start_time": "2024-12-18T15:07:55.937762",
     "status": "completed"
    },
    "tags": []
   },
   "outputs": [],
   "source": [
    "def classificar_ldl_chole(ldl_chole):\n",
    "    if ldl_chole < 100:\n",
    "        return 'otimo'\n",
    "    elif 100 <= ldl_chole <= 129:\n",
    "        return 'desejavel'\n",
    "    elif 130 <= ldl_chole <= 159:\n",
    "        return 'limite'\n",
    "    elif 160 <= ldl_chole <= 189:\n",
    "        return 'alto'\n",
    "    elif ldl_chole >= 190:\n",
    "        return 'muito_alto'\n",
    "    else:\n",
    "        return 'valor_invalido'\n",
    "\n",
    "df['ldl_chole_grupo'] = df['ldl_chole'].apply(classificar_ldl_chole)"
   ]
  },
  {
   "cell_type": "code",
   "execution_count": 8,
   "id": "2296239f",
   "metadata": {
    "execution": {
     "iopub.execute_input": "2024-12-18T15:07:56.186577Z",
     "iopub.status.busy": "2024-12-18T15:07:56.185578Z",
     "iopub.status.idle": "2024-12-18T15:07:56.314954Z",
     "shell.execute_reply": "2024-12-18T15:07:56.314954Z"
    },
    "papermill": {
     "duration": 0.147392,
     "end_time": "2024-12-18T15:07:56.315961",
     "exception": false,
     "start_time": "2024-12-18T15:07:56.168569",
     "status": "completed"
    },
    "tags": []
   },
   "outputs": [],
   "source": [
    "def classificar_triglyceride(triglyceride):\n",
    "    if triglyceride < 150:\n",
    "        return 'normal'\n",
    "    elif 150 <= triglyceride <= 199:\n",
    "        return 'limite'\n",
    "    elif 200 <= triglyceride <= 499:\n",
    "        return 'alto'\n",
    "    elif triglyceride >= 500:\n",
    "        return 'muito_alto'\n",
    "    else:\n",
    "        return 'valor_invalido'\n",
    "\n",
    "df['triglyceride_grupo'] = df['triglyceride'].apply(classificar_triglyceride)\n"
   ]
  },
  {
   "cell_type": "code",
   "execution_count": null,
   "id": "1e3d1d96",
   "metadata": {
    "papermill": {
     "duration": 0.015998,
     "end_time": "2024-12-18T15:07:56.340960",
     "exception": false,
     "start_time": "2024-12-18T15:07:56.324962",
     "status": "completed"
    },
    "tags": []
   },
   "outputs": [],
   "source": []
  },
  {
   "cell_type": "code",
   "execution_count": 9,
   "id": "5165c175",
   "metadata": {
    "execution": {
     "iopub.execute_input": "2024-12-18T15:07:56.369962Z",
     "iopub.status.busy": "2024-12-18T15:07:56.369962Z",
     "iopub.status.idle": "2024-12-18T15:08:02.390772Z",
     "shell.execute_reply": "2024-12-18T15:08:02.390772Z"
    },
    "papermill": {
     "duration": 6.036815,
     "end_time": "2024-12-18T15:08:02.391777",
     "exception": false,
     "start_time": "2024-12-18T15:07:56.354962",
     "status": "completed"
    },
    "tags": []
   },
   "outputs": [],
   "source": [
    "def classificar_hemoglobin(hemoglobin, sex):\n",
    "    if sex == 'male':\n",
    "        if hemoglobin < 13.5:\n",
    "            return 'baixo'\n",
    "        elif 13.5 <= hemoglobin <= 17.5:\n",
    "            return 'normal'\n",
    "        else:\n",
    "            return 'alto'\n",
    "    elif sex == 'female':\n",
    "        if hemoglobin < 12.0:\n",
    "            return 'baixo'\n",
    "        elif 12.0 <= hemoglobin <= 15.5:\n",
    "            return 'normal'\n",
    "        else:\n",
    "            return 'alto'\n",
    "    else:\n",
    "        return 'valor_invalido'\n",
    "\n",
    "df['hemoglobin_grupo'] = df.apply(lambda row: classificar_hemoglobin(row['hemoglobin'], row['sex']), axis=1)"
   ]
  },
  {
   "cell_type": "code",
   "execution_count": 10,
   "id": "ac141084",
   "metadata": {
    "execution": {
     "iopub.execute_input": "2024-12-18T15:08:02.416288Z",
     "iopub.status.busy": "2024-12-18T15:08:02.416288Z",
     "iopub.status.idle": "2024-12-18T15:08:08.565018Z",
     "shell.execute_reply": "2024-12-18T15:08:08.565018Z"
    },
    "papermill": {
     "duration": 6.164735,
     "end_time": "2024-12-18T15:08:08.566022",
     "exception": false,
     "start_time": "2024-12-18T15:08:02.401287",
     "status": "completed"
    },
    "tags": []
   },
   "outputs": [],
   "source": [
    "def classificar_serum_creatinine(creatinine, sex):\n",
    "    if sex == 'male':\n",
    "        if creatinine < 0.7:\n",
    "            return 'baixo'\n",
    "        elif 0.7 <= creatinine <= 1.3:\n",
    "            return 'normal'\n",
    "        else:\n",
    "            return 'alto'\n",
    "    elif sex == 'female':\n",
    "        if creatinine < 0.6:\n",
    "            return 'baixo'\n",
    "        elif 0.6 <= creatinine <= 1.1:\n",
    "            return 'normal'\n",
    "        else:\n",
    "            return 'alto'\n",
    "    else:\n",
    "        return 'valor_invalido'\n",
    "\n",
    "df['serum_creatinine_grupo'] = df.apply(lambda row: classificar_serum_creatinine(row['serum_creatinine'], row['sex']), axis=1)"
   ]
  },
  {
   "cell_type": "code",
   "execution_count": 11,
   "id": "f4a22567",
   "metadata": {
    "execution": {
     "iopub.execute_input": "2024-12-18T15:08:08.590031Z",
     "iopub.status.busy": "2024-12-18T15:08:08.590031Z",
     "iopub.status.idle": "2024-12-18T15:08:08.727221Z",
     "shell.execute_reply": "2024-12-18T15:08:08.727221Z"
    },
    "papermill": {
     "duration": 0.153202,
     "end_time": "2024-12-18T15:08:08.728226",
     "exception": false,
     "start_time": "2024-12-18T15:08:08.575024",
     "status": "completed"
    },
    "tags": []
   },
   "outputs": [],
   "source": [
    "def classificar_sgot_ast(ast):\n",
    "    if ast <= 40:\n",
    "        return 'normal'\n",
    "    else:\n",
    "        return 'elevado'\n",
    "\n",
    "df['sgot_ast_grupo'] = df['sgot_ast'].apply(classificar_sgot_ast)\n"
   ]
  },
  {
   "cell_type": "code",
   "execution_count": 12,
   "id": "302fc701",
   "metadata": {
    "execution": {
     "iopub.execute_input": "2024-12-18T15:08:08.752232Z",
     "iopub.status.busy": "2024-12-18T15:08:08.751225Z",
     "iopub.status.idle": "2024-12-18T15:08:08.890957Z",
     "shell.execute_reply": "2024-12-18T15:08:08.890957Z"
    },
    "papermill": {
     "duration": 0.155736,
     "end_time": "2024-12-18T15:08:08.891961",
     "exception": false,
     "start_time": "2024-12-18T15:08:08.736225",
     "status": "completed"
    },
    "tags": []
   },
   "outputs": [],
   "source": [
    "def classificar_sgot_ast(ast):\n",
    "    if ast <= 40:\n",
    "        return 'normal'\n",
    "    else:\n",
    "        return 'elevado'\n",
    "\n",
    "df['sgot_ast_grupo'] = df['sgot_ast'].apply(classificar_sgot_ast)\n"
   ]
  },
  {
   "cell_type": "code",
   "execution_count": 13,
   "id": "be941145",
   "metadata": {
    "execution": {
     "iopub.execute_input": "2024-12-18T15:08:08.919482Z",
     "iopub.status.busy": "2024-12-18T15:08:08.918479Z",
     "iopub.status.idle": "2024-12-18T15:08:15.030740Z",
     "shell.execute_reply": "2024-12-18T15:08:15.030740Z"
    },
    "papermill": {
     "duration": 6.129268,
     "end_time": "2024-12-18T15:08:15.031744",
     "exception": false,
     "start_time": "2024-12-18T15:08:08.902476",
     "status": "completed"
    },
    "tags": []
   },
   "outputs": [],
   "source": [
    "def classificar_gamma_gtp(gtp, sex):\n",
    "    if sex == 'male':\n",
    "        if gtp <= 71:\n",
    "            return 'normal'\n",
    "        else:\n",
    "            return 'elevado'\n",
    "    elif sex == 'female':\n",
    "        if gtp <= 42:\n",
    "            return 'normal'\n",
    "        else:\n",
    "            return 'elevado'\n",
    "    else:\n",
    "        return 'valor_invalido'\n",
    "\n",
    "df['gamma_gtp_grupo'] = df.apply(lambda row: classificar_gamma_gtp(row['gamma_gtp'], row['sex']), axis=1)"
   ]
  },
  {
   "cell_type": "code",
   "execution_count": null,
   "id": "4494723b",
   "metadata": {
    "papermill": {
     "duration": 0.014002,
     "end_time": "2024-12-18T15:08:15.054748",
     "exception": false,
     "start_time": "2024-12-18T15:08:15.040746",
     "status": "completed"
    },
    "tags": []
   },
   "outputs": [],
   "source": []
  },
  {
   "cell_type": "code",
   "execution_count": 14,
   "id": "13848c8e",
   "metadata": {
    "execution": {
     "iopub.execute_input": "2024-12-18T15:08:15.084751Z",
     "iopub.status.busy": "2024-12-18T15:08:15.083751Z",
     "iopub.status.idle": "2024-12-18T15:08:15.239658Z",
     "shell.execute_reply": "2024-12-18T15:08:15.238654Z"
    },
    "papermill": {
     "duration": 0.172913,
     "end_time": "2024-12-18T15:08:15.241660",
     "exception": false,
     "start_time": "2024-12-18T15:08:15.068747",
     "status": "completed"
    },
    "tags": []
   },
   "outputs": [],
   "source": [
    "atributos_remover = ['sbp', 'dbp', 'blds', 'tot_chole', 'hdl_chole', 'ldl_chole', 'triglyceride', 'hemoglobin','hemoglobin', 'serum_creatinine', 'sgot_ast', 'sgot_alt', 'gamma_gtp']\n",
    "\n",
    "df = df.drop(columns=atributos_remover)"
   ]
  },
  {
   "cell_type": "code",
   "execution_count": 15,
   "id": "dcbf44b7",
   "metadata": {
    "execution": {
     "iopub.execute_input": "2024-12-18T15:08:15.266661Z",
     "iopub.status.busy": "2024-12-18T15:08:15.265662Z",
     "iopub.status.idle": "2024-12-18T15:08:15.269429Z",
     "shell.execute_reply": "2024-12-18T15:08:15.269429Z"
    },
    "papermill": {
     "duration": 0.019776,
     "end_time": "2024-12-18T15:08:15.270436",
     "exception": false,
     "start_time": "2024-12-18T15:08:15.250660",
     "status": "completed"
    },
    "tags": []
   },
   "outputs": [
    {
     "name": "stdout",
     "output_type": "stream",
     "text": [
      "Atributos do DataFrame:\n",
      "['sex', 'age', 'height', 'weight', 'waistline', 'sight_left', 'sight_right', 'hear_left', 'hear_right', 'urine_protein', 'smk_stat_type_cd', 'drk_yn', 'sbp_grupo', 'dbp_grupo', 'blds_grupo', 'tot_chole_grupo', 'hdl_chole_grupo', 'ldl_chole_grupo', 'triglyceride_grupo', 'hemoglobin_grupo', 'serum_creatinine_grupo', 'sgot_ast_grupo', 'gamma_gtp_grupo']\n"
     ]
    }
   ],
   "source": [
    "print(\"Atributos do DataFrame:\")\n",
    "print(df.columns.tolist())"
   ]
  },
  {
   "cell_type": "code",
   "execution_count": 16,
   "id": "af36f19a",
   "metadata": {
    "execution": {
     "iopub.execute_input": "2024-12-18T15:08:15.294440Z",
     "iopub.status.busy": "2024-12-18T15:08:15.293440Z",
     "iopub.status.idle": "2024-12-18T15:08:19.941268Z",
     "shell.execute_reply": "2024-12-18T15:08:19.941268Z"
    },
    "papermill": {
     "duration": 4.662844,
     "end_time": "2024-12-18T15:08:19.942278",
     "exception": false,
     "start_time": "2024-12-18T15:08:15.279434",
     "status": "completed"
    },
    "tags": []
   },
   "outputs": [],
   "source": [
    "df.to_csv('../base_dados/beber_copia.csv', index=False)\n"
   ]
  }
 ],
 "metadata": {
  "kernelspec": {
   "display_name": "Python 3",
   "language": "python",
   "name": "python3"
  },
  "language_info": {
   "codemirror_mode": {
    "name": "ipython",
    "version": 3
   },
   "file_extension": ".py",
   "mimetype": "text/x-python",
   "name": "python",
   "nbconvert_exporter": "python",
   "pygments_lexer": "ipython3",
   "version": "3.12.7"
  },
  "papermill": {
   "default_parameters": {},
   "duration": 34.260652,
   "end_time": "2024-12-18T15:08:20.259391",
   "environment_variables": {},
   "exception": null,
   "input_path": "..\\3_transformar\\1_agrupamento.ipynb",
   "output_path": "..\\3_transformar\\1_agrupamento.ipynb",
   "parameters": {},
   "start_time": "2024-12-18T15:07:45.998739",
   "version": "2.6.0"
  }
 },
 "nbformat": 4,
 "nbformat_minor": 5
}