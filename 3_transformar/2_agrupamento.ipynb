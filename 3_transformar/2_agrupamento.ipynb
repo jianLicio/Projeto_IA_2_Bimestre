{
 "cells": [
  {
   "cell_type": "markdown",
   "id": "1b619103",
   "metadata": {
    "tags": [
     "papermill-error-cell-tag"
    ]
   },
   "source": [
    "<span style=\"color:red; font-family:Helvetica Neue, Helvetica, Arial, sans-serif; font-size:2em;\">An Exception was encountered at '<a href=\"#papermill-error-cell\">In [1]</a>'.</span>"
   ]
  },
  {
   "cell_type": "markdown",
   "id": "a0ca20e4",
   "metadata": {
    "tags": [
     "papermill-error-cell-tag"
    ]
   },
   "source": [
    "<span id=\"papermill-error-cell\" style=\"color:red; font-family:Helvetica Neue, Helvetica, Arial, sans-serif; font-size:2em;\">Execution using papermill encountered an exception here and stopped:</span>"
   ]
  },
  {
   "cell_type": "code",
   "execution_count": 1,
   "id": "645363dc",
   "metadata": {
    "execution": {
     "iopub.execute_input": "2024-12-20T18:15:20.622429Z",
     "iopub.status.busy": "2024-12-20T18:15:20.622429Z",
     "iopub.status.idle": "2024-12-20T18:15:21.423578Z",
     "shell.execute_reply": "2024-12-20T18:15:21.423578Z"
    },
    "papermill": {
     "duration": 0.810155,
     "end_time": "2024-12-20T18:15:21.424582",
     "exception": true,
     "start_time": "2024-12-20T18:15:20.614427",
     "status": "failed"
    },
    "tags": []
   },
   "outputs": [],
   "source": [
    "import pandas as pd\n",
    "import numpy as np\n",
    "\n",
    "df = pd.read_csv('../base_dados/beber_copia2.csv', low_memory=False)\n"
   ]
  },
  {
   "cell_type": "markdown",
   "id": "efae8fa1",
   "metadata": {
    "papermill": {
     "duration": null,
     "end_time": null,
     "exception": null,
     "start_time": null,
     "status": "pending"
    },
    "tags": []
   },
   "source": [
    "#### Para atributos que já possuiem um intervalo, os mesmos serão agrupados"
   ]
  },
  {
   "cell_type": "code",
   "execution_count": 2,
   "id": "fbdc6bf0",
   "metadata": {
    "execution": {
     "iopub.execute_input": "2024-12-20T13:48:32.657839Z",
     "iopub.status.busy": "2024-12-20T13:48:32.657839Z",
     "iopub.status.idle": "2024-12-20T13:48:32.948932Z",
     "shell.execute_reply": "2024-12-20T13:48:32.948932Z"
    },
    "papermill": {
     "duration": null,
     "end_time": null,
     "exception": null,
     "start_time": null,
     "status": "pending"
    },
    "tags": []
   },
   "outputs": [],
   "source": [
    "def classificar_sbp(sbp):\n",
    "    if sbp < 90:\n",
    "        return 90\n",
    "    elif 90 <= sbp <= 120:\n",
    "        return 120\n",
    "    elif 121 <= sbp <= 129: \n",
    "        return 129\n",
    "    elif 130 <= sbp <= 139:\n",
    "        return 139\n",
    "    elif 140 <= sbp <= 179:\n",
    "        return 179\n",
    "    elif sbp >= 180:\n",
    "        return 199\n",
    "    else:\n",
    "        return 0\n",
    "\n",
    "df['sbp_grupo'] = df['sbp'].apply(classificar_sbp)\n"
   ]
  },
  {
   "cell_type": "code",
   "execution_count": 3,
   "id": "0201335d",
   "metadata": {
    "execution": {
     "iopub.execute_input": "2024-12-20T13:48:32.974451Z",
     "iopub.status.busy": "2024-12-20T13:48:32.974451Z",
     "iopub.status.idle": "2024-12-20T13:48:33.240774Z",
     "shell.execute_reply": "2024-12-20T13:48:33.240774Z"
    },
    "papermill": {
     "duration": null,
     "end_time": null,
     "exception": null,
     "start_time": null,
     "status": "pending"
    },
    "tags": []
   },
   "outputs": [],
   "source": [
    "def classificar_dbp(dbp):\n",
    "    if dbp < 60:\n",
    "        return 60\n",
    "    elif 60 <= dbp <= 80:\n",
    "        return 80\n",
    "    elif 81 <= dbp <= 89:\n",
    "        return 89\n",
    "    elif 90 <= dbp <= 99:\n",
    "        return 99\n",
    "    elif 100 <= dbp <= 119:\n",
    "        return 119\n",
    "    elif dbp >= 120:\n",
    "        return 140\n",
    "    else:\n",
    "        return 0\n",
    "\n",
    "df['dbp_grupo'] = df['dbp'].apply(classificar_dbp)\n"
   ]
  },
  {
   "cell_type": "code",
   "execution_count": 4,
   "id": "ae5bcc30",
   "metadata": {
    "execution": {
     "iopub.execute_input": "2024-12-20T13:48:33.277294Z",
     "iopub.status.busy": "2024-12-20T13:48:33.276293Z",
     "iopub.status.idle": "2024-12-20T13:48:33.519170Z",
     "shell.execute_reply": "2024-12-20T13:48:33.519170Z"
    },
    "papermill": {
     "duration": null,
     "end_time": null,
     "exception": null,
     "start_time": null,
     "status": "pending"
    },
    "tags": []
   },
   "outputs": [],
   "source": [
    "def classificar_blds(blds):\n",
    "    if blds < 100:\n",
    "        return 100\n",
    "    elif 100 <= blds <= 125:\n",
    "        return 125\n",
    "    elif blds >= 126:\n",
    "        return 150\n",
    "    else:\n",
    "        return 0\n",
    "\n",
    "# aplicar a classificação ao dataframe carregado\n",
    "df['blds_grupo'] = df['blds'].apply(classificar_blds)\n"
   ]
  },
  {
   "cell_type": "code",
   "execution_count": 5,
   "id": "5165c175",
   "metadata": {
    "execution": {
     "iopub.execute_input": "2024-12-20T13:48:40.998067Z",
     "iopub.status.busy": "2024-12-20T13:48:40.998067Z",
     "iopub.status.idle": "2024-12-20T13:48:47.295020Z",
     "shell.execute_reply": "2024-12-20T13:48:47.294006Z"
    },
    "papermill": {
     "duration": null,
     "end_time": null,
     "exception": null,
     "start_time": null,
     "status": "pending"
    },
    "tags": []
   },
   "outputs": [],
   "source": [
    "def classificar_hemoglobin(hemoglobin, sex):\n",
    "   \n",
    "        if hemoglobin < 13.5:\n",
    "            return 13\n",
    "        elif 13.5 <= hemoglobin <= 17.5:\n",
    "            return 17\n",
    "        else:\n",
    "            return 21\n",
    "\n",
    "df['hemoglobin_grupo'] = df.apply(lambda row: classificar_hemoglobin(row['hemoglobin'], row['sex']), axis=1)"
   ]
  },
  {
   "cell_type": "code",
   "execution_count": 6,
   "id": "13848c8e",
   "metadata": {
    "execution": {
     "iopub.execute_input": "2024-12-20T13:49:00.207233Z",
     "iopub.status.busy": "2024-12-20T13:49:00.207233Z",
     "iopub.status.idle": "2024-12-20T13:49:00.298051Z",
     "shell.execute_reply": "2024-12-20T13:49:00.298051Z"
    },
    "papermill": {
     "duration": null,
     "end_time": null,
     "exception": null,
     "start_time": null,
     "status": "pending"
    },
    "tags": []
   },
   "outputs": [],
   "source": [
    "atributos_remover = ['sbp', 'dbp', 'blds', 'hemoglobin','hemoglobin', 'sgot_alt']\n",
    "\n",
    "df = df.drop(columns=atributos_remover)"
   ]
  },
  {
   "cell_type": "code",
   "execution_count": 7,
   "id": "dcbf44b7",
   "metadata": {
    "execution": {
     "iopub.execute_input": "2024-12-20T13:49:00.328058Z",
     "iopub.status.busy": "2024-12-20T13:49:00.328058Z",
     "iopub.status.idle": "2024-12-20T13:49:00.332300Z",
     "shell.execute_reply": "2024-12-20T13:49:00.332300Z"
    },
    "papermill": {
     "duration": null,
     "end_time": null,
     "exception": null,
     "start_time": null,
     "status": "pending"
    },
    "tags": []
   },
   "outputs": [
    {
     "name": "stdout",
     "output_type": "stream",
     "text": [
      "Atributos do DataFrame:\n",
      "['sex', 'age', 'height', 'weight', 'waistline', 'sight_left', 'sight_right', 'hear_left', 'hear_right', 'tot_chole', 'hdl_chole', 'ldl_chole', 'triglyceride', 'urine_protein', 'serum_creatinine', 'sgot_ast', 'gamma_gtp', 'smk_stat_type_cd', 'drk_yn', 'sbp_grupo', 'dbp_grupo', 'blds_grupo', 'hemoglobin_grupo']\n"
     ]
    }
   ],
   "source": [
    "print(\"Atributos do DataFrame:\")\n",
    "print(df.columns.tolist())"
   ]
  },
  {
   "cell_type": "code",
   "execution_count": 8,
   "id": "af36f19a",
   "metadata": {
    "execution": {
     "iopub.execute_input": "2024-12-20T13:49:00.362312Z",
     "iopub.status.busy": "2024-12-20T13:49:00.362312Z",
     "iopub.status.idle": "2024-12-20T13:49:04.369567Z",
     "shell.execute_reply": "2024-12-20T13:49:04.369567Z"
    },
    "papermill": {
     "duration": null,
     "end_time": null,
     "exception": null,
     "start_time": null,
     "status": "pending"
    },
    "tags": []
   },
   "outputs": [],
   "source": [
    "df.to_csv('../base_dados/beber_copia2.csv', index=False)\n"
   ]
  }
 ],
 "metadata": {
  "kernelspec": {
   "display_name": "Python 3",
   "language": "python",
   "name": "python3"
  },
  "language_info": {
   "codemirror_mode": {
    "name": "ipython",
    "version": 3
   },
   "file_extension": ".py",
   "mimetype": "text/x-python",
   "name": "python",
   "nbconvert_exporter": "python",
   "pygments_lexer": "ipython3",
   "version": "3.12.7"
  },
  "papermill": {
   "default_parameters": {},
   "duration": 2.48996,
   "end_time": "2024-12-20T18:15:21.847143",
   "environment_variables": {},
   "exception": true,
   "input_path": "..\\3_transformar\\2_agrupamento.ipynb",
   "output_path": "..\\3_transformar\\2_agrupamento.ipynb",
   "parameters": {},
   "start_time": "2024-12-20T18:15:19.357183",
   "version": "2.6.0"
  }
 },
 "nbformat": 4,
 "nbformat_minor": 5
}
