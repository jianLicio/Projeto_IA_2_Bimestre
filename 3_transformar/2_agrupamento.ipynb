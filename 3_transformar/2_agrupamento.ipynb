{
 "cells": [
  {
   "cell_type": "code",
   "execution_count": 1,
   "id": "645363dc",
   "metadata": {
    "execution": {
     "iopub.execute_input": "2024-12-27T15:56:32.866630Z",
     "iopub.status.busy": "2024-12-27T15:56:32.865630Z",
     "iopub.status.idle": "2024-12-27T15:56:34.278119Z",
     "shell.execute_reply": "2024-12-27T15:56:34.278119Z"
    },
    "papermill": {
     "duration": 1.420494,
     "end_time": "2024-12-27T15:56:34.279123",
     "exception": false,
     "start_time": "2024-12-27T15:56:32.858629",
     "status": "completed"
    },
    "tags": []
   },
   "outputs": [],
   "source": [
    "import pandas as pd\n",
    "import numpy as np\n",
    "\n",
    "df = pd.read_csv('../base_dados/beber_copia2.csv', low_memory=False)\n"
   ]
  },
  {
   "cell_type": "markdown",
   "id": "efae8fa1",
   "metadata": {
    "papermill": {
     "duration": 0.016,
     "end_time": "2024-12-27T15:56:34.302123",
     "exception": false,
     "start_time": "2024-12-27T15:56:34.286123",
     "status": "completed"
    },
    "tags": []
   },
   "source": [
    "#### Para atributos que já possuiem um intervalo, os mesmos serão agrupados"
   ]
  },
  {
   "cell_type": "code",
   "execution_count": 2,
   "id": "fbdc6bf0",
   "metadata": {
    "execution": {
     "iopub.execute_input": "2024-12-27T15:56:34.333126Z",
     "iopub.status.busy": "2024-12-27T15:56:34.332124Z",
     "iopub.status.idle": "2024-12-27T15:56:34.613160Z",
     "shell.execute_reply": "2024-12-27T15:56:34.613160Z"
    },
    "papermill": {
     "duration": 0.298043,
     "end_time": "2024-12-27T15:56:34.614166",
     "exception": false,
     "start_time": "2024-12-27T15:56:34.316123",
     "status": "completed"
    },
    "tags": []
   },
   "outputs": [],
   "source": [
    "def classificar_sbp(sbp):\n",
    "    if sbp < 90:\n",
    "        return 90\n",
    "    elif 90 <= sbp <= 120:\n",
    "        return 120\n",
    "    elif 121 <= sbp <= 129: \n",
    "        return 129\n",
    "    elif 130 <= sbp <= 139:\n",
    "        return 139\n",
    "    elif 140 <= sbp <= 179:\n",
    "        return 179\n",
    "    elif sbp >= 180:\n",
    "        return 199\n",
    "    else:\n",
    "        return 0\n",
    "\n",
    "df['sbp_grupo'] = df['sbp'].apply(classificar_sbp)\n"
   ]
  },
  {
   "cell_type": "code",
   "execution_count": null,
   "id": "0201335d",
   "metadata": {
    "execution": {
     "iopub.execute_input": "2024-12-27T15:56:34.638165Z",
     "iopub.status.busy": "2024-12-27T15:56:34.638165Z",
     "iopub.status.idle": "2024-12-27T15:56:34.904816Z",
     "shell.execute_reply": "2024-12-27T15:56:34.904816Z"
    },
    "papermill": {
     "duration": 0.283652,
     "end_time": "2024-12-27T15:56:34.905820",
     "exception": false,
     "start_time": "2024-12-27T15:56:34.622168",
     "status": "completed"
    },
    "tags": []
   },
   "outputs": [],
   "source": [
    "def classificar_dbp(dbp):\n",
    "    if dbp < 60:\n",
    "        return 60\n",
    "    elif 60 <= dbp <= 80:\n",
    "        return 80\n",
    "    elif 81 <= dbp <= 89:\n",
    "        return 89\n",
    "    elif 90 <= dbp <= 99:\n",
    "        return 99\n",
    "    elif 100 <= dbp <= 119:\n",
    "        return 119\n",
    "    elif dbp >= 120:\n",
    "        return 140\n",
    "    else:\n",
    "        return 0\n",
    "\n",
    "df['dbp_grupo'] = df['dbp'].apply(classificar_dbp)\n"
   ]
  },
  {
   "cell_type": "code",
   "execution_count": 4,
   "id": "ae5bcc30",
   "metadata": {
    "execution": {
     "iopub.execute_input": "2024-12-27T15:56:34.929822Z",
     "iopub.status.busy": "2024-12-27T15:56:34.928820Z",
     "iopub.status.idle": "2024-12-27T15:56:35.168405Z",
     "shell.execute_reply": "2024-12-27T15:56:35.168405Z"
    },
    "papermill": {
     "duration": 0.256589,
     "end_time": "2024-12-27T15:56:35.169409",
     "exception": false,
     "start_time": "2024-12-27T15:56:34.912820",
     "status": "completed"
    },
    "tags": []
   },
   "outputs": [],
   "source": [
    "def classificar_blds(blds):\n",
    "    if blds < 100:\n",
    "        return 100\n",
    "    elif 100 <= blds <= 125:\n",
    "        return 125\n",
    "    elif blds >= 126:\n",
    "        return 150\n",
    "    else:\n",
    "        return 0\n",
    "\n",
    "# aplicar a classificação ao dataframe carregado\n",
    "df['blds_grupo'] = df['blds'].apply(classificar_blds)\n"
   ]
  },
  {
   "cell_type": "code",
   "execution_count": null,
   "id": "5165c175",
   "metadata": {
    "execution": {
     "iopub.execute_input": "2024-12-27T15:56:35.193413Z",
     "iopub.status.busy": "2024-12-27T15:56:35.192411Z",
     "iopub.status.idle": "2024-12-27T15:56:43.574986Z",
     "shell.execute_reply": "2024-12-27T15:56:43.574986Z"
    },
    "papermill": {
     "duration": 8.39958,
     "end_time": "2024-12-27T15:56:43.575991",
     "exception": false,
     "start_time": "2024-12-27T15:56:35.176411",
     "status": "completed"
    },
    "tags": []
   },
   "outputs": [],
   "source": [
    "def classificar_hemoglobin(hemoglobin, sex):\n",
    "   \n",
    "        if hemoglobin < 13.5:\n",
    "            return 13\n",
    "        elif 13.5 <= hemoglobin <= 17.5:\n",
    "            return 17\n",
    "        else:\n",
    "            return 21\n",
    "\n",
    "df['hemoglobin_grupo'] = df.apply(lambda row: classificar_hemoglobin(row['hemoglobin'], row['sex']), axis=1)"
   ]
  },
  {
   "cell_type": "code",
   "execution_count": 6,
   "id": "13848c8e",
   "metadata": {
    "execution": {
     "iopub.execute_input": "2024-12-27T15:56:43.602992Z",
     "iopub.status.busy": "2024-12-27T15:56:43.602992Z",
     "iopub.status.idle": "2024-12-27T15:56:43.672774Z",
     "shell.execute_reply": "2024-12-27T15:56:43.670748Z"
    },
    "papermill": {
     "duration": 0.090769,
     "end_time": "2024-12-27T15:56:43.674761",
     "exception": false,
     "start_time": "2024-12-27T15:56:43.583992",
     "status": "completed"
    },
    "tags": []
   },
   "outputs": [],
   "source": [
    "atributos_remover = ['sbp', 'dbp', 'blds', 'hemoglobin','hemoglobin', 'sgot_alt']\n",
    "\n",
    "df = df.drop(columns=atributos_remover)"
   ]
  },
  {
   "cell_type": "code",
   "execution_count": 7,
   "id": "dcbf44b7",
   "metadata": {
    "execution": {
     "iopub.execute_input": "2024-12-27T15:56:43.699760Z",
     "iopub.status.busy": "2024-12-27T15:56:43.698761Z",
     "iopub.status.idle": "2024-12-27T15:56:43.703401Z",
     "shell.execute_reply": "2024-12-27T15:56:43.703401Z"
    },
    "papermill": {
     "duration": 0.022653,
     "end_time": "2024-12-27T15:56:43.704410",
     "exception": false,
     "start_time": "2024-12-27T15:56:43.681757",
     "status": "completed"
    },
    "tags": []
   },
   "outputs": [
    {
     "name": "stdout",
     "output_type": "stream",
     "text": [
      "Atributos do DataFrame:\n",
      "['sex', 'age', 'height', 'weight', 'waistline', 'sight_left', 'sight_right', 'hear_left', 'hear_right', 'tot_chole', 'hdl_chole', 'ldl_chole', 'triglyceride', 'urine_protein', 'serum_creatinine', 'sgot_ast', 'gamma_gtp', 'smk_stat_type_cd', 'drk_yn', 'sbp_grupo', 'dbp_grupo', 'blds_grupo', 'hemoglobin_grupo']\n"
     ]
    }
   ],
   "source": [
    "print(\"Atributos do DataFrame:\")\n",
    "print(df.columns.tolist())"
   ]
  },
  {
   "cell_type": "code",
   "execution_count": 8,
   "id": "af36f19a",
   "metadata": {
    "execution": {
     "iopub.execute_input": "2024-12-27T15:56:43.737407Z",
     "iopub.status.busy": "2024-12-27T15:56:43.736408Z",
     "iopub.status.idle": "2024-12-27T15:56:47.158900Z",
     "shell.execute_reply": "2024-12-27T15:56:47.158900Z"
    },
    "papermill": {
     "duration": 3.4455,
     "end_time": "2024-12-27T15:56:47.159907",
     "exception": false,
     "start_time": "2024-12-27T15:56:43.714407",
     "status": "completed"
    },
    "tags": []
   },
   "outputs": [],
   "source": [
    "df.to_csv('../base_dados/beber_copia2.csv', index=False)\n"
   ]
  }
 ],
 "metadata": {
  "kernelspec": {
   "display_name": "Python 3",
   "language": "python",
   "name": "python3"
  },
  "language_info": {
   "codemirror_mode": {
    "name": "ipython",
    "version": 3
   },
   "file_extension": ".py",
   "mimetype": "text/x-python",
   "name": "python",
   "nbconvert_exporter": "python",
   "pygments_lexer": "ipython3",
   "version": "3.12.7"
  },
  "papermill": {
   "default_parameters": {},
   "duration": 15.874506,
   "end_time": "2024-12-27T15:56:47.485448",
   "environment_variables": {},
   "exception": null,
   "input_path": "..\\3_transformar\\2_agrupamento.ipynb",
   "output_path": "..\\3_transformar\\2_agrupamento.ipynb",
   "parameters": {},
   "start_time": "2024-12-27T15:56:31.610942",
   "version": "2.6.0"
  }
 },
 "nbformat": 4,
 "nbformat_minor": 5
}
