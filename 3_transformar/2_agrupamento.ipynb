{
 "cells": [
  {
   "cell_type": "code",
   "execution_count": 1,
   "id": "645363dc",
   "metadata": {
    "execution": {
     "iopub.execute_input": "2024-12-24T19:49:25.193247Z",
     "iopub.status.busy": "2024-12-24T19:49:25.193247Z",
     "iopub.status.idle": "2024-12-24T19:49:26.735537Z",
     "shell.execute_reply": "2024-12-24T19:49:26.735537Z"
    },
    "papermill": {
     "duration": 1.5513,
     "end_time": "2024-12-24T19:49:26.736545",
     "exception": false,
     "start_time": "2024-12-24T19:49:25.185245",
     "status": "completed"
    },
    "tags": []
   },
   "outputs": [],
   "source": [
    "import pandas as pd\n",
    "import numpy as np\n",
    "\n",
    "df = pd.read_csv('../base_dados/beber_copia2.csv', low_memory=False)\n"
   ]
  },
  {
   "cell_type": "markdown",
   "id": "efae8fa1",
   "metadata": {
    "papermill": {
     "duration": 0.015005,
     "end_time": "2024-12-24T19:49:26.760548",
     "exception": false,
     "start_time": "2024-12-24T19:49:26.745543",
     "status": "completed"
    },
    "tags": []
   },
   "source": [
    "#### Para atributos que já possuiem um intervalo, os mesmos serão agrupados"
   ]
  },
  {
   "cell_type": "code",
   "execution_count": 2,
   "id": "fbdc6bf0",
   "metadata": {
    "execution": {
     "iopub.execute_input": "2024-12-24T19:49:26.792060Z",
     "iopub.status.busy": "2024-12-24T19:49:26.792060Z",
     "iopub.status.idle": "2024-12-24T19:49:27.074489Z",
     "shell.execute_reply": "2024-12-24T19:49:27.074489Z"
    },
    "papermill": {
     "duration": 0.299436,
     "end_time": "2024-12-24T19:49:27.075495",
     "exception": false,
     "start_time": "2024-12-24T19:49:26.776059",
     "status": "completed"
    },
    "tags": []
   },
   "outputs": [],
   "source": [
    "def classificar_sbp(sbp):\n",
    "    if sbp < 90:\n",
    "        return 90\n",
    "    elif 90 <= sbp <= 120:\n",
    "        return 120\n",
    "    elif 121 <= sbp <= 129: \n",
    "        return 129\n",
    "    elif 130 <= sbp <= 139:\n",
    "        return 139\n",
    "    elif 140 <= sbp <= 179:\n",
    "        return 179\n",
    "    elif sbp >= 180:\n",
    "        return 199\n",
    "    else:\n",
    "        return 0\n",
    "\n",
    "df['sbp_grupo'] = df['sbp'].apply(classificar_sbp)\n"
   ]
  },
  {
   "cell_type": "code",
   "execution_count": 3,
   "id": "0201335d",
   "metadata": {
    "execution": {
     "iopub.execute_input": "2024-12-24T19:49:27.100497Z",
     "iopub.status.busy": "2024-12-24T19:49:27.100497Z",
     "iopub.status.idle": "2024-12-24T19:49:27.364565Z",
     "shell.execute_reply": "2024-12-24T19:49:27.364565Z"
    },
    "papermill": {
     "duration": 0.281077,
     "end_time": "2024-12-24T19:49:27.365571",
     "exception": false,
     "start_time": "2024-12-24T19:49:27.084494",
     "status": "completed"
    },
    "tags": []
   },
   "outputs": [],
   "source": [
    "def classificar_dbp(dbp):\n",
    "    if dbp < 60:\n",
    "        return 60\n",
    "    elif 60 <= dbp <= 80:\n",
    "        return 80\n",
    "    elif 81 <= dbp <= 89:\n",
    "        return 89\n",
    "    elif 90 <= dbp <= 99:\n",
    "        return 99\n",
    "    elif 100 <= dbp <= 119:\n",
    "        return 119\n",
    "    elif dbp >= 120:\n",
    "        return 140\n",
    "    else:\n",
    "        return 0\n",
    "\n",
    "df['dbp_grupo'] = df['dbp'].apply(classificar_dbp)\n"
   ]
  },
  {
   "cell_type": "code",
   "execution_count": 4,
   "id": "ae5bcc30",
   "metadata": {
    "execution": {
     "iopub.execute_input": "2024-12-24T19:49:27.400571Z",
     "iopub.status.busy": "2024-12-24T19:49:27.399573Z",
     "iopub.status.idle": "2024-12-24T19:49:27.664157Z",
     "shell.execute_reply": "2024-12-24T19:49:27.664157Z"
    },
    "papermill": {
     "duration": 0.291593,
     "end_time": "2024-12-24T19:49:27.666163",
     "exception": false,
     "start_time": "2024-12-24T19:49:27.374570",
     "status": "completed"
    },
    "tags": []
   },
   "outputs": [],
   "source": [
    "def classificar_blds(blds):\n",
    "    if blds < 100:\n",
    "        return 100\n",
    "    elif 100 <= blds <= 125:\n",
    "        return 125\n",
    "    elif blds >= 126:\n",
    "        return 150\n",
    "    else:\n",
    "        return 0\n",
    "\n",
    "# aplicar a classificação ao dataframe carregado\n",
    "df['blds_grupo'] = df['blds'].apply(classificar_blds)\n"
   ]
  },
  {
   "cell_type": "code",
   "execution_count": 5,
   "id": "5165c175",
   "metadata": {
    "execution": {
     "iopub.execute_input": "2024-12-24T19:49:27.721163Z",
     "iopub.status.busy": "2024-12-24T19:49:27.720163Z",
     "iopub.status.idle": "2024-12-24T19:49:36.516726Z",
     "shell.execute_reply": "2024-12-24T19:49:36.516726Z"
    },
    "papermill": {
     "duration": 8.81957,
     "end_time": "2024-12-24T19:49:36.517733",
     "exception": false,
     "start_time": "2024-12-24T19:49:27.698163",
     "status": "completed"
    },
    "tags": []
   },
   "outputs": [],
   "source": [
    "def classificar_hemoglobin(hemoglobin, sex):\n",
    "   \n",
    "        if hemoglobin < 13.5:\n",
    "            return 13\n",
    "        elif 13.5 <= hemoglobin <= 17.5:\n",
    "            return 17\n",
    "        else:\n",
    "            return 21\n",
    "\n",
    "df['hemoglobin_grupo'] = df.apply(lambda row: classificar_hemoglobin(row['hemoglobin'], row['sex']), axis=1)"
   ]
  },
  {
   "cell_type": "code",
   "execution_count": 6,
   "id": "13848c8e",
   "metadata": {
    "execution": {
     "iopub.execute_input": "2024-12-24T19:49:36.546733Z",
     "iopub.status.busy": "2024-12-24T19:49:36.546733Z",
     "iopub.status.idle": "2024-12-24T19:49:36.620910Z",
     "shell.execute_reply": "2024-12-24T19:49:36.619898Z"
    },
    "papermill": {
     "duration": 0.095174,
     "end_time": "2024-12-24T19:49:36.622906",
     "exception": false,
     "start_time": "2024-12-24T19:49:36.527732",
     "status": "completed"
    },
    "tags": []
   },
   "outputs": [],
   "source": [
    "atributos_remover = ['sbp', 'dbp', 'blds', 'hemoglobin','hemoglobin', 'sgot_alt']\n",
    "\n",
    "df = df.drop(columns=atributos_remover)"
   ]
  },
  {
   "cell_type": "code",
   "execution_count": 7,
   "id": "dcbf44b7",
   "metadata": {
    "execution": {
     "iopub.execute_input": "2024-12-24T19:49:36.654910Z",
     "iopub.status.busy": "2024-12-24T19:49:36.653913Z",
     "iopub.status.idle": "2024-12-24T19:49:36.659043Z",
     "shell.execute_reply": "2024-12-24T19:49:36.659043Z"
    },
    "papermill": {
     "duration": 0.028142,
     "end_time": "2024-12-24T19:49:36.660049",
     "exception": false,
     "start_time": "2024-12-24T19:49:36.631907",
     "status": "completed"
    },
    "tags": []
   },
   "outputs": [
    {
     "name": "stdout",
     "output_type": "stream",
     "text": [
      "Atributos do DataFrame:\n",
      "['sex', 'age', 'height', 'weight', 'waistline', 'sight_left', 'sight_right', 'hear_left', 'hear_right', 'tot_chole', 'hdl_chole', 'ldl_chole', 'triglyceride', 'urine_protein', 'serum_creatinine', 'sgot_ast', 'gamma_gtp', 'smk_stat_type_cd', 'drk_yn', 'sbp_grupo', 'dbp_grupo', 'blds_grupo', 'hemoglobin_grupo']\n"
     ]
    }
   ],
   "source": [
    "print(\"Atributos do DataFrame:\")\n",
    "print(df.columns.tolist())"
   ]
  },
  {
   "cell_type": "code",
   "execution_count": 8,
   "id": "af36f19a",
   "metadata": {
    "execution": {
     "iopub.execute_input": "2024-12-24T19:49:36.687559Z",
     "iopub.status.busy": "2024-12-24T19:49:36.687559Z",
     "iopub.status.idle": "2024-12-24T19:49:40.374194Z",
     "shell.execute_reply": "2024-12-24T19:49:40.374194Z"
    },
    "papermill": {
     "duration": 3.706644,
     "end_time": "2024-12-24T19:49:40.376204",
     "exception": false,
     "start_time": "2024-12-24T19:49:36.669560",
     "status": "completed"
    },
    "tags": []
   },
   "outputs": [],
   "source": [
    "df.to_csv('../base_dados/beber_copia2.csv', index=False)\n"
   ]
  }
 ],
 "metadata": {
  "kernelspec": {
   "display_name": "Python 3",
   "language": "python",
   "name": "python3"
  },
  "language_info": {
   "codemirror_mode": {
    "name": "ipython",
    "version": 3
   },
   "file_extension": ".py",
   "mimetype": "text/x-python",
   "name": "python",
   "nbconvert_exporter": "python",
   "pygments_lexer": "ipython3",
   "version": "3.12.7"
  },
  "papermill": {
   "default_parameters": {},
   "duration": 16.768405,
   "end_time": "2024-12-24T19:49:40.696961",
   "environment_variables": {},
   "exception": null,
   "input_path": "..\\3_transformar\\2_agrupamento.ipynb",
   "output_path": "..\\3_transformar\\2_agrupamento.ipynb",
   "parameters": {},
   "start_time": "2024-12-24T19:49:23.928556",
   "version": "2.6.0"
  }
 },
 "nbformat": 4,
 "nbformat_minor": 5
}