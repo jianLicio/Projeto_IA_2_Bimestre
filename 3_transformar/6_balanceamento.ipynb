{
 "cells": [
  {
   "cell_type": "code",
   "execution_count": 1,
   "id": "d3b87344",
   "metadata": {
    "execution": {
     "iopub.execute_input": "2024-12-24T19:56:22.427024Z",
     "iopub.status.busy": "2024-12-24T19:56:22.427024Z",
     "iopub.status.idle": "2024-12-24T19:56:25.722976Z",
     "shell.execute_reply": "2024-12-24T19:56:25.722976Z"
    },
    "papermill": {
     "duration": 3.305964,
     "end_time": "2024-12-24T19:56:25.724982",
     "exception": false,
     "start_time": "2024-12-24T19:56:22.419018",
     "status": "completed"
    },
    "tags": []
   },
   "outputs": [],
   "source": [
    "import pandas as pd\n",
    "from sklearn.ensemble import RandomForestClassifier\n",
    "import matplotlib.pyplot as plt\n",
    "\n",
    "df = pd.read_csv('../base_dados/beber_copia2.csv', low_memory=False)\n"
   ]
  },
  {
   "cell_type": "code",
   "execution_count": 2,
   "id": "e6f3ceff",
   "metadata": {
    "execution": {
     "iopub.execute_input": "2024-12-24T19:56:25.756983Z",
     "iopub.status.busy": "2024-12-24T19:56:25.756983Z",
     "iopub.status.idle": "2024-12-24T19:56:25.769257Z",
     "shell.execute_reply": "2024-12-24T19:56:25.769257Z"
    },
    "papermill": {
     "duration": 0.032282,
     "end_time": "2024-12-24T19:56:25.770264",
     "exception": false,
     "start_time": "2024-12-24T19:56:25.737982",
     "status": "completed"
    },
    "tags": []
   },
   "outputs": [
    {
     "name": "stdout",
     "output_type": "stream",
     "text": [
      "drk_yn\n",
      "0    495759\n",
      "1    495441\n",
      "Name: count, dtype: int64\n"
     ]
    }
   ],
   "source": [
    "class_counts = df['drk_yn'].value_counts()\n",
    "\n",
    "# Exibir os resultados\n",
    "print(class_counts)"
   ]
  },
  {
   "cell_type": "code",
   "execution_count": 3,
   "id": "3cfe0e3f",
   "metadata": {
    "execution": {
     "iopub.execute_input": "2024-12-24T19:56:25.800776Z",
     "iopub.status.busy": "2024-12-24T19:56:25.799776Z",
     "iopub.status.idle": "2024-12-24T19:56:26.589131Z",
     "shell.execute_reply": "2024-12-24T19:56:26.589131Z"
    },
    "papermill": {
     "duration": 0.809371,
     "end_time": "2024-12-24T19:56:26.590139",
     "exception": false,
     "start_time": "2024-12-24T19:56:25.780768",
     "status": "completed"
    },
    "tags": []
   },
   "outputs": [
    {
     "name": "stdout",
     "output_type": "stream",
     "text": [
      "                 sex            age         height     sight_left  \\\n",
      "count  991200.000000  991200.000000  991200.000000  991200.000000   \n",
      "mean        0.531038      47.615577     162.240648       0.562219   \n",
      "std         0.499036      14.181190       9.283123       0.699778   \n",
      "min         0.000000      20.000000     130.000000       0.000000   \n",
      "25%         0.000000      35.000000     155.000000       0.000000   \n",
      "50%         1.000000      45.000000     160.000000       1.000000   \n",
      "75%         1.000000      60.000000     170.000000       1.000000   \n",
      "max         1.000000      85.000000     190.000000       9.000000   \n",
      "\n",
      "         sight_right  urine_protein  smk_stat_type_cd        drk_yn  \\\n",
      "count  991200.000000  991200.000000     991200.000000  991200.00000   \n",
      "mean        0.560843       1.094185          1.608132       0.49984   \n",
      "std         0.697980       0.437599          0.818504       0.50000   \n",
      "min         0.000000       1.000000          1.000000       0.00000   \n",
      "25%         0.000000       1.000000          1.000000       0.00000   \n",
      "50%         1.000000       1.000000          1.000000       0.00000   \n",
      "75%         1.000000       1.000000          2.000000       1.00000   \n",
      "max         9.000000       6.000000          3.000000       1.00000   \n",
      "\n",
      "           sbp_grupo      dbp_grupo  ...  hemoglobin_grupo  waistline_grupo  \\\n",
      "count  991200.000000  991200.000000  ...     991200.000000    991200.000000   \n",
      "mean      131.874483      83.157824  ...         13.955658        81.103583   \n",
      "std        17.985416       8.406695  ...          1.706411         9.304207   \n",
      "min        90.000000      60.000000  ...         13.000000        64.110000   \n",
      "25%       120.000000      80.000000  ...         13.000000        71.830000   \n",
      "50%       120.000000      80.000000  ...         13.000000        78.620000   \n",
      "75%       139.000000      89.000000  ...         13.000000        89.930000   \n",
      "max       199.000000     140.000000  ...         21.000000        99.410000   \n",
      "\n",
      "        weight_grupo  serum_creatinine_grupo  tot_chole_grupo  \\\n",
      "count  991200.000000           991200.000000    991200.000000   \n",
      "mean       63.284585                0.307899       195.527948   \n",
      "std        12.165877                0.623763        36.819609   \n",
      "min        47.510000                0.000000       139.120000   \n",
      "25%        55.000000                0.000000       171.110000   \n",
      "50%        62.420000                0.000000       197.150000   \n",
      "75%        70.000000                1.010000       223.030000   \n",
      "max        94.910000               84.160000       298.970000   \n",
      "\n",
      "       hdl_chole_grupo  ldl_chole_grupo  triglyceride_grupo  sgot_ast_grupo  \\\n",
      "count    991200.000000     991200.00000       991200.000000   991200.000000   \n",
      "mean         62.222232        112.99471          132.107797       25.927847   \n",
      "std          13.757433         33.43808           96.518767       15.608436   \n",
      "min          42.330000         60.17000           70.050000       17.810000   \n",
      "25%          52.280000         89.14000           70.050000       17.810000   \n",
      "50%          60.420000        113.26000          131.560000       26.060000   \n",
      "75%          69.060000        136.76000          131.560000       26.060000   \n",
      "max          98.990000        204.38000         1529.260000      575.230000   \n",
      "\n",
      "       gamma_gtp_grupo  \n",
      "count    991200.000000  \n",
      "mean         28.098742  \n",
      "std          47.134249  \n",
      "min          12.280000  \n",
      "25%          12.280000  \n",
      "50%          12.280000  \n",
      "75%          42.610000  \n",
      "max         810.220000  \n",
      "\n",
      "[8 rows x 21 columns]\n"
     ]
    }
   ],
   "source": [
    "# Resumo estatístico para verificar a escala dos dados\n",
    "print(df.describe())\n"
   ]
  },
  {
   "cell_type": "markdown",
   "id": "b75f5361",
   "metadata": {
    "papermill": {
     "duration": 0.021514,
     "end_time": "2024-12-24T19:56:27.295799",
     "exception": false,
     "start_time": "2024-12-24T19:56:27.274285",
     "status": "completed"
    },
    "tags": []
   },
   "source": [
    "#### Não foi necessário balanceamento"
   ]
  }
 ],
 "metadata": {
  "kernelspec": {
   "display_name": "Python 3",
   "language": "python",
   "name": "python3"
  },
  "language_info": {
   "codemirror_mode": {
    "name": "ipython",
    "version": 3
   },
   "file_extension": ".py",
   "mimetype": "text/x-python",
   "name": "python",
   "nbconvert_exporter": "python",
   "pygments_lexer": "ipython3",
   "version": "3.12.7"
  },
  "papermill": {
   "default_parameters": {},
   "duration": 6.993983,
   "end_time": "2024-12-24T19:56:27.937192",
   "environment_variables": {},
   "exception": null,
   "input_path": "..\\3_transformar\\6_balanceamento.ipynb",
   "output_path": "..\\3_transformar\\6_balanceamento.ipynb",
   "parameters": {},
   "start_time": "2024-12-24T19:56:20.943209",
   "version": "2.6.0"
  }
 },
 "nbformat": 4,
 "nbformat_minor": 5
}