{
 "cells": [
  {
   "cell_type": "code",
   "execution_count": 1,
   "id": "dc43fdd6",
   "metadata": {
    "execution": {
     "iopub.execute_input": "2024-12-28T20:54:41.792017Z",
     "iopub.status.busy": "2024-12-28T20:54:41.792017Z",
     "iopub.status.idle": "2024-12-28T21:16:02.925458Z",
     "shell.execute_reply": "2024-12-28T21:16:02.925458Z"
    },
    "papermill": {
     "duration": 1281.145449,
     "end_time": "2024-12-28T21:16:02.926466",
     "exception": false,
     "start_time": "2024-12-28T20:54:41.781017",
     "status": "completed"
    },
    "tags": []
   },
   "outputs": [
    {
     "name": "stderr",
     "output_type": "stream",
     "text": [
      "C:\\Users\\jian_\\.conda\\envs\\meu_ambiente\\Lib\\site-packages\\tqdm\\auto.py:21: TqdmWarning: IProgress not found. Please update jupyter and ipywidgets. See https://ipywidgets.readthedocs.io/en/stable/user_install.html\n",
      "  from .autonotebook import tqdm as notebook_tqdm\n"
     ]
    },
    {
     "name": "stderr",
     "output_type": "stream",
     "text": [
      "\r",
      "Executing:   0%|          | 0/2 [00:00<?, ?cell/s]"
     ]
    },
    {
     "name": "stderr",
     "output_type": "stream",
     "text": [
      "\r",
      "Executing:  50%|█████     | 1/2 [00:07<00:07,  7.18s/cell]"
     ]
    },
    {
     "name": "stderr",
     "output_type": "stream",
     "text": [
      "\r",
      "Executing: 100%|██████████| 2/2 [05:21<00:00, 188.05s/cell]"
     ]
    },
    {
     "name": "stderr",
     "output_type": "stream",
     "text": [
      "\r",
      "Executing: 100%|██████████| 2/2 [05:22<00:00, 161.12s/cell]"
     ]
    },
    {
     "name": "stderr",
     "output_type": "stream",
     "text": [
      "\n"
     ]
    },
    {
     "name": "stdout",
     "output_type": "stream",
     "text": [
      "7_minerar_dados_parte2/1_knn.ipynb executado com sucesso.\n"
     ]
    },
    {
     "name": "stderr",
     "output_type": "stream",
     "text": [
      "\r",
      "Executing:   0%|          | 0/2 [00:00<?, ?cell/s]"
     ]
    },
    {
     "name": "stderr",
     "output_type": "stream",
     "text": [
      "\r",
      "Executing:  50%|█████     | 1/2 [00:02<00:02,  2.58s/cell]"
     ]
    },
    {
     "name": "stderr",
     "output_type": "stream",
     "text": [
      "\r",
      "Executing: 100%|██████████| 2/2 [03:24<00:00, 119.94s/cell]"
     ]
    },
    {
     "name": "stderr",
     "output_type": "stream",
     "text": [
      "\r",
      "Executing: 100%|██████████| 2/2 [03:25<00:00, 102.55s/cell]"
     ]
    },
    {
     "name": "stderr",
     "output_type": "stream",
     "text": [
      "\n"
     ]
    },
    {
     "name": "stdout",
     "output_type": "stream",
     "text": [
      "7_minerar_dados_parte2/2_knn_100_140.ipynb executado com sucesso.\n"
     ]
    },
    {
     "name": "stderr",
     "output_type": "stream",
     "text": [
      "\r",
      "Executing:   0%|          | 0/4 [00:00<?, ?cell/s]"
     ]
    },
    {
     "name": "stderr",
     "output_type": "stream",
     "text": [
      "\r",
      "Executing:  25%|██▌       | 1/4 [00:04<00:14,  4.71s/cell]"
     ]
    },
    {
     "name": "stderr",
     "output_type": "stream",
     "text": [
      "\r",
      "Executing:  50%|█████     | 2/4 [02:38<03:04, 92.14s/cell]"
     ]
    },
    {
     "name": "stderr",
     "output_type": "stream",
     "text": [
      "\r",
      "Executing:  75%|███████▌  | 3/4 [02:38<00:50, 50.23s/cell]"
     ]
    },
    {
     "name": "stderr",
     "output_type": "stream",
     "text": [
      "\r",
      "Executing: 100%|██████████| 4/4 [02:43<00:00, 32.57s/cell]"
     ]
    },
    {
     "name": "stderr",
     "output_type": "stream",
     "text": [
      "\r",
      "Executing: 100%|██████████| 4/4 [02:44<00:00, 41.21s/cell]"
     ]
    },
    {
     "name": "stderr",
     "output_type": "stream",
     "text": [
      "\n"
     ]
    },
    {
     "name": "stdout",
     "output_type": "stream",
     "text": [
      "8_minerar_dados_knn/1_ranking_novo_df.ipynb executado com sucesso.\n"
     ]
    },
    {
     "name": "stderr",
     "output_type": "stream",
     "text": [
      "\r",
      "Executing:   0%|          | 0/2 [00:00<?, ?cell/s]"
     ]
    },
    {
     "name": "stderr",
     "output_type": "stream",
     "text": [
      "\r",
      "Executing:  50%|█████     | 1/2 [00:03<00:03,  3.40s/cell]"
     ]
    },
    {
     "name": "stderr",
     "output_type": "stream",
     "text": [
      "\r",
      "Executing: 100%|██████████| 2/2 [09:47<00:00, 345.22s/cell]"
     ]
    },
    {
     "name": "stderr",
     "output_type": "stream",
     "text": [
      "\r",
      "Executing: 100%|██████████| 2/2 [09:48<00:00, 294.16s/cell]"
     ]
    },
    {
     "name": "stdout",
     "output_type": "stream",
     "text": [
      "8_minerar_dados_knn/knn.ipynb executado com sucesso.\n"
     ]
    },
    {
     "name": "stderr",
     "output_type": "stream",
     "text": [
      "\n"
     ]
    }
   ],
   "source": [
    "import papermill as pm # type: ignore\n",
    "from pathlib import Path\n",
    "\n",
    "exec(open(\"../0_variaveis.py\").read())\n",
    "\n",
    "notebook_dir = Path(\"../\")\n",
    "kernel = kernel_de_processamento  # type: ignore\n",
    "\n",
    "notebooks = [\n",
    "\n",
    "    \"7_minerar_dados_parte2/1_knn.ipynb\",\n",
    "    \"7_minerar_dados_parte2/2_knn_100_140.ipynb\",\n",
    "    \"8_minerar_dados_knn/1_ranking_novo_df.ipynb\",\n",
    "    \"8_minerar_dados_knn/knn.ipynb\"    \n",
    "]\n",
    "\n",
    "for notebook_name in notebooks:\n",
    "    notebook_path = notebook_dir / notebook_name\n",
    "    pm.execute_notebook(\n",
    "        str(notebook_path),\n",
    "        str(notebook_path),\n",
    "        kernel_name=kernel\n",
    "    )\n",
    "    print(f\"{notebook_name} executado com sucesso.\")\n"
   ]
  }
 ],
 "metadata": {
  "kernelspec": {
   "display_name": "Python 3",
   "language": "python",
   "name": "python3"
  },
  "language_info": {
   "codemirror_mode": {
    "name": "ipython",
    "version": 3
   },
   "file_extension": ".py",
   "mimetype": "text/x-python",
   "name": "python",
   "nbconvert_exporter": "python",
   "pygments_lexer": "ipython3",
   "version": "3.12.7"
  },
  "papermill": {
   "default_parameters": {},
   "duration": 1282.730671,
   "end_time": "2024-12-28T21:16:03.149494",
   "environment_variables": {},
   "exception": null,
   "input_path": "6_executa_minerar_dados_final.ipynb",
   "output_path": "6_executa_minerar_dados_final.ipynb",
   "parameters": {},
   "start_time": "2024-12-28T20:54:40.418823",
   "version": "2.6.0"
  }
 },
 "nbformat": 4,
 "nbformat_minor": 5
}