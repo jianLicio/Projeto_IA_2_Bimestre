{
 "cells": [
  {
   "cell_type": "code",
   "execution_count": 1,
   "id": "dc43fdd6",
   "metadata": {
    "execution": {
     "iopub.execute_input": "2024-12-25T18:31:17.954375Z",
     "iopub.status.busy": "2024-12-25T18:31:17.953370Z",
     "iopub.status.idle": "2024-12-26T02:48:18.412104Z",
     "shell.execute_reply": "2024-12-26T02:48:18.412104Z"
    },
    "papermill": {
     "duration": 29820.479762,
     "end_time": "2024-12-26T02:48:18.419110",
     "exception": false,
     "start_time": "2024-12-25T18:31:17.939348",
     "status": "completed"
    },
    "tags": []
   },
   "outputs": [
    {
     "name": "stderr",
     "output_type": "stream",
     "text": [
      "C:\\Users\\jian_\\.conda\\envs\\meu_ambiente\\Lib\\site-packages\\tqdm\\auto.py:21: TqdmWarning: IProgress not found. Please update jupyter and ipywidgets. See https://ipywidgets.readthedocs.io/en/stable/user_install.html\n",
      "  from .autonotebook import tqdm as notebook_tqdm\n"
     ]
    },
    {
     "name": "stderr",
     "output_type": "stream",
     "text": [
      "\r\n",
      "Executing:   0%|          | 0/2 [00:00<?, ?cell/s]"
     ]
    },
    {
     "name": "stderr",
     "output_type": "stream",
     "text": [
      "\r\n",
      "Executing:  50%|█████     | 1/2 [00:09<00:09,  9.25s/cell]"
     ]
    },
    {
     "name": "stderr",
     "output_type": "stream",
     "text": [
      "\r\n",
      "Executing: 100%|██████████| 2/2 [8:16:57<00:00, 17538.27s/cell]"
     ]
    },
    {
     "name": "stderr",
     "output_type": "stream",
     "text": [
      "\r\n",
      "Executing: 100%|██████████| 2/2 [8:16:59<00:00, 14909.55s/cell]"
     ]
    },
    {
     "name": "stdout",
     "output_type": "stream",
     "text": [
      "6_minerar_dados_sem_duplicatas/svm.ipynb executado com sucesso.\n"
     ]
    },
    {
     "name": "stderr",
     "output_type": "stream",
     "text": [
      "\n"
     ]
    }
   ],
   "source": [
    "import papermill as pm # type: ignore\n",
    "from pathlib import Path\n",
    "\n",
    "exec(open(\"../0_variaveis.py\").read())\n",
    "\n",
    "notebook_dir = Path(\"../\")\n",
    "kernel = kernel_de_processamento  # type: ignore\n",
    "\n",
    "notebooks = [\n",
    "\n",
    "    \"7_minerar_dados_parte2/1_knn.ipynb\",\n",
    "    \"7_minerar_dados_parte2/2_knn_100_140.ipynb\",\n",
    "    \"8_minerar_dados_knn/1_criando_base_dados.ipynb\",\n",
    "    \"8_minerar_dados_knn/knn.ipynb\"    \n",
    "]\n",
    "\n",
    "for notebook_name in notebooks:\n",
    "    notebook_path = notebook_dir / notebook_name\n",
    "    pm.execute_notebook(\n",
    "        str(notebook_path),\n",
    "        str(notebook_path),\n",
    "        kernel_name=kernel\n",
    "    )\n",
    "    print(f\"{notebook_name} executado com sucesso.\")\n"
   ]
  }
 ],
 "metadata": {
  "kernelspec": {
   "display_name": "Python 3",
   "language": "python",
   "name": "python3"
  },
  "language_info": {
   "codemirror_mode": {
    "name": "ipython",
    "version": 3
   },
   "file_extension": ".py",
   "mimetype": "text/x-python",
   "name": "python",
   "nbconvert_exporter": "python",
   "pygments_lexer": "ipython3",
   "version": "3.12.7"
  },
  "papermill": {
   "default_parameters": {},
   "duration": 29824.272992,
   "end_time": "2024-12-26T02:48:18.893685",
   "environment_variables": {},
   "exception": null,
   "input_path": "5_executa_minerar_dados_sem_duplicatas.ipynb",
   "output_path": "5_executa_minerar_dados_sem_duplicatas.ipynb",
   "parameters": {},
   "start_time": "2024-12-25T18:31:14.620693",
   "version": "2.6.0"
  }
 },
 "nbformat": 4,
 "nbformat_minor": 5
}
