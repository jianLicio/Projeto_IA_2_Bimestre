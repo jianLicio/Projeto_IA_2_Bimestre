{
 "cells": [
  {
   "cell_type": "code",
   "execution_count": 1,
   "id": "7050620f",
   "metadata": {
    "execution": {
     "iopub.execute_input": "2024-12-25T10:08:48.547683Z",
     "iopub.status.busy": "2024-12-25T10:08:48.547683Z",
     "iopub.status.idle": "2024-12-25T18:31:14.142362Z",
     "shell.execute_reply": "2024-12-25T18:31:14.141355Z"
    },
    "papermill": {
     "duration": 30145.610206,
     "end_time": "2024-12-25T18:31:14.147888",
     "exception": false,
     "start_time": "2024-12-25T10:08:48.537682",
     "status": "completed"
    },
    "tags": []
   },
   "outputs": [
    {
     "name": "stderr",
     "output_type": "stream",
     "text": [
      "C:\\Users\\jian_\\.conda\\envs\\meu_ambiente\\Lib\\site-packages\\tqdm\\auto.py:21: TqdmWarning: IProgress not found. Please update jupyter and ipywidgets. See https://ipywidgets.readthedocs.io/en/stable/user_install.html\n",
      "  from .autonotebook import tqdm as notebook_tqdm\n"
     ]
    },
    {
     "name": "stderr",
     "output_type": "stream",
     "text": [
      "\r",
      "Executing:   0%|          | 0/2 [00:00<?, ?cell/s]"
     ]
    },
    {
     "name": "stderr",
     "output_type": "stream",
     "text": [
      "\r",
      "Executing:  50%|█████     | 1/2 [00:08<00:08,  8.31s/cell]"
     ]
    },
    {
     "name": "stderr",
     "output_type": "stream",
     "text": [
      "\r",
      "Executing: 100%|██████████| 2/2 [8:22:23<00:00, 17729.93s/cell]"
     ]
    },
    {
     "name": "stderr",
     "output_type": "stream",
     "text": [
      "\r",
      "Executing: 100%|██████████| 2/2 [8:22:24<00:00, 15072.29s/cell]"
     ]
    },
    {
     "name": "stdout",
     "output_type": "stream",
     "text": [
      "5_minerar_dados_normalizado/svm.ipynb executado com sucesso.\n"
     ]
    },
    {
     "name": "stderr",
     "output_type": "stream",
     "text": [
      "\n"
     ]
    }
   ],
   "source": [
    "import papermill as pm\n",
    "from pathlib import Path\n",
    "\n",
    "notebook_dir = Path(\"../\")\n",
    "kernel = \"meu_ambiente\"  # Substitua pelo nome do seu kernel\n",
    "\n",
    "notebooks = [\n",
    "    # \"5_minerar_dados_normalizado/1_normalizando.ipynb\",\n",
    "    # \"5_minerar_dados_normalizado/arvore_decisao.ipynb\",\n",
    "    # \"5_minerar_dados_normalizado/knn.ipynb\",\n",
    "    # \"5_minerar_dados_normalizado/naive_bayes.ipynb\",\n",
    "    # \"5_minerar_dados_normalizado/perceptron.ipynb\",\n",
    "    # \"5_minerar_dados_normalizado/regressao_linear.ipynb\",\n",
    "    \"5_minerar_dados_normalizado/svm.ipynb\"\n",
    "]\n",
    "\n",
    "for notebook_name in notebooks:\n",
    "    notebook_path = notebook_dir / notebook_name\n",
    "    pm.execute_notebook(\n",
    "        str(notebook_path),\n",
    "        str(notebook_path),\n",
    "        kernel_name=kernel\n",
    "    )\n",
    "    print(f\"{notebook_name} executado com sucesso.\")\n"
   ]
  }
 ],
 "metadata": {
  "kernelspec": {
   "display_name": "meu_ambiente",
   "language": "python",
   "name": "python3"
  },
  "language_info": {
   "codemirror_mode": {
    "name": "ipython",
    "version": 3
   },
   "file_extension": ".py",
   "mimetype": "text/x-python",
   "name": "python",
   "nbconvert_exporter": "python",
   "pygments_lexer": "ipython3",
   "version": "3.12.7"
  },
  "papermill": {
   "default_parameters": {},
   "duration": 30148.72815,
   "end_time": "2024-12-25T18:31:14.559089",
   "environment_variables": {},
   "exception": null,
   "input_path": "4_executa_minerar_dados_normalizados.ipynb",
   "output_path": "4_executa_minerar_dados_normalizados.ipynb",
   "parameters": {},
   "start_time": "2024-12-25T10:08:45.830939",
   "version": "2.6.0"
  }
 },
 "nbformat": 4,
 "nbformat_minor": 5
}