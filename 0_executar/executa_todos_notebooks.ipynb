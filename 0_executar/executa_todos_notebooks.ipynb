{
 "cells": [
  {
   "cell_type": "markdown",
   "metadata": {},
   "source": [
    "## Executa todos os notebooks"
   ]
  },
  {
   "cell_type": "code",
   "execution_count": null,
   "metadata": {},
   "outputs": [
    {
     "name": "stderr",
     "output_type": "stream",
     "text": [
      "Executing: 100%|██████████| 20/20 [00:34<00:00,  1.71s/cell]\n"
     ]
    },
    {
     "name": "stdout",
     "output_type": "stream",
     "text": [
      "3_transformar/1_agrupamento.ipynb executado com sucesso.\n"
     ]
    },
    {
     "name": "stderr",
     "output_type": "stream",
     "text": [
      "Executing:  44%|████▍     | 4/9 [00:06<00:08,  1.65s/cell]\n"
     ]
    },
    {
     "ename": "PapermillExecutionError",
     "evalue": "\n---------------------------------------------------------------------------\nException encountered at \"In [3]\":\n---------------------------------------------------------------------------\nKeyError                                  Traceback (most recent call last)\nCell In[3], line 4\n      1 print(\"Valores únicos por atributo:\")\n      3 colunas = ['age', 'height', 'weight', 'waistline',  'sbp', 'dbp', 'blds', 'tot_chole', 'hdl_chole', 'ldl_chole', 'triglyceride', 'urine_protein', 'smk_stat_type_cd', 'drk_yn', 'sbp_grupo', 'dbp_grupo', 'blds_grupo', 'tot_chole_grupo', 'hdl_chole_grupo', 'ldl_chole_grupo', 'triglyceride_grupo', 'hemoglobin_grupo', 'serum_creatinine_grupo', 'sgot_ast_grupo', 'gamma_gtp_grupo']\n----> 4 df_colunas = df[colunas]\n      6 for coluna in df_colunas.columns:\n      7     # Garantir valores únicos e ordenados corretamente\n      8     valores_unicos = sorted(set(df[coluna].dropna()))  # Usar set() para garantir a unicidade\n\nFile ~\\AppData\\Roaming\\Python\\Python312\\site-packages\\pandas\\core\\frame.py:4108, in DataFrame.__getitem__(self, key)\n   4106     if is_iterator(key):\n   4107         key = list(key)\n-> 4108     indexer = self.columns._get_indexer_strict(key, \"columns\")[1]\n   4110 # take() does not accept boolean indexers\n   4111 if getattr(indexer, \"dtype\", None) == bool:\n\nFile ~\\AppData\\Roaming\\Python\\Python312\\site-packages\\pandas\\core\\indexes\\base.py:6200, in Index._get_indexer_strict(self, key, axis_name)\n   6197 else:\n   6198     keyarr, indexer, new_indexer = self._reindex_non_unique(keyarr)\n-> 6200 self._raise_if_missing(keyarr, indexer, axis_name)\n   6202 keyarr = self.take(indexer)\n   6203 if isinstance(key, Index):\n   6204     # GH 42790 - Preserve name from an Index\n\nFile ~\\AppData\\Roaming\\Python\\Python312\\site-packages\\pandas\\core\\indexes\\base.py:6252, in Index._raise_if_missing(self, key, indexer, axis_name)\n   6249     raise KeyError(f\"None of [{key}] are in the [{axis_name}]\")\n   6251 not_found = list(ensure_index(key)[missing_mask.nonzero()[0]].unique())\n-> 6252 raise KeyError(f\"{not_found} not in index\")\n\nKeyError: \"['sbp', 'dbp', 'blds', 'tot_chole', 'hdl_chole', 'ldl_chole', 'triglyceride'] not in index\"\n",
     "output_type": "error",
     "traceback": [
      "\u001b[1;31m---------------------------------------------------------------------------\u001b[0m",
      "\u001b[1;31mPapermillExecutionError\u001b[0m                   Traceback (most recent call last)",
      "Cell \u001b[1;32mIn[4], line 16\u001b[0m\n\u001b[0;32m     14\u001b[0m \u001b[38;5;28;01mfor\u001b[39;00m notebook_name \u001b[38;5;129;01min\u001b[39;00m notebooks:\n\u001b[0;32m     15\u001b[0m     notebook_path \u001b[38;5;241m=\u001b[39m notebook_dir \u001b[38;5;241m/\u001b[39m notebook_name\n\u001b[1;32m---> 16\u001b[0m     \u001b[43mpm\u001b[49m\u001b[38;5;241;43m.\u001b[39;49m\u001b[43mexecute_notebook\u001b[49m\u001b[43m(\u001b[49m\u001b[38;5;28;43mstr\u001b[39;49m\u001b[43m(\u001b[49m\u001b[43mnotebook_path\u001b[49m\u001b[43m)\u001b[49m\u001b[43m,\u001b[49m\u001b[43m \u001b[49m\u001b[38;5;28;43mstr\u001b[39;49m\u001b[43m(\u001b[49m\u001b[43mnotebook_path\u001b[49m\u001b[43m)\u001b[49m\u001b[43m)\u001b[49m\n\u001b[0;32m     17\u001b[0m     \u001b[38;5;28mprint\u001b[39m(\u001b[38;5;124mf\u001b[39m\u001b[38;5;124m\"\u001b[39m\u001b[38;5;132;01m{\u001b[39;00mnotebook_name\u001b[38;5;132;01m}\u001b[39;00m\u001b[38;5;124m executado com sucesso.\u001b[39m\u001b[38;5;124m\"\u001b[39m)\n",
      "File \u001b[1;32mc:\\Users\\jian_\\.conda\\envs\\meu_ambiente\\Lib\\site-packages\\papermill\\execute.py:131\u001b[0m, in \u001b[0;36mexecute_notebook\u001b[1;34m(input_path, output_path, parameters, engine_name, request_save_on_cell_execute, prepare_only, kernel_name, language, progress_bar, log_output, stdout_file, stderr_file, start_timeout, report_mode, cwd, **engine_kwargs)\u001b[0m\n\u001b[0;32m    116\u001b[0m         nb \u001b[38;5;241m=\u001b[39m papermill_engines\u001b[38;5;241m.\u001b[39mexecute_notebook_with_engine(\n\u001b[0;32m    117\u001b[0m             engine_name,\n\u001b[0;32m    118\u001b[0m             nb,\n\u001b[1;32m   (...)\u001b[0m\n\u001b[0;32m    127\u001b[0m             \u001b[38;5;241m*\u001b[39m\u001b[38;5;241m*\u001b[39mengine_kwargs,\n\u001b[0;32m    128\u001b[0m         )\n\u001b[0;32m    130\u001b[0m     \u001b[38;5;66;03m# Check for errors first (it saves on error before raising)\u001b[39;00m\n\u001b[1;32m--> 131\u001b[0m     \u001b[43mraise_for_execution_errors\u001b[49m\u001b[43m(\u001b[49m\u001b[43mnb\u001b[49m\u001b[43m,\u001b[49m\u001b[43m \u001b[49m\u001b[43moutput_path\u001b[49m\u001b[43m)\u001b[49m\n\u001b[0;32m    133\u001b[0m \u001b[38;5;66;03m# Write final output in case the engine didn't write it on cell completion.\u001b[39;00m\n\u001b[0;32m    134\u001b[0m write_ipynb(nb, output_path)\n",
      "File \u001b[1;32mc:\\Users\\jian_\\.conda\\envs\\meu_ambiente\\Lib\\site-packages\\papermill\\execute.py:251\u001b[0m, in \u001b[0;36mraise_for_execution_errors\u001b[1;34m(nb, output_path)\u001b[0m\n\u001b[0;32m    248\u001b[0m nb\u001b[38;5;241m.\u001b[39mcells\u001b[38;5;241m.\u001b[39minsert(\u001b[38;5;241m0\u001b[39m, error_msg_cell)\n\u001b[0;32m    250\u001b[0m write_ipynb(nb, output_path)\n\u001b[1;32m--> 251\u001b[0m \u001b[38;5;28;01mraise\u001b[39;00m error\n",
      "\u001b[1;31mPapermillExecutionError\u001b[0m: \n---------------------------------------------------------------------------\nException encountered at \"In [3]\":\n---------------------------------------------------------------------------\nKeyError                                  Traceback (most recent call last)\nCell In[3], line 4\n      1 print(\"Valores únicos por atributo:\")\n      3 colunas = ['age', 'height', 'weight', 'waistline',  'sbp', 'dbp', 'blds', 'tot_chole', 'hdl_chole', 'ldl_chole', 'triglyceride', 'urine_protein', 'smk_stat_type_cd', 'drk_yn', 'sbp_grupo', 'dbp_grupo', 'blds_grupo', 'tot_chole_grupo', 'hdl_chole_grupo', 'ldl_chole_grupo', 'triglyceride_grupo', 'hemoglobin_grupo', 'serum_creatinine_grupo', 'sgot_ast_grupo', 'gamma_gtp_grupo']\n----> 4 df_colunas = df[colunas]\n      6 for coluna in df_colunas.columns:\n      7     # Garantir valores únicos e ordenados corretamente\n      8     valores_unicos = sorted(set(df[coluna].dropna()))  # Usar set() para garantir a unicidade\n\nFile ~\\AppData\\Roaming\\Python\\Python312\\site-packages\\pandas\\core\\frame.py:4108, in DataFrame.__getitem__(self, key)\n   4106     if is_iterator(key):\n   4107         key = list(key)\n-> 4108     indexer = self.columns._get_indexer_strict(key, \"columns\")[1]\n   4110 # take() does not accept boolean indexers\n   4111 if getattr(indexer, \"dtype\", None) == bool:\n\nFile ~\\AppData\\Roaming\\Python\\Python312\\site-packages\\pandas\\core\\indexes\\base.py:6200, in Index._get_indexer_strict(self, key, axis_name)\n   6197 else:\n   6198     keyarr, indexer, new_indexer = self._reindex_non_unique(keyarr)\n-> 6200 self._raise_if_missing(keyarr, indexer, axis_name)\n   6202 keyarr = self.take(indexer)\n   6203 if isinstance(key, Index):\n   6204     # GH 42790 - Preserve name from an Index\n\nFile ~\\AppData\\Roaming\\Python\\Python312\\site-packages\\pandas\\core\\indexes\\base.py:6252, in Index._raise_if_missing(self, key, indexer, axis_name)\n   6249     raise KeyError(f\"None of [{key}] are in the [{axis_name}]\")\n   6251 not_found = list(ensure_index(key)[missing_mask.nonzero()[0]].unique())\n-> 6252 raise KeyError(f\"{not_found} not in index\")\n\nKeyError: \"['sbp', 'dbp', 'blds', 'tot_chole', 'hdl_chole', 'ldl_chole', 'triglyceride'] not in index\"\n"
     ]
    }
   ],
   "source": [
    "import papermill as pm\n",
    "from pathlib import Path\n",
    "\n",
    "notebook_dir = Path(\"../\")\n",
    "\n",
    "notebooks = [\n",
    "    \"1_selecionar/dados_selecionados.ipynb\",\n",
    "    \"2_pre_processar/1_ruidos.ipynb\",\n",
    "    \"2_pre_processar/2_valores_nulos.ipynb\",\n",
    "    \"3_transformar/1_agrupamento.ipynb\",\n",
    "    \"3_transformar/2_metodo_cotovelo.ipynb\"\n",
    "]\n",
    "\n",
    "for notebook_name in notebooks:\n",
    "    notebook_path = notebook_dir / notebook_name\n",
    "    pm.execute_notebook(str(notebook_path), str(notebook_path))\n",
    "    print(f\"{notebook_name} executado com sucesso.\")\n"
   ]
  }
 ],
 "metadata": {
  "kernelspec": {
   "display_name": "Python 3",
   "language": "python",
   "name": "python3"
  },
  "language_info": {
   "codemirror_mode": {
    "name": "ipython",
    "version": 3
   },
   "file_extension": ".py",
   "mimetype": "text/x-python",
   "name": "python",
   "nbconvert_exporter": "python",
   "pygments_lexer": "ipython3",
   "version": "3.12.7"
  }
 },
 "nbformat": 4,
 "nbformat_minor": 2
}
