{
 "cells": [
  {
   "cell_type": "markdown",
   "metadata": {},
   "source": [
    "## Executa todos os notebooks"
   ]
  },
  {
   "cell_type": "code",
   "execution_count": 3,
   "metadata": {},
   "outputs": [
    {
     "name": "stderr",
     "output_type": "stream",
     "text": [
      "Executing: 100%|██████████| 1/1 [00:48<00:00, 48.96s/cell]\n"
     ]
    },
    {
     "name": "stdout",
     "output_type": "stream",
     "text": [
      "1_executa_pre_processamento.ipynb executado com sucesso.\n"
     ]
    },
    {
     "name": "stderr",
     "output_type": "stream",
     "text": [
      "Executing: 100%|██████████| 1/1 [01:19<00:00, 79.50s/cell]\n"
     ]
    },
    {
     "ename": "PapermillExecutionError",
     "evalue": "\n---------------------------------------------------------------------------\nException encountered at \"In [1]\":\n---------------------------------------------------------------------------\nPapermillExecutionError                   Traceback (most recent call last)\nCell In[1], line 14\n     12 for notebook_name in notebooks:\n     13     notebook_path = notebook_dir / notebook_name\n---> 14     pm.execute_notebook(str(notebook_path), str(notebook_path))\n     15     print(f\"{notebook_name} executado com sucesso.\")\n\nFile ~\\.conda\\envs\\meu_ambiente\\Lib\\site-packages\\papermill\\execute.py:131, in execute_notebook(input_path, output_path, parameters, engine_name, request_save_on_cell_execute, prepare_only, kernel_name, language, progress_bar, log_output, stdout_file, stderr_file, start_timeout, report_mode, cwd, **engine_kwargs)\n    116         nb = papermill_engines.execute_notebook_with_engine(\n    117             engine_name,\n    118             nb,\n   (...)\n    127             **engine_kwargs,\n    128         )\n    130     # Check for errors first (it saves on error before raising)\n--> 131     raise_for_execution_errors(nb, output_path)\n    133 # Write final output in case the engine didn't write it on cell completion.\n    134 write_ipynb(nb, output_path)\n\nFile ~\\.conda\\envs\\meu_ambiente\\Lib\\site-packages\\papermill\\execute.py:251, in raise_for_execution_errors(nb, output_path)\n    248 nb.cells.insert(0, error_msg_cell)\n    250 write_ipynb(nb, output_path)\n--> 251 raise error\n\nPapermillExecutionError: \n---------------------------------------------------------------------------\nException encountered at \"In [3]\":\n---------------------------------------------------------------------------\nValueError                                Traceback (most recent call last)\nCell In[3], line 1\n----> 1 correlation_matrix = df.corr()\n      3 # Exibir a matriz de correlação\n      4 print(\"Matriz de Correlação:\")\n\nFile ~\\AppData\\Roaming\\Python\\Python312\\site-packages\\pandas\\core\\frame.py:11049, in DataFrame.corr(self, method, min_periods, numeric_only)\n  11047 cols = data.columns\n  11048 idx = cols.copy()\n> 11049 mat = data.to_numpy(dtype=float, na_value=np.nan, copy=False)\n  11051 if method == \"pearson\":\n  11052     correl = libalgos.nancorr(mat, minp=min_periods)\n\nFile ~\\AppData\\Roaming\\Python\\Python312\\site-packages\\pandas\\core\\frame.py:1993, in DataFrame.to_numpy(self, dtype, copy, na_value)\n   1991 if dtype is not None:\n   1992     dtype = np.dtype(dtype)\n-> 1993 result = self._mgr.as_array(dtype=dtype, copy=copy, na_value=na_value)\n   1994 if result.dtype is not dtype:\n   1995     result = np.asarray(result, dtype=dtype)\n\nFile ~\\AppData\\Roaming\\Python\\Python312\\site-packages\\pandas\\core\\internals\\managers.py:1694, in BlockManager.as_array(self, dtype, copy, na_value)\n   1692         arr.flags.writeable = False\n   1693 else:\n-> 1694     arr = self._interleave(dtype=dtype, na_value=na_value)\n   1695     # The underlying data was copied within _interleave, so no need\n   1696     # to further copy if copy=True or setting na_value\n   1698 if na_value is lib.no_default:\n\nFile ~\\AppData\\Roaming\\Python\\Python312\\site-packages\\pandas\\core\\internals\\managers.py:1753, in BlockManager._interleave(self, dtype, na_value)\n   1751     else:\n   1752         arr = blk.get_values(dtype)\n-> 1753     result[rl.indexer] = arr\n   1754     itemmask[rl.indexer] = 1\n   1756 if not itemmask.all():\n\nValueError: could not convert string to float: 'male'\n\n",
     "output_type": "error",
     "traceback": [
      "\u001b[1;31m---------------------------------------------------------------------------\u001b[0m",
      "\u001b[1;31mPapermillExecutionError\u001b[0m                   Traceback (most recent call last)",
      "Cell \u001b[1;32mIn[3], line 13\u001b[0m\n\u001b[0;32m     11\u001b[0m \u001b[38;5;28;01mfor\u001b[39;00m notebook_name \u001b[38;5;129;01min\u001b[39;00m notebooks:\n\u001b[0;32m     12\u001b[0m     notebook_path \u001b[38;5;241m=\u001b[39m notebook_dir \u001b[38;5;241m/\u001b[39m notebook_name\n\u001b[1;32m---> 13\u001b[0m     \u001b[43mpm\u001b[49m\u001b[38;5;241;43m.\u001b[39;49m\u001b[43mexecute_notebook\u001b[49m\u001b[43m(\u001b[49m\u001b[38;5;28;43mstr\u001b[39;49m\u001b[43m(\u001b[49m\u001b[43mnotebook_path\u001b[49m\u001b[43m)\u001b[49m\u001b[43m,\u001b[49m\u001b[43m \u001b[49m\u001b[38;5;28;43mstr\u001b[39;49m\u001b[43m(\u001b[49m\u001b[43mnotebook_path\u001b[49m\u001b[43m)\u001b[49m\u001b[43m)\u001b[49m\n\u001b[0;32m     14\u001b[0m     \u001b[38;5;28mprint\u001b[39m(\u001b[38;5;124mf\u001b[39m\u001b[38;5;124m\"\u001b[39m\u001b[38;5;132;01m{\u001b[39;00mnotebook_name\u001b[38;5;132;01m}\u001b[39;00m\u001b[38;5;124m executado com sucesso.\u001b[39m\u001b[38;5;124m\"\u001b[39m)\n",
      "File \u001b[1;32mc:\\Users\\jian_\\.conda\\envs\\meu_ambiente\\Lib\\site-packages\\papermill\\execute.py:131\u001b[0m, in \u001b[0;36mexecute_notebook\u001b[1;34m(input_path, output_path, parameters, engine_name, request_save_on_cell_execute, prepare_only, kernel_name, language, progress_bar, log_output, stdout_file, stderr_file, start_timeout, report_mode, cwd, **engine_kwargs)\u001b[0m\n\u001b[0;32m    116\u001b[0m         nb \u001b[38;5;241m=\u001b[39m papermill_engines\u001b[38;5;241m.\u001b[39mexecute_notebook_with_engine(\n\u001b[0;32m    117\u001b[0m             engine_name,\n\u001b[0;32m    118\u001b[0m             nb,\n\u001b[1;32m   (...)\u001b[0m\n\u001b[0;32m    127\u001b[0m             \u001b[38;5;241m*\u001b[39m\u001b[38;5;241m*\u001b[39mengine_kwargs,\n\u001b[0;32m    128\u001b[0m         )\n\u001b[0;32m    130\u001b[0m     \u001b[38;5;66;03m# Check for errors first (it saves on error before raising)\u001b[39;00m\n\u001b[1;32m--> 131\u001b[0m     \u001b[43mraise_for_execution_errors\u001b[49m\u001b[43m(\u001b[49m\u001b[43mnb\u001b[49m\u001b[43m,\u001b[49m\u001b[43m \u001b[49m\u001b[43moutput_path\u001b[49m\u001b[43m)\u001b[49m\n\u001b[0;32m    133\u001b[0m \u001b[38;5;66;03m# Write final output in case the engine didn't write it on cell completion.\u001b[39;00m\n\u001b[0;32m    134\u001b[0m write_ipynb(nb, output_path)\n",
      "File \u001b[1;32mc:\\Users\\jian_\\.conda\\envs\\meu_ambiente\\Lib\\site-packages\\papermill\\execute.py:251\u001b[0m, in \u001b[0;36mraise_for_execution_errors\u001b[1;34m(nb, output_path)\u001b[0m\n\u001b[0;32m    248\u001b[0m nb\u001b[38;5;241m.\u001b[39mcells\u001b[38;5;241m.\u001b[39minsert(\u001b[38;5;241m0\u001b[39m, error_msg_cell)\n\u001b[0;32m    250\u001b[0m write_ipynb(nb, output_path)\n\u001b[1;32m--> 251\u001b[0m \u001b[38;5;28;01mraise\u001b[39;00m error\n",
      "\u001b[1;31mPapermillExecutionError\u001b[0m: \n---------------------------------------------------------------------------\nException encountered at \"In [1]\":\n---------------------------------------------------------------------------\nPapermillExecutionError                   Traceback (most recent call last)\nCell In[1], line 14\n     12 for notebook_name in notebooks:\n     13     notebook_path = notebook_dir / notebook_name\n---> 14     pm.execute_notebook(str(notebook_path), str(notebook_path))\n     15     print(f\"{notebook_name} executado com sucesso.\")\n\nFile ~\\.conda\\envs\\meu_ambiente\\Lib\\site-packages\\papermill\\execute.py:131, in execute_notebook(input_path, output_path, parameters, engine_name, request_save_on_cell_execute, prepare_only, kernel_name, language, progress_bar, log_output, stdout_file, stderr_file, start_timeout, report_mode, cwd, **engine_kwargs)\n    116         nb = papermill_engines.execute_notebook_with_engine(\n    117             engine_name,\n    118             nb,\n   (...)\n    127             **engine_kwargs,\n    128         )\n    130     # Check for errors first (it saves on error before raising)\n--> 131     raise_for_execution_errors(nb, output_path)\n    133 # Write final output in case the engine didn't write it on cell completion.\n    134 write_ipynb(nb, output_path)\n\nFile ~\\.conda\\envs\\meu_ambiente\\Lib\\site-packages\\papermill\\execute.py:251, in raise_for_execution_errors(nb, output_path)\n    248 nb.cells.insert(0, error_msg_cell)\n    250 write_ipynb(nb, output_path)\n--> 251 raise error\n\nPapermillExecutionError: \n---------------------------------------------------------------------------\nException encountered at \"In [3]\":\n---------------------------------------------------------------------------\nValueError                                Traceback (most recent call last)\nCell In[3], line 1\n----> 1 correlation_matrix = df.corr()\n      3 # Exibir a matriz de correlação\n      4 print(\"Matriz de Correlação:\")\n\nFile ~\\AppData\\Roaming\\Python\\Python312\\site-packages\\pandas\\core\\frame.py:11049, in DataFrame.corr(self, method, min_periods, numeric_only)\n  11047 cols = data.columns\n  11048 idx = cols.copy()\n> 11049 mat = data.to_numpy(dtype=float, na_value=np.nan, copy=False)\n  11051 if method == \"pearson\":\n  11052     correl = libalgos.nancorr(mat, minp=min_periods)\n\nFile ~\\AppData\\Roaming\\Python\\Python312\\site-packages\\pandas\\core\\frame.py:1993, in DataFrame.to_numpy(self, dtype, copy, na_value)\n   1991 if dtype is not None:\n   1992     dtype = np.dtype(dtype)\n-> 1993 result = self._mgr.as_array(dtype=dtype, copy=copy, na_value=na_value)\n   1994 if result.dtype is not dtype:\n   1995     result = np.asarray(result, dtype=dtype)\n\nFile ~\\AppData\\Roaming\\Python\\Python312\\site-packages\\pandas\\core\\internals\\managers.py:1694, in BlockManager.as_array(self, dtype, copy, na_value)\n   1692         arr.flags.writeable = False\n   1693 else:\n-> 1694     arr = self._interleave(dtype=dtype, na_value=na_value)\n   1695     # The underlying data was copied within _interleave, so no need\n   1696     # to further copy if copy=True or setting na_value\n   1698 if na_value is lib.no_default:\n\nFile ~\\AppData\\Roaming\\Python\\Python312\\site-packages\\pandas\\core\\internals\\managers.py:1753, in BlockManager._interleave(self, dtype, na_value)\n   1751     else:\n   1752         arr = blk.get_values(dtype)\n-> 1753     result[rl.indexer] = arr\n   1754     itemmask[rl.indexer] = 1\n   1756 if not itemmask.all():\n\nValueError: could not convert string to float: 'male'\n\n"
     ]
    }
   ],
   "source": [
    "import papermill as pm\n",
    "from pathlib import Path\n",
    "\n",
    "notebook_dir = Path(\"\")\n",
    "\n",
    "notebooks = [\n",
    "    \"1_executa_pre_processamento.ipynb\",\n",
    "    \"2_executa_transformacao.ipynb\"\n",
    "]\n",
    "\n",
    "for notebook_name in notebooks:\n",
    "    notebook_path = notebook_dir / notebook_name\n",
    "    pm.execute_notebook(str(notebook_path), str(notebook_path))\n",
    "    print(f\"{notebook_name} executado com sucesso.\")\n"
   ]
  }
 ],
 "metadata": {
  "kernelspec": {
   "display_name": "Python 3",
   "language": "python",
   "name": "python3"
  },
  "language_info": {
   "codemirror_mode": {
    "name": "ipython",
    "version": 3
   },
   "file_extension": ".py",
   "mimetype": "text/x-python",
   "name": "python",
   "nbconvert_exporter": "python",
   "pygments_lexer": "ipython3",
   "version": "3.12.7"
  }
 },
 "nbformat": 4,
 "nbformat_minor": 2
}
