{
 "cells": [
  {
   "cell_type": "markdown",
   "metadata": {},
   "source": [
    "## Executa todos os notebooks"
   ]
  },
  {
   "cell_type": "code",
   "execution_count": 3,
   "metadata": {},
   "outputs": [
    {
     "name": "stderr",
     "output_type": "stream",
     "text": [
      "Executing: 100%|██████████| 1/1 [8:11:37<00:00, 29497.65s/cell]\n"
     ]
    },
    {
     "name": "stdout",
     "output_type": "stream",
     "text": [
      "3_executa_minerar_dados.ipynb executado com sucesso.\n"
     ]
    },
    {
     "name": "stderr",
     "output_type": "stream",
     "text": [
      "Executing: 100%|██████████| 1/1 [8:22:28<00:00, 30148.73s/cell]\n"
     ]
    },
    {
     "name": "stdout",
     "output_type": "stream",
     "text": [
      "4_executa_minerar_dados_normalizados.ipynb executado com sucesso.\n"
     ]
    },
    {
     "name": "stderr",
     "output_type": "stream",
     "text": [
      "Executing: 100%|██████████| 1/1 [8:17:04<00:00, 29824.27s/cell]"
     ]
    },
    {
     "name": "stdout",
     "output_type": "stream",
     "text": [
      "5_executa_minerar_dados_sem_duplicatas.ipynb executado com sucesso.\n"
     ]
    },
    {
     "name": "stderr",
     "output_type": "stream",
     "text": [
      "\n"
     ]
    }
   ],
   "source": [
    "import papermill as pm\n",
    "from pathlib import Path\n",
    "\n",
    "notebook_dir = Path(\"\")\n",
    "kernel = \"meu_ambiente\"  # Substitua pelo nome do kernel desejado\n",
    "\n",
    "notebooks = [\n",
    "    # \"1_executa_pre_processamento.ipynb\",\n",
    "    # \"2_executa_transformacao.ipynb\",\n",
    "    \"3_executa_minerar_dados.ipynb\",\n",
    "    \"4_executa_minerar_dados_normalizados.ipynb\",\n",
    "    \"5_executa_minerar_dados_sem_duplicatas.ipynb\"\n",
    "]\n",
    "\n",
    "for notebook_name in notebooks:\n",
    "    notebook_path = notebook_dir / notebook_name\n",
    "    pm.execute_notebook(\n",
    "        str(notebook_path),\n",
    "        str(notebook_path),\n",
    "        kernel_name=kernel  # Adiciona o kernel\n",
    "    )\n",
    "    print(f\"{notebook_name} executado com sucesso.\")\n"
   ]
  }
 ],
 "metadata": {
  "kernelspec": {
   "display_name": "meu_ambiente",
   "language": "python",
   "name": "python3"
  },
  "language_info": {
   "codemirror_mode": {
    "name": "ipython",
    "version": 3
   },
   "file_extension": ".py",
   "mimetype": "text/x-python",
   "name": "python",
   "nbconvert_exporter": "python",
   "pygments_lexer": "ipython3",
   "version": "3.12.7"
  }
 },
 "nbformat": 4,
 "nbformat_minor": 2
}
