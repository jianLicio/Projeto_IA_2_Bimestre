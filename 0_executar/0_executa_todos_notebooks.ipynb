{
 "cells": [
  {
   "cell_type": "markdown",
   "metadata": {},
   "source": [
    "## Executa todos os notebooks"
   ]
  },
  {
   "cell_type": "code",
   "execution_count": null,
   "metadata": {},
   "outputs": [],
   "source": []
  },
  {
   "cell_type": "code",
   "execution_count": null,
   "metadata": {},
   "outputs": [],
   "source": [
    "import papermill as pm\n",
    "from pathlib import Path\n",
    "\n",
    "exec(open(\"../0_variaveis.py\").read())\n",
    "\n",
    "notebook_dir = Path(\"\")\n",
    "kernel = kernel_de_processamento  # type: ignore\n",
    "\n",
    "notebooks = [\n",
    "    \"1_executa_pre_processamento.ipynb\",\n",
    "    \"2_executa_transformacao.ipynb\",\n",
    "    \"3_executa_minerar_dados.ipynb\",\n",
    "    \"4_executa_minerar_dados_normalizados.ipynb\",\n",
    "    \"5_executa_minerar_dados_sem_duplicatas.ipynb\",\n",
    "    \"6_executa_minerar_dados_final\"\n",
    "]\n",
    "\n",
    "for notebook_name in notebooks:\n",
    "    notebook_path = notebook_dir / notebook_name\n",
    "    pm.execute_notebook(\n",
    "        str(notebook_path),\n",
    "        str(notebook_path),\n",
    "        kernel_name=kernel  # Adiciona o kernel\n",
    "    )\n",
    "    print(f\"{notebook_name} executado com sucesso.\")\n"
   ]
  }
 ],
 "metadata": {
  "kernelspec": {
   "display_name": "meu_ambiente",
   "language": "python",
   "name": "python3"
  },
  "language_info": {
   "codemirror_mode": {
    "name": "ipython",
    "version": 3
   },
   "file_extension": ".py",
   "mimetype": "text/x-python",
   "name": "python",
   "nbconvert_exporter": "python",
   "pygments_lexer": "ipython3",
   "version": "3.12.7"
  }
 },
 "nbformat": 4,
 "nbformat_minor": 2
}
