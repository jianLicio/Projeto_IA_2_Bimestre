{
 "cells": [
  {
   "cell_type": "code",
   "execution_count": 1,
   "id": "8e985359",
   "metadata": {
    "execution": {
     "iopub.execute_input": "2024-12-25T01:57:09.354824Z",
     "iopub.status.busy": "2024-12-25T01:57:09.354824Z",
     "iopub.status.idle": "2024-12-25T10:08:45.440934Z",
     "shell.execute_reply": "2024-12-25T10:08:45.440934Z"
    },
    "papermill": {
     "duration": 29496.097121,
     "end_time": "2024-12-25T10:08:45.441943",
     "exception": false,
     "start_time": "2024-12-25T01:57:09.344822",
     "status": "completed"
    },
    "tags": []
   },
   "outputs": [
    {
     "name": "stderr",
     "output_type": "stream",
     "text": [
      "C:\\Users\\jian_\\.conda\\envs\\meu_ambiente\\Lib\\site-packages\\tqdm\\auto.py:21: TqdmWarning: IProgress not found. Please update jupyter and ipywidgets. See https://ipywidgets.readthedocs.io/en/stable/user_install.html\n",
      "  from .autonotebook import tqdm as notebook_tqdm\n"
     ]
    },
    {
     "name": "stderr",
     "output_type": "stream",
     "text": [
      "\r",
      "Executing:   0%|          | 0/2 [00:00<?, ?cell/s]"
     ]
    },
    {
     "name": "stderr",
     "output_type": "stream",
     "text": [
      "\r",
      "Executing:  50%|█████     | 1/2 [00:03<00:03,  3.19s/cell]"
     ]
    },
    {
     "name": "stderr",
     "output_type": "stream",
     "text": [
      "\r",
      "Executing: 100%|██████████| 2/2 [8:11:34<00:00, 17349.34s/cell]"
     ]
    },
    {
     "name": "stderr",
     "output_type": "stream",
     "text": [
      "\r",
      "Executing: 100%|██████████| 2/2 [8:11:35<00:00, 14747.72s/cell]"
     ]
    },
    {
     "name": "stdout",
     "output_type": "stream",
     "text": [
      "4_minerar_dados/svm.ipynb executado com sucesso.\n"
     ]
    },
    {
     "name": "stderr",
     "output_type": "stream",
     "text": [
      "\n"
     ]
    }
   ],
   "source": [
    "import papermill as pm\n",
    "from pathlib import Path\n",
    "\n",
    "notebook_dir = Path(\"../\")\n",
    "kernel = \"meu_ambiente\"  # Substitua pelo nome do kernel desejado\n",
    "\n",
    "notebooks = [\n",
    "    # \"4_minerar_dados/1_amostra.ipynb\",\n",
    "    # \"4_minerar_dados/arvore_decisao.ipynb\",\n",
    "    # \"4_minerar_dados/knn.ipynb\",\n",
    "    # \"4_minerar_dados/naive_bayes.ipynb\",\n",
    "    # \"4_minerar_dados/regressao_linear.ipynb\",\n",
    "    \"4_minerar_dados/svm.ipynb\"\n",
    "]\n",
    "\n",
    "for notebook_name in notebooks:\n",
    "    notebook_path = notebook_dir / notebook_name\n",
    "    pm.execute_notebook(\n",
    "        str(notebook_path),\n",
    "        str(notebook_path),\n",
    "        kernel_name=kernel  # Especifica o kernel\n",
    "    )\n",
    "    print(f\"{notebook_name} executado com sucesso.\")\n"
   ]
  }
 ],
 "metadata": {
  "kernelspec": {
   "display_name": "meu_ambiente",
   "language": "python",
   "name": "python3"
  },
  "language_info": {
   "codemirror_mode": {
    "name": "ipython",
    "version": 3
   },
   "file_extension": ".py",
   "mimetype": "text/x-python",
   "name": "python",
   "nbconvert_exporter": "python",
   "pygments_lexer": "ipython3",
   "version": "3.12.7"
  },
  "papermill": {
   "default_parameters": {},
   "duration": 29497.654116,
   "end_time": "2024-12-25T10:08:45.730940",
   "environment_variables": {},
   "exception": null,
   "input_path": "3_executa_minerar_dados.ipynb",
   "output_path": "3_executa_minerar_dados.ipynb",
   "parameters": {},
   "start_time": "2024-12-25T01:57:08.076824",
   "version": "2.6.0"
  }
 },
 "nbformat": 4,
 "nbformat_minor": 5
}