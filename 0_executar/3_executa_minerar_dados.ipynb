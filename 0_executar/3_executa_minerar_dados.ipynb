{
 "cells": [
  {
   "cell_type": "code",
   "execution_count": 1,
   "id": "8e985359",
   "metadata": {
    "execution": {
     "iopub.execute_input": "2024-12-27T16:03:00.888385Z",
     "iopub.status.busy": "2024-12-27T16:03:00.888385Z"
    },
    "papermill": {
     "duration": null,
     "end_time": null,
     "exception": false,
     "start_time": "2024-12-27T16:03:00.388871",
     "status": "running"
    },
    "tags": []
   },
   "outputs": [
    {
     "name": "stderr",
     "output_type": "stream",
     "text": [
      "C:\\Users\\jian_\\.conda\\envs\\meu_ambiente\\Lib\\site-packages\\tqdm\\auto.py:21: TqdmWarning: IProgress not found. Please update jupyter and ipywidgets. See https://ipywidgets.readthedocs.io/en/stable/user_install.html\n",
      "  from .autonotebook import tqdm as notebook_tqdm\n"
     ]
    },
    {
     "name": "stderr",
     "output_type": "stream",
     "text": [
      "\r",
      "Executing:   0%|          | 0/2 [00:00<?, ?cell/s]"
     ]
    },
    {
     "name": "stderr",
     "output_type": "stream",
     "text": [
      "\r",
      "Executing:  50%|█████     | 1/2 [00:02<00:02,  2.99s/cell]"
     ]
    },
    {
     "name": "stderr",
     "output_type": "stream",
     "text": [
      "\r",
      "Executing: 100%|██████████| 2/2 [00:03<00:00,  1.82s/cell]"
     ]
    },
    {
     "name": "stderr",
     "output_type": "stream",
     "text": [
      "\r",
      "Executing: 100%|██████████| 2/2 [00:04<00:00,  2.16s/cell]"
     ]
    },
    {
     "name": "stderr",
     "output_type": "stream",
     "text": [
      "\n"
     ]
    },
    {
     "name": "stdout",
     "output_type": "stream",
     "text": [
      "4_minerar_dados/1_amostra.ipynb executado com sucesso.\n"
     ]
    },
    {
     "name": "stderr",
     "output_type": "stream",
     "text": [
      "\r",
      "Executing:   0%|          | 0/2 [00:00<?, ?cell/s]"
     ]
    },
    {
     "name": "stderr",
     "output_type": "stream",
     "text": [
      "\r",
      "Executing:  50%|█████     | 1/2 [00:02<00:02,  2.55s/cell]"
     ]
    },
    {
     "name": "stderr",
     "output_type": "stream",
     "text": [
      "\r",
      "Executing: 100%|██████████| 2/2 [00:03<00:00,  1.61s/cell]"
     ]
    },
    {
     "name": "stderr",
     "output_type": "stream",
     "text": [
      "\r",
      "Executing: 100%|██████████| 2/2 [00:04<00:00,  2.01s/cell]"
     ]
    },
    {
     "name": "stderr",
     "output_type": "stream",
     "text": [
      "\n"
     ]
    },
    {
     "name": "stdout",
     "output_type": "stream",
     "text": [
      "4_minerar_dados/arvore_decisao.ipynb executado com sucesso.\n"
     ]
    },
    {
     "name": "stderr",
     "output_type": "stream",
     "text": [
      "\r",
      "Executing:   0%|          | 0/2 [00:00<?, ?cell/s]"
     ]
    },
    {
     "name": "stderr",
     "output_type": "stream",
     "text": [
      "\r",
      "Executing:  50%|█████     | 1/2 [00:02<00:02,  2.51s/cell]"
     ]
    },
    {
     "name": "stderr",
     "output_type": "stream",
     "text": [
      "\r",
      "Executing: 100%|██████████| 2/2 [01:49<00:00, 63.95s/cell]"
     ]
    }
   ],
   "source": [
    "import papermill as pm # type: ignore\n",
    "from pathlib import Path\n",
    "\n",
    "exec(open(\"../0_variaveis.py\").read())\n",
    "\n",
    "notebook_dir = Path(\"../\")\n",
    "kernel = kernel_de_processamento  # type: ignore\n",
    "\n",
    "notebooks = [\n",
    "    \"4_minerar_dados/1_amostra.ipynb\",\n",
    "    \"4_minerar_dados/arvore_decisao.ipynb\",\n",
    "    \"4_minerar_dados/knn.ipynb\",\n",
    "    \"4_minerar_dados/naive_bayes.ipynb\",\n",
    "    \"4_minerar_dados/regressao_linear.ipynb\",\n",
    "    \"4_minerar_dados/svm.ipynb\"\n",
    "]\n",
    "\n",
    "for notebook_name in notebooks:\n",
    "    notebook_path = notebook_dir / notebook_name\n",
    "    pm.execute_notebook(\n",
    "        str(notebook_path),\n",
    "        str(notebook_path),\n",
    "        kernel_name=kernel  # Especifica o kernel\n",
    "    )\n",
    "    print(f\"{notebook_name} executado com sucesso.\")\n"
   ]
  }
 ],
 "metadata": {
  "kernelspec": {
   "display_name": "meu_ambiente",
   "language": "python",
   "name": "python3"
  },
  "language_info": {
   "codemirror_mode": {
    "name": "ipython",
    "version": 3
   },
   "file_extension": ".py",
   "mimetype": "text/x-python",
   "name": "python",
   "nbconvert_exporter": "python",
   "pygments_lexer": "ipython3",
   "version": "3.12.7"
  },
  "papermill": {
   "default_parameters": {},
   "duration": null,
   "end_time": null,
   "environment_variables": {},
   "exception": null,
   "input_path": "3_executa_minerar_dados.ipynb",
   "output_path": "3_executa_minerar_dados.ipynb",
   "parameters": {},
   "start_time": "2024-12-27T16:02:59.137169",
   "version": "2.6.0"
  }
 },
 "nbformat": 4,
 "nbformat_minor": 5
}