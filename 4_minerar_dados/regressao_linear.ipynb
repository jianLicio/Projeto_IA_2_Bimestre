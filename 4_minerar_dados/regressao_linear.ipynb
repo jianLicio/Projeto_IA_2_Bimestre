{
 "cells": [
  {
   "cell_type": "code",
   "execution_count": 1,
   "id": "75216d81",
   "metadata": {
    "execution": {
     "iopub.execute_input": "2024-12-24T20:46:23.815013Z",
     "iopub.status.busy": "2024-12-24T20:46:23.815013Z",
     "iopub.status.idle": "2024-12-24T20:46:26.464000Z",
     "shell.execute_reply": "2024-12-24T20:46:26.464000Z"
    },
    "papermill": {
     "duration": 2.661525,
     "end_time": "2024-12-24T20:46:26.466009",
     "exception": false,
     "start_time": "2024-12-24T20:46:23.804484",
     "status": "completed"
    },
    "tags": []
   },
   "outputs": [],
   "source": [
    "from sklearn.metrics import confusion_matrix, classification_report, ConfusionMatrixDisplay, accuracy_score\n",
    "from sklearn.model_selection import train_test_split\n",
    "import statsmodels.api as sm\n",
    "import pandas as pd\n",
    "import numpy as np\n",
    "\n",
    "df = pd.read_csv('../base_dados/beber_amostra.csv', low_memory=False)\n"
   ]
  },
  {
   "cell_type": "code",
   "execution_count": 2,
   "id": "9c968fc7",
   "metadata": {
    "execution": {
     "iopub.execute_input": "2024-12-24T20:46:26.496522Z",
     "iopub.status.busy": "2024-12-24T20:46:26.495522Z",
     "iopub.status.idle": "2024-12-24T20:46:28.219246Z",
     "shell.execute_reply": "2024-12-24T20:46:28.219246Z"
    },
    "papermill": {
     "duration": 1.745243,
     "end_time": "2024-12-24T20:46:28.220255",
     "exception": false,
     "start_time": "2024-12-24T20:46:26.475012",
     "status": "completed"
    },
    "tags": []
   },
   "outputs": [
    {
     "name": "stdout",
     "output_type": "stream",
     "text": [
      "                            OLS Regression Results                            \n",
      "==============================================================================\n",
      "Dep. Variable:                 drk_yn   R-squared:                       0.252\n",
      "Model:                            OLS   Adj. R-squared:                  0.252\n",
      "Method:                 Least Squares   F-statistic:                     7004.\n",
      "Date:                Thu, 26 Dec 2024   Prob (F-statistic):               0.00\n",
      "Time:                        10:43:35   Log-Likelihood:            -2.4177e+05\n",
      "No. Observations:              416304   AIC:                         4.836e+05\n",
      "Df Residuals:                  416283   BIC:                         4.838e+05\n",
      "Df Model:                          20                                         \n",
      "Covariance Type:            nonrobust                                         \n",
      "==========================================================================================\n",
      "                             coef    std err          t      P>|t|      [0.025      0.975]\n",
      "------------------------------------------------------------------------------------------\n",
      "const                     -0.5054      0.024    -20.643      0.000      -0.553      -0.457\n",
      "sex                        0.1843      0.002     76.943      0.000       0.180       0.189\n",
      "age                       -0.0077    6.2e-05   -123.698      0.000      -0.008      -0.008\n",
      "height                     0.0028      0.000     20.440      0.000       0.002       0.003\n",
      "sight_left                 0.0035      0.001      3.377      0.001       0.001       0.006\n",
      "sight_right               -0.0019      0.001     -1.801      0.072      -0.004       0.000\n",
      "urine_protein             -0.0070      0.002     -4.480      0.000      -0.010      -0.004\n",
      "smk_stat_type_cd           0.0978      0.001     94.454      0.000       0.096       0.100\n",
      "sbp_grupo                  0.0001   4.93e-05      2.430      0.015    2.32e-05       0.000\n",
      "dbp_grupo                  0.0021      0.000     20.132      0.000       0.002       0.002\n",
      "blds_grupo                 0.0006   4.57e-05     12.194      0.000       0.000       0.001\n",
      "hemoglobin_grupo          -0.0004      0.000     -0.976      0.329      -0.001       0.000\n",
      "waistline_grupo            0.0012      0.000      8.989      0.000       0.001       0.001\n",
      "weight_grupo               0.0001      0.000      1.007      0.314      -0.000       0.000\n",
      "serum_creatinine_grupo    -0.0112      0.001    -10.609      0.000      -0.013      -0.009\n",
      "tot_chole_grupo            0.0002   4.87e-05      3.912      0.000     9.5e-05       0.000\n",
      "hdl_chole_grupo            0.0052   6.66e-05     77.986      0.000       0.005       0.005\n",
      "ldl_chole_grupo           -0.0006   5.02e-05    -11.459      0.000      -0.001      -0.000\n",
      "triglyceride_grupo         0.0002   9.88e-06     19.237      0.000       0.000       0.000\n",
      "sgot_ast_grupo            -0.0004   4.72e-05     -8.814      0.000      -0.001      -0.000\n",
      "gamma_gtp_grupo            0.0008   1.62e-05     52.244      0.000       0.001       0.001\n",
      "==============================================================================\n",
      "Omnibus:                   107835.888   Durbin-Watson:                   1.995\n",
      "Prob(Omnibus):                  0.000   Jarque-Bera (JB):            18180.351\n",
      "Skew:                          -0.034   Prob(JB):                         0.00\n",
      "Kurtosis:                       1.978   Cond. No.                     1.43e+04\n",
      "==============================================================================\n",
      "\n",
      "Notes:\n",
      "[1] Standard Errors assume that the covariance matrix of the errors is correctly specified.\n",
      "[2] The condition number is large, 1.43e+04. This might indicate that there are\n",
      "strong multicollinearity or other numerical problems.\n",
      "Acurácia: 0.72\n",
      "Relatório de Classificação:\n",
      "               precision    recall  f1-score   support\n",
      "\n",
      "           0       0.72      0.72      0.72     89406\n",
      "           1       0.72      0.71      0.72     89010\n",
      "\n",
      "    accuracy                           0.72    178416\n",
      "   macro avg       0.72      0.72      0.72    178416\n",
      "weighted avg       0.72      0.72      0.72    178416\n",
      "\n",
      "Matriz de Confusão (Texto):\n",
      " [[64550 24856]\n",
      " [25506 63504]]\n",
      "Acurácia salva com sucesso.\n"
     ]
    },
    {
     "data": {
      "image/png": "[encoded data removed]",
      "text/plain": [
       "<Figure size 640x480 with 2 Axes>"
      ]
     },
     "metadata": {},
     "output_type": "display_data"
    }
   ],
   "source": [
    "\n",
    "\n",
    "# Definir variáveis independentes (X) e dependente (y)\n",
    "X = df.drop(columns=['drk_yn'])  # Todas as colunas, exceto a de destino\n",
    "y = df['drk_yn']\n",
    "\n",
    "# Dividir em treino e teste\n",
    "X_train, X_test, y_train, y_test = train_test_split(X, y, test_size=0.3, random_state=42)\n",
    "\n",
    "# Adicionar constante ao modelo (intercepto)\n",
    "X_train = sm.add_constant(X_train)\n",
    "X_test = sm.add_constant(X_test)\n",
    "\n",
    "# Ajustar o modelo de regressão linear\n",
    "modelo = sm.OLS(y_train, X_train).fit()\n",
    "\n",
    "# Exibir o resumo do modelo\n",
    "print(modelo.summary())\n",
    "\n",
    "# Fazer previsões (resultados contínuos)\n",
    "y_pred = modelo.predict(X_test)\n",
    "\n",
    "# Converter previsões para classes binárias (0 ou 1) com threshold de 0.5\n",
    "y_pred_class = np.where(y_pred >= 0.5, 1, 0)\n",
    "\n",
    "# Avaliar o modelo\n",
    "accuracy = accuracy_score(y_test, y_pred_class)\n",
    "print(f'Acurácia: {accuracy:.2f}')\n",
    "\n",
    "# Relatório de classificação\n",
    "print(\"Relatório de Classificação:\\n\", classification_report(y_test, y_pred_class))\n",
    "\n",
    "# Matriz de confusão\n",
    "cm = confusion_matrix(y_test, y_pred_class)\n",
    "print(\"Matriz de Confusão (Texto):\\n\", cm)\n",
    "\n",
    "# Exibir matriz de confusão graficamente\n",
    "disp = ConfusionMatrixDisplay(confusion_matrix=cm)\n",
    "disp.plot()\n",
    "\n",
    "# cm_df = pd.DataFrame(cm, index=[f'Classe {i}' for i in range(len(cm))], columns=[f'Classe {i}' for i in range(len(cm))])\n",
    "# cm_df.to_csv('../base_dados/resultados_mineracao_dados/matriz_confusao_regressao_linear.csv', index=True)\n",
    "\n",
    "resultados = pd.DataFrame({\n",
    "    'Modelo': ['Regressão Linear'],\n",
    "    'Acurácia': [accuracy]\n",
    "})\n",
    "\n",
    "# Salvar o resultado em um arquivo CSV\n",
    "resultados.to_csv('../base_dados/resultados_mineracao_dados/resultado_regressao_linear_comum.csv', index=False)\n",
    "\n",
    "print(\"Acurácia salva com sucesso.\")"
   ]
  }
 ],
 "metadata": {
  "kernelspec": {
   "display_name": "meu_ambiente",
   "language": "python",
   "name": "python3"
  },
  "language_info": {
   "codemirror_mode": {
    "name": "ipython",
    "version": 3
   },
   "file_extension": ".py",
   "mimetype": "text/x-python",
   "name": "python",
   "nbconvert_exporter": "python",
   "pygments_lexer": "ipython3",
   "version": "3.12.7"
  },
  "papermill": {
   "default_parameters": {},
   "duration": 6.768778,
   "end_time": "2024-12-24T20:46:28.863372",
   "environment_variables": {},
   "exception": null,
   "input_path": "..\\4_minerar_dados\\regressao_linear.ipynb",
   "output_path": "..\\4_minerar_dados\\regressao_linear.ipynb",
   "parameters": {},
   "start_time": "2024-12-24T20:46:22.094594",
   "version": "2.6.0"
  }
 },
 "nbformat": 4,
 "nbformat_minor": 5
}
