{
 "cells": [
  {
   "cell_type": "code",
   "execution_count": 1,
   "id": "d2403795",
   "metadata": {
    "execution": {
     "iopub.execute_input": "2024-12-27T16:05:01.058079Z",
     "iopub.status.busy": "2024-12-27T16:05:01.058079Z",
     "iopub.status.idle": "2024-12-27T16:05:02.196022Z",
     "shell.execute_reply": "2024-12-27T16:05:02.196022Z"
    },
    "papermill": {
     "duration": 1.145956,
     "end_time": "2024-12-27T16:05:02.197030",
     "exception": false,
     "start_time": "2024-12-27T16:05:01.051074",
     "status": "completed"
    },
    "tags": []
   },
   "outputs": [],
   "source": [
    "import pandas as pd\n",
    "from sklearn.model_selection import train_test_split\n",
    "from sklearn.preprocessing import LabelEncoder\n",
    "from sklearn.naive_bayes import CategoricalNB\n",
    "from sklearn.metrics import accuracy_score, classification_report, confusion_matrix, ConfusionMatrixDisplay\n",
    "from sklearn.naive_bayes import GaussianNB\n",
    "\n",
    "df = pd.read_csv('../base_dados/beber_amostra.csv', low_memory=False)\n"
   ]
  },
  {
   "cell_type": "markdown",
   "id": "818162bd",
   "metadata": {
    "papermill": {
     "duration": 0.013999,
     "end_time": "2024-12-27T16:05:02.218026",
     "exception": false,
     "start_time": "2024-12-27T16:05:02.204027",
     "status": "completed"
    },
    "tags": []
   },
   "source": [
    "### Quantitativos"
   ]
  },
  {
   "cell_type": "code",
   "execution_count": 2,
   "id": "0a486f8f",
   "metadata": {
    "execution": {
     "iopub.execute_input": "2024-12-27T16:05:02.245029Z",
     "iopub.status.busy": "2024-12-27T16:05:02.244026Z",
     "iopub.status.idle": "2024-12-27T16:05:02.861737Z",
     "shell.execute_reply": "2024-12-27T16:05:02.861737Z"
    },
    "papermill": {
     "duration": 0.632718,
     "end_time": "2024-12-27T16:05:02.862744",
     "exception": false,
     "start_time": "2024-12-27T16:05:02.230026",
     "status": "completed"
    },
    "tags": []
   },
   "outputs": [
    {
     "name": "stdout",
     "output_type": "stream",
     "text": [
      "Acurácia: 0.6959577616357278\n",
      "Relatório de Classificação:\n",
      "               precision    recall  f1-score   support\n",
      "\n",
      "           0       0.67      0.76      0.71     14811\n",
      "           1       0.73      0.63      0.67     14925\n",
      "\n",
      "    accuracy                           0.70     29736\n",
      "   macro avg       0.70      0.70      0.69     29736\n",
      "weighted avg       0.70      0.70      0.69     29736\n",
      "\n",
      "Matriz de Confusão (Texto):\n",
      " [[11309  3502]\n",
      " [ 5539  9386]]\n"
     ]
    },
    {
     "name": "stdout",
     "output_type": "stream",
     "text": [
      "Resultados salvos com sucesso.\n"
     ]
    },
    {
     "data": {
      "image/png": "[encoded data removed]",
      "text/plain": [
       "<Figure size 640x480 with 2 Axes>"
      ]
     },
     "metadata": {},
     "output_type": "display_data"
    }
   ],
   "source": [
    "# Separar features e target\n",
    "X = df.drop(columns=['drk_yn'])\n",
    "y = df['drk_yn']\n",
    "\n",
    "# Dividir dados em treino e teste\n",
    "X_train, X_test, y_train, y_test = train_test_split(X, y, test_size=0.3, random_state=42)\n",
    "\n",
    "# Criar e treinar o modelo\n",
    "gnb = GaussianNB()\n",
    "gnb.fit(X_train, y_train)\n",
    "\n",
    "# Prever e avaliar\n",
    "y_pred = gnb.predict(X_test)\n",
    "\n",
    "# Avaliação\n",
    "accuracy = accuracy_score(y_test, y_pred)\n",
    "report = classification_report(y_test, y_pred)\n",
    "\n",
    "print(\"Acurácia:\", accuracy)\n",
    "print(\"Relatório de Classificação:\\n\", report)\n",
    "\n",
    "# Matriz de confusão\n",
    "cm = confusion_matrix(y_test, y_pred)\n",
    "print(\"Matriz de Confusão (Texto):\\n\", cm)\n",
    "\n",
    "# Salvar acurácia e relatório em CSV\n",
    "resultados = pd.DataFrame({\n",
    "    'Modelo': ['Naive Bayes'],\n",
    "    'Acurácia': [accuracy]\n",
    "})\n",
    "\n",
    "# Salvar relatório de classificação como arquivo de texto\n",
    "with open('../base_dados/resultados_mineracao_dados/relatorio_classificacao_naive_bayes_quantitativo_comum.txt', 'w') as f:\n",
    "    f.write(\"Relatório de Classificação:\\n\")\n",
    "    f.write(report)\n",
    "\n",
    "# Salvar matriz de confusão\n",
    "# cm_df = pd.DataFrame(cm, index=[f'Classe {i}' for i in range(len(cm))], columns=[f'Classe {i}' for i in range(len(cm))])\n",
    "# cm_df.to_csv('../base_dados/resultados_mineracao_dados/matriz_confusao_naive_bayes.csv', index=True)\n",
    "\n",
    "# Salvar acurácia em CSV\n",
    "resultados.to_csv('../base_dados/resultados_mineracao_dados/resultado__naive_bayes_quantitativo_comum.csv', index=False)\n",
    "\n",
    "# Exibir matriz de confusão graficamente\n",
    "disp = ConfusionMatrixDisplay(confusion_matrix=cm)\n",
    "disp.plot()\n",
    "\n",
    "print(\"Resultados salvos com sucesso.\")\n"
   ]
  },
  {
   "cell_type": "markdown",
   "id": "796510be",
   "metadata": {
    "papermill": {
     "duration": 0.01451,
     "end_time": "2024-12-27T16:05:02.884251",
     "exception": false,
     "start_time": "2024-12-27T16:05:02.869741",
     "status": "completed"
    },
    "tags": []
   },
   "source": [
    "### Qualitativos"
   ]
  },
  {
   "cell_type": "code",
   "execution_count": 3,
   "id": "e9d638b4",
   "metadata": {
    "execution": {
     "iopub.execute_input": "2024-12-27T16:05:02.913257Z",
     "iopub.status.busy": "2024-12-27T16:05:02.913257Z",
     "iopub.status.idle": "2024-12-27T16:05:05.132939Z",
     "shell.execute_reply": "2024-12-27T16:05:05.132939Z"
    },
    "papermill": {
     "duration": 2.237696,
     "end_time": "2024-12-27T16:05:05.133947",
     "exception": false,
     "start_time": "2024-12-27T16:05:02.896251",
     "status": "completed"
    },
    "tags": []
   },
   "outputs": [
    {
     "name": "stdout",
     "output_type": "stream",
     "text": [
      "Acurácia: 0.702515469464622\n",
      "Relatório de Classificação:\n",
      "               precision    recall  f1-score   support\n",
      "\n",
      "           0       0.70      0.71      0.70     14811\n",
      "           1       0.71      0.69      0.70     14925\n",
      "\n",
      "    accuracy                           0.70     29736\n",
      "   macro avg       0.70      0.70      0.70     29736\n",
      "weighted avg       0.70      0.70      0.70     29736\n",
      "\n",
      "Matriz de Confusão (Texto):\n",
      " [[10556  4255]\n",
      " [ 4591 10334]]\n",
      "Resultados salvos com sucesso.\n"
     ]
    },
    {
     "data": {
      "image/png": "[encoded data removed]",
      "text/plain": [
       "<Figure size 640x480 with 2 Axes>"
      ]
     },
     "metadata": {},
     "output_type": "display_data"
    }
   ],
   "source": [
    "# Converter todos os dados para string\n",
    "df = df.astype(str)\n",
    "\n",
    "# Separar atributos e rótulo\n",
    "X = df.drop(columns=['drk_yn'])\n",
    "y = df['drk_yn']\n",
    "\n",
    "# Dividir dados\n",
    "X_train, X_test, y_train, y_test = train_test_split(X, y, test_size=0.3, random_state=42)\n",
    "\n",
    "# Codificar com LabelEncoder\n",
    "X_train = X_train.apply(LabelEncoder().fit_transform)\n",
    "X_test = X_test.apply(LabelEncoder().fit_transform)\n",
    "\n",
    "# Criar e treinar o modelo\n",
    "cnb = CategoricalNB()\n",
    "cnb.fit(X_train, y_train)\n",
    "\n",
    "# Prever e avaliar\n",
    "y_pred = cnb.predict(X_test)\n",
    "\n",
    "# Avaliação\n",
    "accuracy = accuracy_score(y_test, y_pred)\n",
    "report = classification_report(y_test, y_pred)\n",
    "\n",
    "print(\"Acurácia:\", accuracy)\n",
    "print(\"Relatório de Classificação:\\n\", report)\n",
    "\n",
    "# Matriz de confusão\n",
    "cm = confusion_matrix(y_test, y_pred)\n",
    "print(\"Matriz de Confusão (Texto):\\n\", cm)\n",
    "\n",
    "# Salvar acurácia e relatório em CSV\n",
    "resultados = pd.DataFrame({\n",
    "    'Modelo': ['Categorical Naive Bayes'],\n",
    "    'Acurácia': [accuracy]\n",
    "})\n",
    "\n",
    "# Salvar relatório de classificação como arquivo de texto\n",
    "with open('../base_dados/resultados_mineracao_dados/relatorio_classificacao_naive_bayes_qualitativo_comum.txt', 'w') as f:\n",
    "    f.write(\"Relatório de Classificação:\\n\")\n",
    "    f.write(report)\n",
    "\n",
    "# Salvar matriz de confusão\n",
    "# cm_df = pd.DataFrame(cm, index=[f'Classe {i}' for i in range(len(cm))], columns=[f'Classe {i}' for i in range(len(cm))])\n",
    "# cm_df.to_csv('../base_dados/resultados_mineracao_dados/matriz_confusao_naive_bayes_qualitativo.csv', index=True)\n",
    "\n",
    "# Salvar acurácia em CSV\n",
    "resultados.to_csv('../base_dados/resultados_mineracao_dados/resultado_naive_bayes_qualitativo_comum.csv', index=False)\n",
    "\n",
    "# Exibir matriz de confusão graficamente\n",
    "disp = ConfusionMatrixDisplay(confusion_matrix=cm)\n",
    "disp.plot()\n",
    "\n",
    "print(\"Resultados salvos com sucesso.\")"
   ]
  },
  {
   "cell_type": "code",
   "execution_count": 4,
   "id": "1a330c96",
   "metadata": {
    "execution": {
     "iopub.execute_input": "2024-12-27T16:05:05.156947Z",
     "iopub.status.busy": "2024-12-27T16:05:05.155944Z",
     "iopub.status.idle": "2024-12-27T16:05:05.159363Z",
     "shell.execute_reply": "2024-12-27T16:05:05.159363Z"
    },
    "papermill": {
     "duration": 0.019428,
     "end_time": "2024-12-27T16:05:05.160371",
     "exception": false,
     "start_time": "2024-12-27T16:05:05.140943",
     "status": "completed"
    },
    "tags": []
   },
   "outputs": [],
   "source": [
    "# cm_df = pd.DataFrame(cm, index=[f'Classe {i}' for i in range(len(cm))], columns=[f'Classe {i}' for i in range(len(cm))])\n",
    "# cm_df.to_csv('../base_dados/resultados_mineracao_dados/matriz_confusao_naive_bayes_comum.csv', index=True)"
   ]
  }
 ],
 "metadata": {
  "kernelspec": {
   "display_name": "meu_ambiente",
   "language": "python",
   "name": "python3"
  },
  "language_info": {
   "codemirror_mode": {
    "name": "ipython",
    "version": 3
   },
   "file_extension": ".py",
   "mimetype": "text/x-python",
   "name": "python",
   "nbconvert_exporter": "python",
   "pygments_lexer": "ipython3",
   "version": "3.12.7"
  },
  "papermill": {
   "default_parameters": {},
   "duration": 5.899936,
   "end_time": "2024-12-27T16:05:05.689446",
   "environment_variables": {},
   "exception": null,
   "input_path": "..\\4_minerar_dados\\naive_bayes.ipynb",
   "output_path": "..\\4_minerar_dados\\naive_bayes.ipynb",
   "parameters": {},
   "start_time": "2024-12-27T16:04:59.789510",
   "version": "2.6.0"
  }
 },
 "nbformat": 4,
 "nbformat_minor": 5
}