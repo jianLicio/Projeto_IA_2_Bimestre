{
 "cells": [
  {
   "cell_type": "code",
   "execution_count": 1,
   "id": "d2403795",
   "metadata": {
    "execution": {
     "iopub.execute_input": "2024-12-24T20:45:56.143129Z",
     "iopub.status.busy": "2024-12-24T20:45:56.143129Z",
     "iopub.status.idle": "2024-12-24T20:45:58.312593Z",
     "shell.execute_reply": "2024-12-24T20:45:58.312593Z"
    },
    "papermill": {
     "duration": 2.180473,
     "end_time": "2024-12-24T20:45:58.313601",
     "exception": false,
     "start_time": "2024-12-24T20:45:56.133128",
     "status": "completed"
    },
    "tags": []
   },
   "outputs": [],
   "source": [
    "import pandas as pd\n",
    "from sklearn.model_selection import train_test_split\n",
    "from sklearn.preprocessing import LabelEncoder\n",
    "from sklearn.naive_bayes import CategoricalNB\n",
    "from sklearn.metrics import accuracy_score, classification_report, confusion_matrix, ConfusionMatrixDisplay\n",
    "from sklearn.naive_bayes import GaussianNB\n",
    "\n",
    "df = pd.read_csv('../base_dados/beber_amostra.csv', low_memory=False)\n"
   ]
  },
  {
   "cell_type": "markdown",
   "id": "818162bd",
   "metadata": {
    "papermill": {
     "duration": 0.042997,
     "end_time": "2024-12-24T20:45:58.365598",
     "exception": false,
     "start_time": "2024-12-24T20:45:58.322601",
     "status": "completed"
    },
    "tags": []
   },
   "source": [
    "### Quantitativos"
   ]
  },
  {
   "cell_type": "code",
   "execution_count": 2,
   "id": "0a486f8f",
   "metadata": {
    "execution": {
     "iopub.execute_input": "2024-12-24T20:45:58.396117Z",
     "iopub.status.busy": "2024-12-24T20:45:58.396117Z",
     "iopub.status.idle": "2024-12-24T20:45:59.524212Z",
     "shell.execute_reply": "2024-12-24T20:45:59.524212Z"
    },
    "papermill": {
     "duration": 1.145614,
     "end_time": "2024-12-24T20:45:59.525219",
     "exception": false,
     "start_time": "2024-12-24T20:45:58.379605",
     "status": "completed"
    },
    "tags": []
   },
   "outputs": [
    {
     "name": "stdout",
     "output_type": "stream",
     "text": [
      "Acurácia: 0.6958905030938929\n",
      "Relatório de Classificação:\n",
      "               precision    recall  f1-score   support\n",
      "\n",
      "           0       0.68      0.75      0.71     89406\n",
      "           1       0.72      0.64      0.68     89010\n",
      "\n",
      "    accuracy                           0.70    178416\n",
      "   macro avg       0.70      0.70      0.69    178416\n",
      "weighted avg       0.70      0.70      0.69    178416\n",
      "\n",
      "Matriz de Confusão (Texto):\n",
      " [[67424 21982]\n",
      " [32276 56734]]\n"
     ]
    },
    {
     "name": "stdout",
     "output_type": "stream",
     "text": [
      "Resultados salvos com sucesso.\n"
     ]
    },
    {
     "data": {
      "image/png": "[encoded data removed]",
      "text/plain": [
       "<Figure size 640x480 with 2 Axes>"
      ]
     },
     "metadata": {},
     "output_type": "display_data"
    }
   ],
   "source": [
    "# Separar features e target\n",
    "X = df.drop(columns=['drk_yn'])\n",
    "y = df['drk_yn']\n",
    "\n",
    "# Dividir dados em treino e teste\n",
    "X_train, X_test, y_train, y_test = train_test_split(X, y, test_size=0.3, random_state=42)\n",
    "\n",
    "# Criar e treinar o modelo\n",
    "gnb = GaussianNB()\n",
    "gnb.fit(X_train, y_train)\n",
    "\n",
    "# Prever e avaliar\n",
    "y_pred = gnb.predict(X_test)\n",
    "\n",
    "# Avaliação\n",
    "accuracy = accuracy_score(y_test, y_pred)\n",
    "report = classification_report(y_test, y_pred)\n",
    "\n",
    "print(\"Acurácia:\", accuracy)\n",
    "print(\"Relatório de Classificação:\\n\", report)\n",
    "\n",
    "# Matriz de confusão\n",
    "cm = confusion_matrix(y_test, y_pred)\n",
    "print(\"Matriz de Confusão (Texto):\\n\", cm)\n",
    "\n",
    "# Salvar acurácia e relatório em CSV\n",
    "resultados = pd.DataFrame({\n",
    "    'Modelo': ['Naive Bayes'],\n",
    "    'Acurácia': [accuracy]\n",
    "})\n",
    "\n",
    "# Salvar relatório de classificação como arquivo de texto\n",
    "with open('../base_dados/resultados_mineracao_dados/relatorio_classificacao_naive_bayes_quantitativo_comum.txt', 'w') as f:\n",
    "    f.write(\"Relatório de Classificação:\\n\")\n",
    "    f.write(report)\n",
    "\n",
    "# Salvar matriz de confusão\n",
    "# cm_df = pd.DataFrame(cm, index=[f'Classe {i}' for i in range(len(cm))], columns=[f'Classe {i}' for i in range(len(cm))])\n",
    "# cm_df.to_csv('../base_dados/resultados_mineracao_dados/matriz_confusao_naive_bayes.csv', index=True)\n",
    "\n",
    "# Salvar acurácia em CSV\n",
    "resultados.to_csv('../base_dados/resultados_mineracao_dados/resultado__naive_bayes_quantitativo_comum.csv', index=False)\n",
    "\n",
    "# Exibir matriz de confusão graficamente\n",
    "disp = ConfusionMatrixDisplay(confusion_matrix=cm)\n",
    "disp.plot()\n",
    "\n",
    "print(\"Resultados salvos com sucesso.\")\n"
   ]
  },
  {
   "cell_type": "markdown",
   "id": "796510be",
   "metadata": {
    "papermill": {
     "duration": 0.018999,
     "end_time": "2024-12-24T20:45:59.556219",
     "exception": false,
     "start_time": "2024-12-24T20:45:59.537220",
     "status": "completed"
    },
    "tags": []
   },
   "source": [
    "### Qualitativos"
   ]
  },
  {
   "cell_type": "code",
   "execution_count": 3,
   "id": "e9d638b4",
   "metadata": {
    "execution": {
     "iopub.execute_input": "2024-12-24T20:45:59.593741Z",
     "iopub.status.busy": "2024-12-24T20:45:59.592742Z",
     "iopub.status.idle": "2024-12-24T20:46:21.084691Z",
     "shell.execute_reply": "2024-12-24T20:46:21.084691Z"
    },
    "papermill": {
     "duration": 21.51347,
     "end_time": "2024-12-24T20:46:21.085696",
     "exception": false,
     "start_time": "2024-12-24T20:45:59.572226",
     "status": "completed"
    },
    "tags": []
   },
   "outputs": [
    {
     "name": "stdout",
     "output_type": "stream",
     "text": [
      "Acurácia: 0.701080620572146\n",
      "Relatório de Classificação:\n",
      "               precision    recall  f1-score   support\n",
      "\n",
      "           0       0.70      0.71      0.70     89406\n",
      "           1       0.70      0.69      0.70     89010\n",
      "\n",
      "    accuracy                           0.70    178416\n",
      "   macro avg       0.70      0.70      0.70    178416\n",
      "weighted avg       0.70      0.70      0.70    178416\n",
      "\n"
     ]
    },
    {
     "name": "stdout",
     "output_type": "stream",
     "text": [
      "Matriz de Confusão (Texto):\n",
      " [[63411 25995]\n",
      " [27337 61673]]\n",
      "Resultados salvos com sucesso.\n"
     ]
    },
    {
     "data": {
      "image/png": "[encoded data removed]",
      "text/plain": [
       "<Figure size 640x480 with 2 Axes>"
      ]
     },
     "metadata": {},
     "output_type": "display_data"
    }
   ],
   "source": [
    "# Converter todos os dados para string\n",
    "df = df.astype(str)\n",
    "\n",
    "# Separar atributos e rótulo\n",
    "X = df.drop(columns=['drk_yn'])\n",
    "y = df['drk_yn']\n",
    "\n",
    "# Dividir dados\n",
    "X_train, X_test, y_train, y_test = train_test_split(X, y, test_size=0.3, random_state=42)\n",
    "\n",
    "# Codificar com LabelEncoder\n",
    "X_train = X_train.apply(LabelEncoder().fit_transform)\n",
    "X_test = X_test.apply(LabelEncoder().fit_transform)\n",
    "\n",
    "# Criar e treinar o modelo\n",
    "cnb = CategoricalNB()\n",
    "cnb.fit(X_train, y_train)\n",
    "\n",
    "# Prever e avaliar\n",
    "y_pred = cnb.predict(X_test)\n",
    "\n",
    "# Avaliação\n",
    "accuracy = accuracy_score(y_test, y_pred)\n",
    "report = classification_report(y_test, y_pred)\n",
    "\n",
    "print(\"Acurácia:\", accuracy)\n",
    "print(\"Relatório de Classificação:\\n\", report)\n",
    "\n",
    "# Matriz de confusão\n",
    "cm = confusion_matrix(y_test, y_pred)\n",
    "print(\"Matriz de Confusão (Texto):\\n\", cm)\n",
    "\n",
    "# Salvar acurácia e relatório em CSV\n",
    "resultados = pd.DataFrame({\n",
    "    'Modelo': ['Categorical Naive Bayes'],\n",
    "    'Acurácia': [accuracy]\n",
    "})\n",
    "\n",
    "# Salvar relatório de classificação como arquivo de texto\n",
    "with open('../base_dados/resultados_mineracao_dados/relatorio_classificacao_naive_bayes_qualitativo_comum.txt', 'w') as f:\n",
    "    f.write(\"Relatório de Classificação:\\n\")\n",
    "    f.write(report)\n",
    "\n",
    "# Salvar matriz de confusão\n",
    "# cm_df = pd.DataFrame(cm, index=[f'Classe {i}' for i in range(len(cm))], columns=[f'Classe {i}' for i in range(len(cm))])\n",
    "# cm_df.to_csv('../base_dados/resultados_mineracao_dados/matriz_confusao_naive_bayes_qualitativo.csv', index=True)\n",
    "\n",
    "# Salvar acurácia em CSV\n",
    "resultados.to_csv('../base_dados/resultados_mineracao_dados/resultado_naive_bayes_qualitativo_comum.csv', index=False)\n",
    "\n",
    "# Exibir matriz de confusão graficamente\n",
    "disp = ConfusionMatrixDisplay(confusion_matrix=cm)\n",
    "disp.plot()\n",
    "\n",
    "print(\"Resultados salvos com sucesso.\")"
   ]
  },
  {
   "cell_type": "code",
   "execution_count": 4,
   "id": "1a330c96",
   "metadata": {
    "execution": {
     "iopub.execute_input": "2024-12-24T20:46:21.112208Z",
     "iopub.status.busy": "2024-12-24T20:46:21.112208Z",
     "iopub.status.idle": "2024-12-24T20:46:21.115317Z",
     "shell.execute_reply": "2024-12-24T20:46:21.115317Z"
    },
    "papermill": {
     "duration": 0.021118,
     "end_time": "2024-12-24T20:46:21.116323",
     "exception": false,
     "start_time": "2024-12-24T20:46:21.095205",
     "status": "completed"
    },
    "tags": []
   },
   "outputs": [],
   "source": [
    "# cm_df = pd.DataFrame(cm, index=[f'Classe {i}' for i in range(len(cm))], columns=[f'Classe {i}' for i in range(len(cm))])\n",
    "# cm_df.to_csv('../base_dados/resultados_mineracao_dados/matriz_confusao_naive_bayes_comum.csv', index=True)"
   ]
  }
 ],
 "metadata": {
  "kernelspec": {
   "display_name": "meu_ambiente",
   "language": "python",
   "name": "python3"
  },
  "language_info": {
   "codemirror_mode": {
    "name": "ipython",
    "version": 3
   },
   "file_extension": ".py",
   "mimetype": "text/x-python",
   "name": "python",
   "nbconvert_exporter": "python",
   "pygments_lexer": "ipython3",
   "version": "3.12.7"
  },
  "papermill": {
   "default_parameters": {},
   "duration": 27.323207,
   "end_time": "2024-12-24T20:46:22.051074",
   "environment_variables": {},
   "exception": null,
   "input_path": "..\\4_minerar_dados\\naive_bayes.ipynb",
   "output_path": "..\\4_minerar_dados\\naive_bayes.ipynb",
   "parameters": {},
   "start_time": "2024-12-24T20:45:54.727867",
   "version": "2.6.0"
  }
 },
 "nbformat": 4,
 "nbformat_minor": 5
}