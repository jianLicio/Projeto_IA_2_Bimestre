{
 "cells": [
  {
   "cell_type": "code",
   "execution_count": 1,
   "id": "46745484",
   "metadata": {
    "execution": {
     "iopub.execute_input": "2024-12-24T19:56:40.457673Z",
     "iopub.status.busy": "2024-12-24T19:56:40.457673Z",
     "iopub.status.idle": "2024-12-24T19:56:42.434659Z",
     "shell.execute_reply": "2024-12-24T19:56:42.434659Z"
    },
    "papermill": {
     "duration": 1.986995,
     "end_time": "2024-12-24T19:56:42.435666",
     "exception": false,
     "start_time": "2024-12-24T19:56:40.448671",
     "status": "completed"
    },
    "tags": []
   },
   "outputs": [],
   "source": [
    "import pandas as pd\n",
    "from sklearn.model_selection import train_test_split\n",
    "from sklearn.tree import DecisionTreeClassifier\n",
    "from sklearn.metrics import accuracy_score, classification_report, confusion_matrix, ConfusionMatrixDisplay\n",
    "\n",
    "\n",
    "df = pd.read_csv('../base_dados/beber_amostra.csv', low_memory=False)\n"
   ]
  },
  {
   "cell_type": "code",
   "execution_count": 2,
   "id": "49033893",
   "metadata": {
    "execution": {
     "iopub.execute_input": "2024-12-24T19:56:42.459665Z",
     "iopub.status.busy": "2024-12-24T19:56:42.458665Z",
     "iopub.status.idle": "2024-12-24T19:56:45.859484Z",
     "shell.execute_reply": "2024-12-24T19:56:45.859484Z"
    },
    "papermill": {
     "duration": 3.417829,
     "end_time": "2024-12-24T19:56:45.860493",
     "exception": false,
     "start_time": "2024-12-24T19:56:42.442664",
     "status": "completed"
    },
    "tags": []
   },
   "outputs": [
    {
     "name": "stdout",
     "output_type": "stream",
     "text": [
      "Acurácia: 0.63\n",
      "Relatório de Classificação:\n",
      "               precision    recall  f1-score   support\n",
      "\n",
      "           0       0.63      0.64      0.63     89406\n",
      "           1       0.63      0.62      0.63     89010\n",
      "\n",
      "    accuracy                           0.63    178416\n",
      "   macro avg       0.63      0.63      0.63    178416\n",
      "weighted avg       0.63      0.63      0.63    178416\n",
      "\n"
     ]
    },
    {
     "name": "stdout",
     "output_type": "stream",
     "text": [
      "Acurácia e relatório de classificação salvos com sucesso.\n"
     ]
    },
    {
     "data": {
      "image/png": "[encoded data removed]",
      "text/plain": [
       "<Figure size 640x480 with 2 Axes>"
      ]
     },
     "metadata": {},
     "output_type": "display_data"
    }
   ],
   "source": [
    "X = df.drop(columns=['drk_yn'])  # Atributos\n",
    "y = df['drk_yn']  # Classe alvo\n",
    "\n",
    "# Dividir os dados em treino e teste\n",
    "X_train, X_test, y_train, y_test = train_test_split(X, y, test_size=0.3, random_state=42)\n",
    "\n",
    "# Criar e treinar o modelo de Árvore de Decisão\n",
    "model = DecisionTreeClassifier(random_state=42)\n",
    "model.fit(X_train, y_train)\n",
    "\n",
    "# Fazer previsões\n",
    "y_pred = model.predict(X_test)\n",
    "\n",
    "# Avaliação do modelo\n",
    "accuracy = accuracy_score(y_test, y_pred)\n",
    "report = classification_report(y_test, y_pred)\n",
    "\n",
    "print(f'Acurácia: {accuracy:.2f}')\n",
    "print('Relatório de Classificação:\\n', report)\n",
    "\n",
    "# Matriz de confusão\n",
    "y_pred = model.predict(X_test)\n",
    "cm = confusion_matrix(y_test, y_pred)\n",
    "disp = ConfusionMatrixDisplay(confusion_matrix=cm)\n",
    "disp.plot()\n",
    "\n",
    "# Salvar a matriz de confusão em CSV\n",
    "# cm_df = pd.DataFrame(cm, index=[f'Classe {i}' for i in range(len(cm))], \n",
    "#                      columns=[f'Classe {i}' for i in range(len(cm))])\n",
    "# cm_df.to_csv('../base_dados/resultados_mineracao_dados/matriz_confusao_arvore_decisao_comum.csv', index=True)\n",
    "\n",
    "\n",
    "resultados = pd.DataFrame({\n",
    "    'Modelo': ['Árvore de Decisão'],\n",
    "    'Acurácia': [accuracy]\n",
    "})\n",
    "\n",
    "# Salvar acurácia em CSV\n",
    "resultados.to_csv('../base_dados/resultados_mineracao_dados/resultado_arvore_decisao_comum.csv', index=False)\n",
    "\n",
    "# Salvar relatório de classificação como arquivo de texto\n",
    "with open('../base_dados/resultados_mineracao_dados/relatorio_classificacao_arvore_decisao_comum.txt', 'w') as f:\n",
    "    f.write(\"Relatório de Classificação:\\n\")\n",
    "    f.write(report)\n",
    "\n",
    "print(\"Acurácia e relatório de classificação salvos com sucesso.\")"
   ]
  }
 ],
 "metadata": {
  "kernelspec": {
   "display_name": "meu_ambiente",
   "language": "python",
   "name": "python3"
  },
  "language_info": {
   "codemirror_mode": {
    "name": "ipython",
    "version": 3
   },
   "file_extension": ".py",
   "mimetype": "text/x-python",
   "name": "python",
   "nbconvert_exporter": "python",
   "pygments_lexer": "ipython3",
   "version": "3.12.7"
  },
  "papermill": {
   "default_parameters": {},
   "duration": 7.190564,
   "end_time": "2024-12-24T19:56:46.376070",
   "environment_variables": {},
   "exception": null,
   "input_path": "..\\4_minerar_dados\\arvore_decisao.ipynb",
   "output_path": "..\\4_minerar_dados\\arvore_decisao.ipynb",
   "parameters": {},
   "start_time": "2024-12-24T19:56:39.185506",
   "version": "2.6.0"
  }
 },
 "nbformat": 4,
 "nbformat_minor": 5
}