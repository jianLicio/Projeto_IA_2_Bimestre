{
 "cells": [
  {
   "cell_type": "code",
   "execution_count": 1,
   "id": "afeae502",
   "metadata": {
    "execution": {
     "iopub.execute_input": "2024-12-27T16:05:11.776834Z",
     "iopub.status.busy": "2024-12-27T16:05:11.776834Z",
     "iopub.status.idle": "2024-12-27T16:05:12.979392Z",
     "shell.execute_reply": "2024-12-27T16:05:12.979392Z"
    },
    "papermill": {
     "duration": 1.211077,
     "end_time": "2024-12-27T16:05:12.980399",
     "exception": false,
     "start_time": "2024-12-27T16:05:11.769322",
     "status": "completed"
    },
    "tags": []
   },
   "outputs": [],
   "source": [
    "from sklearn.model_selection import train_test_split\n",
    "from sklearn.svm import SVC\n",
    "from sklearn.metrics import accuracy_score, confusion_matrix, classification_report, ConfusionMatrixDisplay\n",
    "import pandas as pd\n",
    "\n",
    "df = pd.read_csv('../base_dados/beber_amostra.csv', low_memory=False)"
   ]
  },
  {
   "cell_type": "code",
   "execution_count": 2,
   "id": "476d7fdb",
   "metadata": {
    "execution": {
     "iopub.execute_input": "2024-12-27T16:05:13.002398Z",
     "iopub.status.busy": "2024-12-27T16:05:13.001398Z"
    },
    "papermill": {
     "duration": null,
     "end_time": null,
     "exception": false,
     "start_time": "2024-12-27T16:05:12.987399",
     "status": "running"
    },
    "tags": []
   },
   "outputs": [
    {
     "name": "stdout",
     "output_type": "stream",
     "text": [
      "SVM Padrão:\n",
      "              precision    recall  f1-score   support\n",
      "\n",
      "           0       0.71      0.71      0.71     14811\n",
      "           1       0.71      0.72      0.71     14925\n",
      "\n",
      "    accuracy                           0.71     29736\n",
      "   macro avg       0.71      0.71      0.71     29736\n",
      "weighted avg       0.71      0.71      0.71     29736\n",
      "\n",
      "Matriz de Confusão (SVM Padrão):\n",
      " [[10513  4298]\n",
      " [ 4252 10673]]\n"
     ]
    }
   ],
   "source": [
    "# Remover 70% da base de dados atual\n",
    "# df = df.drop(df.sample(frac=0.7, random_state=42).index)\n",
    "\n",
    "# Separar features e target\n",
    "X = df.drop('drk_yn', axis=1)\n",
    "y = df['drk_yn']\n",
    "\n",
    "# Dividir em treino e teste\n",
    "X_train, X_test, y_train, y_test = train_test_split(X, y, test_size=0.3, random_state=42)\n",
    "\n",
    "# SVM padrão\n",
    "svm_model = SVC()\n",
    "svm_model.fit(X_train, y_train)\n",
    "y_pred = svm_model.predict(X_test)\n",
    "print(\"SVM Padrão:\")\n",
    "print(classification_report(y_test, y_pred))\n",
    "\n",
    "# Matriz de Confusão - SVM Padrão\n",
    "cm = confusion_matrix(y_test, y_pred)\n",
    "print(\"Matriz de Confusão (SVM Padrão):\\n\", cm)\n",
    "disp = ConfusionMatrixDisplay(confusion_matrix=cm)\n",
    "disp.plot()\n",
    "\n",
    "# SVM com kernel diferente (exemplo: 'rbf')\n",
    "svm_model_rbf = SVC(kernel='rbf')\n",
    "svm_model_rbf.fit(X_train, y_train)\n",
    "y_pred_rbf = svm_model_rbf.predict(X_test)\n",
    "print(\"SVM com Kernel RBF:\")\n",
    "print(classification_report(y_test, y_pred_rbf))\n",
    "\n",
    "# Matriz de Confusão - SVM com Kernel RBF\n",
    "cm_rbf = confusion_matrix(y_test, y_pred_rbf)\n",
    "print(\"Matriz de Confusão (SVM com Kernel RBF):\\n\", cm_rbf)\n",
    "disp_rbf = ConfusionMatrixDisplay(confusion_matrix=cm_rbf)\n",
    "disp_rbf.plot()\n",
    "\n",
    "# cm_df = pd.DataFrame(cm, index=[f'Classe {i}' for i in range(len(cm))], columns=[f'Classe {i}' for i in range(len(cm))])\n",
    "# cm_df.to_csv('../base_dados/resultados_mineracao_dados/matriz_confusao_svm.csv', index=True)\n",
    "\n",
    "accuracy = accuracy_score(y_test, y_pred)\n",
    "accuracy_rbf = accuracy_score(y_test, y_pred_rbf)\n",
    "\n",
    "# Criar DataFrame com resultados de acurácia\n",
    "resultados = pd.DataFrame({\n",
    "    'Modelo': ['SVM Padrão', 'SVM com Kernel RBF'],\n",
    "    'Acurácia': [accuracy, accuracy_rbf]\n",
    "})\n",
    "\n",
    "# Salvar no CSV\n",
    "resultados.to_csv('../base_dados/resultados_mineracao_dados/resultado_svm_comum.csv', index=False)\n",
    "\n",
    "print(\"Resultados de Acurácia salvos com sucesso.\")"
   ]
  }
 ],
 "metadata": {
  "kernelspec": {
   "display_name": "meu_ambiente",
   "language": "python",
   "name": "python3"
  },
  "language_info": {
   "codemirror_mode": {
    "name": "ipython",
    "version": 3
   },
   "file_extension": ".py",
   "mimetype": "text/x-python",
   "name": "python",
   "nbconvert_exporter": "python",
   "pygments_lexer": "ipython3",
   "version": "3.12.7"
  },
  "papermill": {
   "default_parameters": {},
   "duration": null,
   "end_time": null,
   "environment_variables": {},
   "exception": null,
   "input_path": "..\\4_minerar_dados\\svm.ipynb",
   "output_path": "..\\4_minerar_dados\\svm.ipynb",
   "parameters": {},
   "start_time": "2024-12-27T16:05:10.522788",
   "version": "2.6.0"
  }
 },
 "nbformat": 4,
 "nbformat_minor": 5
}