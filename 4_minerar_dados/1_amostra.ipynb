{
 "cells": [
  {
   "cell_type": "code",
   "execution_count": 1,
   "id": "9fff433f",
   "metadata": {
    "execution": {
     "iopub.execute_input": "2024-12-27T16:03:02.735686Z",
     "iopub.status.busy": "2024-12-27T16:03:02.735686Z",
     "iopub.status.idle": "2024-12-27T16:03:04.430252Z",
     "shell.execute_reply": "2024-12-27T16:03:04.430252Z"
    },
    "papermill": {
     "duration": 1.704583,
     "end_time": "2024-12-27T16:03:04.431257",
     "exception": false,
     "start_time": "2024-12-27T16:03:02.726674",
     "status": "completed"
    },
    "tags": []
   },
   "outputs": [],
   "source": [
    "import pandas as pd\n",
    "exec(open(\"../0_variaveis.py\").read())\n",
    "\n",
    "df = pd.read_csv('../base_dados/beber_copia2.csv', low_memory=False)\n"
   ]
  },
  {
   "cell_type": "code",
   "execution_count": 2,
   "id": "6658b062",
   "metadata": {
    "execution": {
     "iopub.execute_input": "2024-12-27T16:03:04.453773Z",
     "iopub.status.busy": "2024-12-27T16:03:04.453773Z",
     "iopub.status.idle": "2024-12-27T16:03:05.437008Z",
     "shell.execute_reply": "2024-12-27T16:03:05.436000Z"
    },
    "papermill": {
     "duration": 0.999744,
     "end_time": "2024-12-27T16:03:05.438007",
     "exception": false,
     "start_time": "2024-12-27T16:03:04.438263",
     "status": "completed"
    },
    "tags": []
   },
   "outputs": [],
   "source": [
    "# Remover 90% da base de dados\n",
    "df = df.drop(df.sample(frac=amostra, random_state=42).index) # type: ignore\n",
    "\n",
    "df.to_csv('../base_dados/beber_amostra.csv', index=False)\n",
    "df.head().to_csv('../base_dados/beber_head.csv', index=False)\n",
    "\n"
   ]
  }
 ],
 "metadata": {
  "kernelspec": {
   "display_name": "meu_ambiente",
   "language": "python",
   "name": "python3"
  },
  "language_info": {
   "codemirror_mode": {
    "name": "ipython",
    "version": 3
   },
   "file_extension": ".py",
   "mimetype": "text/x-python",
   "name": "python",
   "nbconvert_exporter": "python",
   "pygments_lexer": "ipython3",
   "version": "3.12.7"
  },
  "papermill": {
   "default_parameters": {},
   "duration": 4.319594,
   "end_time": "2024-12-27T16:03:05.768072",
   "environment_variables": {},
   "exception": null,
   "input_path": "..\\4_minerar_dados\\1_amostra.ipynb",
   "output_path": "..\\4_minerar_dados\\1_amostra.ipynb",
   "parameters": {},
   "start_time": "2024-12-27T16:03:01.448478",
   "version": "2.6.0"
  }
 },
 "nbformat": 4,
 "nbformat_minor": 5
}