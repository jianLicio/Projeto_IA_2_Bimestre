{
 "cells": [
  {
   "cell_type": "code",
   "execution_count": 1,
   "id": "9fff433f",
   "metadata": {
    "execution": {
     "iopub.execute_input": "2024-12-24T19:56:31.738292Z",
     "iopub.status.busy": "2024-12-24T19:56:31.737292Z",
     "iopub.status.idle": "2024-12-24T19:56:33.700542Z",
     "shell.execute_reply": "2024-12-24T19:56:33.700542Z"
    },
    "papermill": {
     "duration": 1.97326,
     "end_time": "2024-12-24T19:56:33.701552",
     "exception": false,
     "start_time": "2024-12-24T19:56:31.728292",
     "status": "completed"
    },
    "tags": []
   },
   "outputs": [],
   "source": [
    "import pandas as pd\n",
    "\n",
    "df = pd.read_csv('../base_dados/beber_copia2.csv', low_memory=False)\n"
   ]
  },
  {
   "cell_type": "code",
   "execution_count": 2,
   "id": "6658b062",
   "metadata": {
    "execution": {
     "iopub.execute_input": "2024-12-24T19:56:33.736551Z",
     "iopub.status.busy": "2024-12-24T19:56:33.735551Z",
     "iopub.status.idle": "2024-12-24T19:56:38.830451Z",
     "shell.execute_reply": "2024-12-24T19:56:38.830451Z"
    },
    "papermill": {
     "duration": 5.120905,
     "end_time": "2024-12-24T19:56:38.832461",
     "exception": false,
     "start_time": "2024-12-24T19:56:33.711556",
     "status": "completed"
    },
    "tags": []
   },
   "outputs": [],
   "source": [
    "# Remover 90% da base de dados\n",
    "df = df.drop(df.sample(frac=0.4, random_state=42).index)\n",
    "\n",
    "df.to_csv('../base_dados/beber_amostra.csv', index=False)\n",
    "df.head().to_csv('../base_dados/beber_head.csv', index=False)\n",
    "\n"
   ]
  }
 ],
 "metadata": {
  "kernelspec": {
   "display_name": "meu_ambiente",
   "language": "python",
   "name": "python3"
  },
  "language_info": {
   "codemirror_mode": {
    "name": "ipython",
    "version": 3
   },
   "file_extension": ".py",
   "mimetype": "text/x-python",
   "name": "python",
   "nbconvert_exporter": "python",
   "pygments_lexer": "ipython3",
   "version": "3.12.7"
  },
  "papermill": {
   "default_parameters": {},
   "duration": 8.800935,
   "end_time": "2024-12-24T19:56:39.146995",
   "environment_variables": {},
   "exception": null,
   "input_path": "..\\4_minerar_dados\\1_amostra.ipynb",
   "output_path": "..\\4_minerar_dados\\1_amostra.ipynb",
   "parameters": {},
   "start_time": "2024-12-24T19:56:30.346060",
   "version": "2.6.0"
  }
 },
 "nbformat": 4,
 "nbformat_minor": 5
}