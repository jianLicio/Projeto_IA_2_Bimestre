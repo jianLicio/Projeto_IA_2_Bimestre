{
 "cells": [
  {
   "cell_type": "code",
   "execution_count": 4,
   "metadata": {},
   "outputs": [],
   "source": [
    "import pandas as pd\n",
    "import numpy as np\n",
    "\n",
    "df = pd.read_csv('../base_dados/beber_copia.csv', low_memory=False)\n"
   ]
  },
  {
   "cell_type": "code",
   "execution_count": 5,
   "metadata": {},
   "outputs": [
    {
     "data": {
      "text/plain": [
       "sex                 0\n",
       "age                 0\n",
       "height              0\n",
       "weight              0\n",
       "waistline           0\n",
       "sight_left          0\n",
       "sight_right         0\n",
       "hear_left           0\n",
       "hear_right          0\n",
       "SBP                 0\n",
       "DBP                 0\n",
       "BLDS                0\n",
       "tot_chole           0\n",
       "HDL_chole           0\n",
       "LDL_chole           0\n",
       "triglyceride        0\n",
       "hemoglobin          0\n",
       "urine_protein       0\n",
       "serum_creatinine    0\n",
       "SGOT_AST            0\n",
       "SGOT_ALT            0\n",
       "gamma_GTP           0\n",
       "SMK_stat_type_cd    0\n",
       "DRK_YN              0\n",
       "dtype: int64"
      ]
     },
     "execution_count": 5,
     "metadata": {},
     "output_type": "execute_result"
    }
   ],
   "source": [
    "df.isnull().sum().sort_values(ascending=False)\n"
   ]
  }
 ],
 "metadata": {
  "kernelspec": {
   "display_name": "meu_ambiente",
   "language": "python",
   "name": "python3"
  },
  "language_info": {
   "codemirror_mode": {
    "name": "ipython",
    "version": 3
   },
   "file_extension": ".py",
   "mimetype": "text/x-python",
   "name": "python",
   "nbconvert_exporter": "python",
   "pygments_lexer": "ipython3",
   "version": "3.12.7"
  }
 },
 "nbformat": 4,
 "nbformat_minor": 2
}
