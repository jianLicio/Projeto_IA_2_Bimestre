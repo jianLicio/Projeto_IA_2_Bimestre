{
 "cells": [
  {
   "cell_type": "code",
   "execution_count": 6,
   "metadata": {},
   "outputs": [],
   "source": [
    "import pandas as pd\n",
    "import numpy as np\n",
    "\n",
    "df = pd.read_csv('../base_dados/beber_copia.csv', low_memory=False)\n"
   ]
  },
  {
   "cell_type": "code",
   "execution_count": 7,
   "metadata": {},
   "outputs": [
    {
     "data": {
      "text/plain": [
       "HDL_chole           42\n",
       "LDL_chole           25\n",
       "tot_chole           17\n",
       "sex                  0\n",
       "waistline            0\n",
       "age                  0\n",
       "height               0\n",
       "weight               0\n",
       "hear_left            0\n",
       "sight_right          0\n",
       "sight_left           0\n",
       "hear_right           0\n",
       "BLDS                 0\n",
       "DBP                  0\n",
       "SBP                  0\n",
       "triglyceride         0\n",
       "hemoglobin           0\n",
       "urine_protein        0\n",
       "serum_creatinine     0\n",
       "SGOT_AST             0\n",
       "SGOT_ALT             0\n",
       "gamma_GTP            0\n",
       "SMK_stat_type_cd     0\n",
       "DRK_YN               0\n",
       "dtype: int64"
      ]
     },
     "execution_count": 7,
     "metadata": {},
     "output_type": "execute_result"
    }
   ],
   "source": [
    "df.isnull().sum().sort_values(ascending=False)\n"
   ]
  },
  {
   "cell_type": "code",
   "execution_count": 9,
   "metadata": {},
   "outputs": [
    {
     "name": "stdout",
     "output_type": "stream",
     "text": [
      "Número de linhas restantes: 991345\n"
     ]
    }
   ],
   "source": [
    "# Contar valores nulos por linha\n",
    "nulos_por_linha = df.isnull().sum(axis=1)\n",
    "\n",
    "# Filtrar apenas as linhas com menos de 3 valores nulos\n",
    "df_filtrado = df[nulos_por_linha < 3]\n",
    "\n",
    "# Exibir ou salvar o DataFrame atualizado\n",
    "print(f\"Número de linhas restantes: {len(df_filtrado)}\")\n"
   ]
  },
  {
   "cell_type": "markdown",
   "metadata": {},
   "source": [
    "### Remoção de instâncias com valores nulos"
   ]
  },
  {
   "cell_type": "code",
   "execution_count": 11,
   "metadata": {},
   "outputs": [
    {
     "name": "stdout",
     "output_type": "stream",
     "text": [
      "Número de instâncias restantes (sem valores nulos): 991278\n"
     ]
    }
   ],
   "source": [
    "# Remover todas as instâncias com qualquer valor nulo\n",
    "df = df.dropna()\n",
    "\n",
    "# Exibir o número de linhas restantes\n",
    "print(f\"Número de instâncias restantes (sem valores nulos): {len(df)}\")\n"
   ]
  },
  {
   "cell_type": "code",
   "execution_count": 12,
   "metadata": {},
   "outputs": [],
   "source": [
    "df_filtrado.to_csv('../base_dados/beber_copia.csv', index=False)\n"
   ]
  }
 ],
 "metadata": {
  "kernelspec": {
   "display_name": "meu_ambiente",
   "language": "python",
   "name": "python3"
  },
  "language_info": {
   "codemirror_mode": {
    "name": "ipython",
    "version": 3
   },
   "file_extension": ".py",
   "mimetype": "text/x-python",
   "name": "python",
   "nbconvert_exporter": "python",
   "pygments_lexer": "ipython3",
   "version": "3.12.7"
  }
 },
 "nbformat": 4,
 "nbformat_minor": 2
}
