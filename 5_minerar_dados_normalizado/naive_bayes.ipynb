{
 "cells": [
  {
   "cell_type": "code",
   "execution_count": 1,
   "id": "57469153",
   "metadata": {
    "execution": {
     "iopub.execute_input": "2024-12-27T16:15:44.448159Z",
     "iopub.status.busy": "2024-12-27T16:15:44.448159Z",
     "iopub.status.idle": "2024-12-27T16:15:45.703913Z",
     "shell.execute_reply": "2024-12-27T16:15:45.703913Z"
    },
    "papermill": {
     "duration": 1.26476,
     "end_time": "2024-12-27T16:15:45.705918",
     "exception": false,
     "start_time": "2024-12-27T16:15:44.441158",
     "status": "completed"
    },
    "tags": []
   },
   "outputs": [],
   "source": [
    "import pandas as pd\n",
    "from sklearn.model_selection import train_test_split\n",
    "from sklearn.preprocessing import LabelEncoder\n",
    "from sklearn.naive_bayes import CategoricalNB\n",
    "from sklearn.metrics import accuracy_score, classification_report, confusion_matrix, ConfusionMatrixDisplay\n",
    "from sklearn.naive_bayes import GaussianNB\n",
    "\n",
    "df = pd.read_csv('../base_dados/beber_normalizado.csv', low_memory=False)\n"
   ]
  },
  {
   "cell_type": "markdown",
   "id": "8a02351f",
   "metadata": {
    "papermill": {
     "duration": 0.017001,
     "end_time": "2024-12-27T16:15:45.730430",
     "exception": false,
     "start_time": "2024-12-27T16:15:45.713429",
     "status": "completed"
    },
    "tags": []
   },
   "source": [
    "### Quantitativos"
   ]
  },
  {
   "cell_type": "code",
   "execution_count": 2,
   "id": "989351d0",
   "metadata": {
    "execution": {
     "iopub.execute_input": "2024-12-27T16:15:45.762914Z",
     "iopub.status.busy": "2024-12-27T16:15:45.762914Z",
     "iopub.status.idle": "2024-12-27T16:15:46.365872Z",
     "shell.execute_reply": "2024-12-27T16:15:46.365872Z"
    },
    "papermill": {
     "duration": 0.620415,
     "end_time": "2024-12-27T16:15:46.366876",
     "exception": false,
     "start_time": "2024-12-27T16:15:45.746461",
     "status": "completed"
    },
    "tags": []
   },
   "outputs": [
    {
     "name": "stdout",
     "output_type": "stream",
     "text": [
      "Acurácia: 0.6960250201775625\n",
      "Relatório de Classificação:\n",
      "               precision    recall  f1-score   support\n",
      "\n",
      "           0       0.67      0.76      0.71     14811\n",
      "           1       0.73      0.63      0.67     14925\n",
      "\n",
      "    accuracy                           0.70     29736\n",
      "   macro avg       0.70      0.70      0.69     29736\n",
      "weighted avg       0.70      0.70      0.69     29736\n",
      "\n",
      "Matriz de Confusão (Texto):\n",
      " [[11311  3500]\n",
      " [ 5539  9386]]\n"
     ]
    },
    {
     "name": "stdout",
     "output_type": "stream",
     "text": [
      "Resultados salvos com sucesso.\n"
     ]
    },
    {
     "data": {
      "image/png": "[encoded data removed]",
      "text/plain": [
       "<Figure size 640x480 with 2 Axes>"
      ]
     },
     "metadata": {},
     "output_type": "display_data"
    }
   ],
   "source": [
    "# Separar features e target\n",
    "X = df.drop(columns=['drk_yn'])\n",
    "y = df['drk_yn']\n",
    "\n",
    "# Dividir dados em treino e teste\n",
    "X_train, X_test, y_train, y_test = train_test_split(X, y, test_size=0.3, random_state=42)\n",
    "\n",
    "# Criar e treinar o modelo\n",
    "gnb = GaussianNB()\n",
    "gnb.fit(X_train, y_train)\n",
    "\n",
    "# Prever e avaliar\n",
    "y_pred = gnb.predict(X_test)\n",
    "\n",
    "# Avaliação\n",
    "accuracy = accuracy_score(y_test, y_pred)\n",
    "report = classification_report(y_test, y_pred)\n",
    "\n",
    "print(\"Acurácia:\", accuracy)\n",
    "print(\"Relatório de Classificação:\\n\", report)\n",
    "\n",
    "# Matriz de confusão\n",
    "cm = confusion_matrix(y_test, y_pred)\n",
    "print(\"Matriz de Confusão (Texto):\\n\", cm)\n",
    "\n",
    "# Salvar acurácia e relatório em CSV\n",
    "resultados = pd.DataFrame({\n",
    "    'Modelo': ['Naive Bayes'],\n",
    "    'Acurácia': [accuracy]\n",
    "})\n",
    "\n",
    "# Salvar relatório de classificação como arquivo de texto\n",
    "with open('../base_dados/resultados_mineracao_dados/relatorio_classificacao_naive_bayes_quantitativo_normalizado.txt', 'w') as f:\n",
    "    f.write(\"Relatório de Classificação:\\n\")\n",
    "    f.write(report)\n",
    "\n",
    "# Salvar matriz de confusão\n",
    "# cm_df = pd.DataFrame(cm, index=[f'Classe {i}' for i in range(len(cm))], columns=[f'Classe {i}' for i in range(len(cm))])\n",
    "# cm_df.to_csv('../base_dados/resultados_mineracao_dados/matriz_confusao_naive_bayes.csv', index=True)\n",
    "\n",
    "# Salvar acurácia em CSV\n",
    "resultados.to_csv('../base_dados/resultados_mineracao_dados/resultado__naive_bayes_quantitativo_normalizado.csv', index=False)\n",
    "\n",
    "# Exibir matriz de confusão graficamente\n",
    "disp = ConfusionMatrixDisplay(confusion_matrix=cm)\n",
    "disp.plot()\n",
    "\n",
    "print(\"Resultados salvos com sucesso.\")\n"
   ]
  },
  {
   "cell_type": "markdown",
   "id": "6df99c20",
   "metadata": {
    "papermill": {
     "duration": 0.017,
     "end_time": "2024-12-27T16:15:46.390877",
     "exception": false,
     "start_time": "2024-12-27T16:15:46.373877",
     "status": "completed"
    },
    "tags": []
   },
   "source": [
    "### Qualitativos"
   ]
  },
  {
   "cell_type": "code",
   "execution_count": 3,
   "id": "e04f779e",
   "metadata": {
    "execution": {
     "iopub.execute_input": "2024-12-27T16:15:46.419391Z",
     "iopub.status.busy": "2024-12-27T16:15:46.419391Z",
     "iopub.status.idle": "2024-12-27T16:15:48.949476Z",
     "shell.execute_reply": "2024-12-27T16:15:48.949476Z"
    },
    "papermill": {
     "duration": 2.545605,
     "end_time": "2024-12-27T16:15:48.950486",
     "exception": false,
     "start_time": "2024-12-27T16:15:46.404881",
     "status": "completed"
    },
    "tags": []
   },
   "outputs": [
    {
     "name": "stdout",
     "output_type": "stream",
     "text": [
      "Acurácia: 0.702515469464622\n",
      "Relatório de Classificação:\n",
      "               precision    recall  f1-score   support\n",
      "\n",
      "           0       0.70      0.71      0.70     14811\n",
      "           1       0.71      0.69      0.70     14925\n",
      "\n",
      "    accuracy                           0.70     29736\n",
      "   macro avg       0.70      0.70      0.70     29736\n",
      "weighted avg       0.70      0.70      0.70     29736\n",
      "\n",
      "Matriz de Confusão (Texto):\n",
      " [[10556  4255]\n",
      " [ 4591 10334]]\n",
      "Resultados salvos com sucesso.\n"
     ]
    },
    {
     "data": {
      "image/png": "[encoded data removed]",
      "text/plain": [
       "<Figure size 640x480 with 2 Axes>"
      ]
     },
     "metadata": {},
     "output_type": "display_data"
    }
   ],
   "source": [
    "# Converter todos os dados para string\n",
    "df = df.astype(str)\n",
    "\n",
    "# Separar atributos e rótulo\n",
    "X = df.drop(columns=['drk_yn'])\n",
    "y = df['drk_yn']\n",
    "\n",
    "# Dividir dados\n",
    "X_train, X_test, y_train, y_test = train_test_split(X, y, test_size=0.3, random_state=42)\n",
    "\n",
    "# Codificar com LabelEncoder\n",
    "X_train = X_train.apply(LabelEncoder().fit_transform)\n",
    "X_test = X_test.apply(LabelEncoder().fit_transform)\n",
    "\n",
    "# Criar e treinar o modelo\n",
    "cnb = CategoricalNB()\n",
    "cnb.fit(X_train, y_train)\n",
    "\n",
    "# Prever e avaliar\n",
    "y_pred = cnb.predict(X_test)\n",
    "\n",
    "# Avaliação\n",
    "accuracy = accuracy_score(y_test, y_pred)\n",
    "report = classification_report(y_test, y_pred)\n",
    "\n",
    "print(\"Acurácia:\", accuracy)\n",
    "print(\"Relatório de Classificação:\\n\", report)\n",
    "\n",
    "# Matriz de confusão\n",
    "cm = confusion_matrix(y_test, y_pred)\n",
    "print(\"Matriz de Confusão (Texto):\\n\", cm)\n",
    "\n",
    "# Salvar acurácia e relatório em CSV\n",
    "resultados = pd.DataFrame({\n",
    "    'Modelo': ['Categorical Naive Bayes'],\n",
    "    'Acurácia': [accuracy]\n",
    "})\n",
    "\n",
    "# Salvar relatório de classificação como arquivo de texto\n",
    "with open('../base_dados/resultados_mineracao_dados/relatorio_classificacao_naive_bayes_qualitativo_normalizado.txt', 'w') as f:\n",
    "    f.write(\"Relatório de Classificação:\\n\")\n",
    "    f.write(report)\n",
    "\n",
    "# Salvar matriz de confusão\n",
    "# cm_df = pd.DataFrame(cm, index=[f'Classe {i}' for i in range(len(cm))], columns=[f'Classe {i}' for i in range(len(cm))])\n",
    "# cm_df.to_csv('../base_dados/resultados_mineracao_dados/matriz_confusao_naive_bayes_qualitativo.csv', index=True)\n",
    "\n",
    "# Salvar acurácia em CSV\n",
    "resultados.to_csv('../base_dados/resultados_mineracao_dados/resultado_naive_bayes_qualitativo_normalizado.csv', index=False)\n",
    "\n",
    "# Exibir matriz de confusão graficamente\n",
    "disp = ConfusionMatrixDisplay(confusion_matrix=cm)\n",
    "disp.plot()\n",
    "\n",
    "print(\"Resultados salvos com sucesso.\")"
   ]
  },
  {
   "cell_type": "code",
   "execution_count": 4,
   "id": "ea9a4eed",
   "metadata": {
    "execution": {
     "iopub.execute_input": "2024-12-27T16:15:48.981487Z",
     "iopub.status.busy": "2024-12-27T16:15:48.980484Z",
     "iopub.status.idle": "2024-12-27T16:15:48.983915Z",
     "shell.execute_reply": "2024-12-27T16:15:48.983915Z"
    },
    "papermill": {
     "duration": 0.023438,
     "end_time": "2024-12-27T16:15:48.984923",
     "exception": false,
     "start_time": "2024-12-27T16:15:48.961485",
     "status": "completed"
    },
    "tags": []
   },
   "outputs": [],
   "source": [
    "# cm_df = pd.DataFrame(cm, index=[f'Classe {i}' for i in range(len(cm))], columns=[f'Classe {i}' for i in range(len(cm))])\n",
    "# cm_df.to_csv('../base_dados/resultados_mineracao_dados/matriz_confusao_naive_bayes_normalizado.csv', index=True)"
   ]
  }
 ],
 "metadata": {
  "kernelspec": {
   "display_name": "meu_ambiente",
   "language": "python",
   "name": "python3"
  },
  "language_info": {
   "codemirror_mode": {
    "name": "ipython",
    "version": 3
   },
   "file_extension": ".py",
   "mimetype": "text/x-python",
   "name": "python",
   "nbconvert_exporter": "python",
   "pygments_lexer": "ipython3",
   "version": "3.12.7"
  },
  "papermill": {
   "default_parameters": {},
   "duration": 6.330637,
   "end_time": "2024-12-27T16:15:49.521008",
   "environment_variables": {},
   "exception": null,
   "input_path": "..\\5_minerar_dados_normalizado\\naive_bayes.ipynb",
   "output_path": "..\\5_minerar_dados_normalizado\\naive_bayes.ipynb",
   "parameters": {},
   "start_time": "2024-12-27T16:15:43.190371",
   "version": "2.6.0"
  }
 },
 "nbformat": 4,
 "nbformat_minor": 5
}