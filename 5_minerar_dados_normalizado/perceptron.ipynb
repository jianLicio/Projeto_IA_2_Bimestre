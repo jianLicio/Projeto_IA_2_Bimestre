{
 "cells": [
  {
   "cell_type": "code",
   "execution_count": 1,
   "id": "4be71571",
   "metadata": {
    "execution": {
     "iopub.execute_input": "2024-12-24T23:56:58.998902Z",
     "iopub.status.busy": "2024-12-24T23:56:58.998902Z",
     "iopub.status.idle": "2024-12-24T23:57:01.584698Z",
     "shell.execute_reply": "2024-12-24T23:57:01.584698Z"
    },
    "papermill": {
     "duration": 2.594417,
     "end_time": "2024-12-24T23:57:01.586319",
     "exception": false,
     "start_time": "2024-12-24T23:56:58.991902",
     "status": "completed"
    },
    "tags": []
   },
   "outputs": [],
   "source": [
    "from sklearn.model_selection import train_test_split\n",
    "from sklearn.metrics import confusion_matrix, classification_report, accuracy_score\n",
    "from sklearn.linear_model import Perceptron\n",
    "import pandas as pd\n",
    "\n",
    "df = pd.read_csv('../base_dados/beber_normalizado.csv', low_memory=False)"
   ]
  },
  {
   "cell_type": "code",
   "execution_count": 2,
   "id": "4913d214",
   "metadata": {
    "execution": {
     "iopub.execute_input": "2024-12-24T23:57:01.611360Z",
     "iopub.status.busy": "2024-12-24T23:57:01.611360Z",
     "iopub.status.idle": "2024-12-24T23:57:03.065780Z",
     "shell.execute_reply": "2024-12-24T23:57:03.065780Z"
    },
    "papermill": {
     "duration": 1.472615,
     "end_time": "2024-12-24T23:57:03.066789",
     "exception": false,
     "start_time": "2024-12-24T23:57:01.594174",
     "status": "completed"
    },
    "tags": []
   },
   "outputs": [
    {
     "name": "stdout",
     "output_type": "stream",
     "text": [
      "Acurácia: 0.6829264191552327\n",
      "Relatório de Classificação:\n",
      "               precision    recall  f1-score   support\n",
      "\n",
      "           0       0.75      0.55      0.64     89406\n",
      "           1       0.64      0.81      0.72     89010\n",
      "\n",
      "    accuracy                           0.68    178416\n",
      "   macro avg       0.70      0.68      0.68    178416\n",
      "weighted avg       0.70      0.68      0.68    178416\n",
      "\n",
      "Matriz de Confusão Simplificada:\n",
      "           Previsto 0  Previsto 1\n",
      "Classe 0       49380       40026\n",
      "Classe 1       16545       72465\n",
      "Acurácia salva com sucesso.\n"
     ]
    }
   ],
   "source": [
    "# Separar features e target\n",
    "X = df.drop('drk_yn', axis=1)\n",
    "y = df['drk_yn']\n",
    "\n",
    "# Dividir em treino e teste\n",
    "X_train, X_test, y_train, y_test = train_test_split(X, y, test_size=0.3, random_state=42)\n",
    "\n",
    "# Criar e treinar o modelo\n",
    "model = Perceptron(max_iter=1000, tol=1e-3)\n",
    "model.fit(X_train, y_train)\n",
    "\n",
    "# Fazer previsões\n",
    "y_pred = model.predict(X_test)\n",
    "\n",
    "# Calcular a matriz de confusão\n",
    "conf_matrix = confusion_matrix(y_test, y_pred)\n",
    "\n",
    "# Calcular métricas de desempenho\n",
    "accuracy = accuracy_score(y_test, y_pred)\n",
    "report = classification_report(y_test, y_pred)\n",
    "\n",
    "# Criar DataFrame consolidado\n",
    "resultados_resumidos = pd.DataFrame(conf_matrix, \n",
    "                                    index=['Classe 0', 'Classe 1'], \n",
    "                                    columns=['Previsto 0', 'Previsto 1'])\n",
    "\n",
    "# Salvar matriz de confusão simplificada\n",
    "# resultados_resumidos.to_csv('../base_dados/resultados_mineracao_dados/matriz_confusao_perceptron_normalizado.csv')\n",
    "\n",
    "# Exibir resultados simplificados\n",
    "print('Acurácia:', accuracy)\n",
    "print('Relatório de Classificação:\\n', report)\n",
    "print('Matriz de Confusão Simplificada:\\n', resultados_resumidos)\n",
    "\n",
    "\n",
    "resultados_acuracia = pd.DataFrame({\n",
    "    'Modelo': ['Perceptron'],\n",
    "    'Acurácia': [accuracy]\n",
    "})\n",
    "\n",
    "# Salvar acurácia em CSV\n",
    "resultados_acuracia.to_csv('../base_dados/resultados_mineracao_dados/resultado_perceptron_normalizado.csv', index=False)\n",
    "\n",
    "print(\"Acurácia salva com sucesso.\")"
   ]
  }
 ],
 "metadata": {
  "kernelspec": {
   "display_name": "meu_ambiente",
   "language": "python",
   "name": "python3"
  },
  "language_info": {
   "codemirror_mode": {
    "name": "ipython",
    "version": 3
   },
   "file_extension": ".py",
   "mimetype": "text/x-python",
   "name": "python",
   "nbconvert_exporter": "python",
   "pygments_lexer": "ipython3",
   "version": "3.12.7"
  },
  "papermill": {
   "default_parameters": {},
   "duration": 5.887884,
   "end_time": "2024-12-24T23:57:03.605788",
   "environment_variables": {},
   "exception": null,
   "input_path": "..\\5_minerar_dados_normalizado\\perceptron.ipynb",
   "output_path": "..\\5_minerar_dados_normalizado\\perceptron.ipynb",
   "parameters": {},
   "start_time": "2024-12-24T23:56:57.717904",
   "version": "2.6.0"
  }
 },
 "nbformat": 4,
 "nbformat_minor": 5
}