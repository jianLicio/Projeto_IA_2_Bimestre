{
 "cells": [
  {
   "cell_type": "code",
   "execution_count": 1,
   "id": "0696f675",
   "metadata": {
    "execution": {
     "iopub.execute_input": "2024-12-27T16:15:53.867305Z",
     "iopub.status.busy": "2024-12-27T16:15:53.867305Z",
     "iopub.status.idle": "2024-12-27T16:15:55.576223Z",
     "shell.execute_reply": "2024-12-27T16:15:55.576223Z"
    },
    "papermill": {
     "duration": 1.717926,
     "end_time": "2024-12-27T16:15:55.578229",
     "exception": false,
     "start_time": "2024-12-27T16:15:53.860303",
     "status": "completed"
    },
    "tags": []
   },
   "outputs": [],
   "source": [
    "from sklearn.metrics import confusion_matrix, classification_report, ConfusionMatrixDisplay, accuracy_score\n",
    "from sklearn.model_selection import train_test_split\n",
    "import statsmodels.api as sm\n",
    "import pandas as pd\n",
    "import numpy as np\n",
    "\n",
    "df = pd.read_csv('../base_dados/beber_normalizado.csv', low_memory=False)\n"
   ]
  },
  {
   "cell_type": "code",
   "execution_count": 2,
   "id": "3af00bda",
   "metadata": {
    "execution": {
     "iopub.execute_input": "2024-12-27T16:15:55.607234Z",
     "iopub.status.busy": "2024-12-27T16:15:55.607234Z",
     "iopub.status.idle": "2024-12-27T16:15:56.216105Z",
     "shell.execute_reply": "2024-12-27T16:15:56.216105Z"
    },
    "papermill": {
     "duration": 0.62888,
     "end_time": "2024-12-27T16:15:56.217111",
     "exception": false,
     "start_time": "2024-12-27T16:15:55.588231",
     "status": "completed"
    },
    "tags": []
   },
   "outputs": [
    {
     "name": "stdout",
     "output_type": "stream",
     "text": [
      "                            OLS Regression Results                            \n",
      "==============================================================================\n",
      "Dep. Variable:                 drk_yn   R-squared:                       0.251\n",
      "Model:                            OLS   Adj. R-squared:                  0.251\n",
      "Method:                 Least Squares   F-statistic:                     1162.\n",
      "Date:                Fri, 27 Dec 2024   Prob (F-statistic):               0.00\n",
      "Time:                        13:15:55   Log-Likelihood:                -40331.\n",
      "No. Observations:               69384   AIC:                         8.070e+04\n",
      "Df Residuals:                   69363   BIC:                         8.090e+04\n",
      "Df Model:                          20                                         \n",
      "Covariance Type:            nonrobust                                         \n",
      "==========================================================================================\n",
      "                             coef    std err          t      P>|t|      [0.025      0.975]\n",
      "------------------------------------------------------------------------------------------\n",
      "const                      0.2695      0.013     21.511      0.000       0.245       0.294\n",
      "sex                        0.1833      0.006     31.425      0.000       0.172       0.195\n",
      "age                       -0.4937      0.010    -50.003      0.000      -0.513      -0.474\n",
      "height                     0.1671      0.020      8.342      0.000       0.128       0.206\n",
      "sight_left                 0.0330      0.023      1.422      0.155      -0.012       0.078\n",
      "sight_right               -0.0097      0.023     -0.429      0.668      -0.054       0.035\n",
      "urine_protein             -0.0096      0.019     -0.507      0.612      -0.047       0.028\n",
      "smk_stat_type_cd           0.1992      0.005     39.347      0.000       0.189       0.209\n",
      "sbp_grupo                  0.0133      0.013      1.005      0.315      -0.013       0.039\n",
      "dbp_grupo                  0.1604      0.020      8.010      0.000       0.121       0.200\n",
      "blds_grupo                 0.0308      0.006      5.492      0.000       0.020       0.042\n",
      "hemoglobin_grupo          -0.0148      0.008     -1.871      0.061      -0.030       0.001\n",
      "waistline_grupo            0.0320      0.011      2.887      0.004       0.010       0.054\n",
      "weight_grupo               0.0061      0.013      0.454      0.650      -0.020       0.032\n",
      "serum_creatinine_grupo    -0.7641      0.177     -4.308      0.000      -1.112      -0.416\n",
      "tot_chole_grupo            0.0522      0.019      2.754      0.006       0.015       0.089\n",
      "hdl_chole_grupo            0.2930      0.009     31.827      0.000       0.275       0.311\n",
      "ldl_chole_grupo           -0.0957      0.018     -5.435      0.000      -0.130      -0.061\n",
      "triglyceride_grupo         0.2742      0.035      7.862      0.000       0.206       0.343\n",
      "sgot_ast_grupo            -0.1919      0.064     -2.987      0.003      -0.318      -0.066\n",
      "gamma_gtp_grupo            0.0008   4.02e-05     21.030      0.000       0.001       0.001\n",
      "==============================================================================\n",
      "Omnibus:                    18409.009   Durbin-Watson:                   1.997\n",
      "Prob(Omnibus):                  0.000   Jarque-Bera (JB):             3053.563\n",
      "Skew:                          -0.029   Prob(JB):                         0.00\n",
      "Kurtosis:                       1.974   Cond. No.                     5.89e+03\n",
      "==============================================================================\n",
      "\n",
      "Notes:\n",
      "[1] Standard Errors assume that the covariance matrix of the errors is correctly specified.\n",
      "[2] The condition number is large, 5.89e+03. This might indicate that there are\n",
      "strong multicollinearity or other numerical problems.\n",
      "Acurácia: 0.72\n",
      "Relatório de Classificação:\n",
      "               precision    recall  f1-score   support\n",
      "\n",
      "           0       0.72      0.73      0.72     14811\n",
      "           1       0.73      0.71      0.72     14925\n",
      "\n",
      "    accuracy                           0.72     29736\n",
      "   macro avg       0.72      0.72      0.72     29736\n",
      "weighted avg       0.72      0.72      0.72     29736\n",
      "\n",
      "Matriz de Confusão (Texto):\n",
      " [[10825  3986]\n",
      " [ 4283 10642]]\n"
     ]
    },
    {
     "name": "stdout",
     "output_type": "stream",
     "text": [
      "Acurácia salva com sucesso.\n"
     ]
    },
    {
     "data": {
      "image/png": "[encoded data removed]",
      "text/plain": [
       "<Figure size 640x480 with 2 Axes>"
      ]
     },
     "metadata": {},
     "output_type": "display_data"
    }
   ],
   "source": [
    "\n",
    "\n",
    "# Definir variáveis independentes (X) e dependente (y)\n",
    "X = df.drop(columns=['drk_yn'])  # Todas as colunas, exceto a de destino\n",
    "y = df['drk_yn']\n",
    "\n",
    "# Dividir em treino e teste\n",
    "X_train, X_test, y_train, y_test = train_test_split(X, y, test_size=0.3, random_state=42)\n",
    "\n",
    "# Adicionar constante ao modelo (intercepto)\n",
    "X_train = sm.add_constant(X_train)\n",
    "X_test = sm.add_constant(X_test)\n",
    "\n",
    "# Ajustar o modelo de regressão linear\n",
    "modelo = sm.OLS(y_train, X_train).fit()\n",
    "\n",
    "# Exibir o resumo do modelo\n",
    "print(modelo.summary())\n",
    "\n",
    "# Fazer previsões (resultados contínuos)\n",
    "y_pred = modelo.predict(X_test)\n",
    "\n",
    "# Converter previsões para classes binárias (0 ou 1) com threshold de 0.5\n",
    "y_pred_class = np.where(y_pred >= 0.5, 1, 0)\n",
    "\n",
    "# Avaliar o modelo\n",
    "accuracy = accuracy_score(y_test, y_pred_class)\n",
    "print(f'Acurácia: {accuracy:.2f}')\n",
    "\n",
    "# Relatório de classificação\n",
    "print(\"Relatório de Classificação:\\n\", classification_report(y_test, y_pred_class))\n",
    "\n",
    "# Matriz de confusão\n",
    "cm = confusion_matrix(y_test, y_pred_class)\n",
    "print(\"Matriz de Confusão (Texto):\\n\", cm)\n",
    "\n",
    "# Exibir matriz de confusão graficamente\n",
    "disp = ConfusionMatrixDisplay(confusion_matrix=cm)\n",
    "disp.plot()\n",
    "\n",
    "# cm_df = pd.DataFrame(cm, index=[f'Classe {i}' for i in range(len(cm))], columns=[f'Classe {i}' for i in range(len(cm))])\n",
    "# cm_df.to_csv('../base_dados/resultados_mineracao_dados/matriz_confusao_regressao_linear_normalizado.csv', index=True)\n",
    "\n",
    "resultados = pd.DataFrame({\n",
    "    'Modelo': ['Regressão Linear'],\n",
    "    'Acurácia': [accuracy]\n",
    "})\n",
    "\n",
    "# Salvar o resultado em um arquivo CSV\n",
    "resultados.to_csv('../base_dados/resultados_mineracao_dados/resultado_regressao_linear_normalizado.csv', index=False)\n",
    "\n",
    "print(\"Acurácia salva com sucesso.\")"
   ]
  }
 ],
 "metadata": {
  "kernelspec": {
   "display_name": "meu_ambiente",
   "language": "python",
   "name": "python3"
  },
  "language_info": {
   "codemirror_mode": {
    "name": "ipython",
    "version": 3
   },
   "file_extension": ".py",
   "mimetype": "text/x-python",
   "name": "python",
   "nbconvert_exporter": "python",
   "pygments_lexer": "ipython3",
   "version": "3.12.7"
  },
  "papermill": {
   "default_parameters": {},
   "duration": 4.119692,
   "end_time": "2024-12-27T16:15:56.733824",
   "environment_variables": {},
   "exception": null,
   "input_path": "..\\5_minerar_dados_normalizado\\regressao_linear.ipynb",
   "output_path": "..\\5_minerar_dados_normalizado\\regressao_linear.ipynb",
   "parameters": {},
   "start_time": "2024-12-27T16:15:52.614132",
   "version": "2.6.0"
  }
 },
 "nbformat": 4,
 "nbformat_minor": 5
}