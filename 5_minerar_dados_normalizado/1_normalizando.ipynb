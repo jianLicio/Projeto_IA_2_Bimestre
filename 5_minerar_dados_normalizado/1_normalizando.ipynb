{
 "cells": [
  {
   "cell_type": "code",
   "execution_count": 1,
   "id": "0ad07248",
   "metadata": {
    "execution": {
     "iopub.execute_input": "2024-12-27T16:13:49.784174Z",
     "iopub.status.busy": "2024-12-27T16:13:49.784174Z",
     "iopub.status.idle": "2024-12-27T16:13:50.938356Z",
     "shell.execute_reply": "2024-12-27T16:13:50.938356Z"
    },
    "papermill": {
     "duration": 1.161701,
     "end_time": "2024-12-27T16:13:50.939361",
     "exception": false,
     "start_time": "2024-12-27T16:13:49.777660",
     "status": "completed"
    },
    "tags": []
   },
   "outputs": [],
   "source": [
    "import pandas as pd\n",
    "from sklearn.preprocessing import MinMaxScaler\n",
    "\n",
    "df = pd.read_csv('../base_dados/beber_amostra.csv', low_memory=False)\n"
   ]
  },
  {
   "cell_type": "code",
   "execution_count": 2,
   "id": "edd77a5b",
   "metadata": {
    "execution": {
     "iopub.execute_input": "2024-12-27T16:13:50.977370Z",
     "iopub.status.busy": "2024-12-27T16:13:50.977370Z",
     "iopub.status.idle": "2024-12-27T16:13:51.034167Z",
     "shell.execute_reply": "2024-12-27T16:13:51.034167Z"
    },
    "papermill": {
     "duration": 0.086808,
     "end_time": "2024-12-27T16:13:51.035171",
     "exception": false,
     "start_time": "2024-12-27T16:13:50.948363",
     "status": "completed"
    },
    "tags": []
   },
   "outputs": [
    {
     "name": "stderr",
     "output_type": "stream",
     "text": [
      "C:\\Users\\jian_\\AppData\\Local\\Temp\\ipykernel_16692\\2988277198.py:2: FutureWarning: Setting an item of incompatible dtype is deprecated and will raise in a future error of pandas. Value '[0.46153846 0.15384615 0.30769231 ... 0.30769231 0.61538462 0.46153846]' has dtype incompatible with int64, please explicitly cast to a compatible dtype first.\n",
      "  df.iloc[:, :-1] = scaler.fit_transform(df.iloc[:, :-1])\n",
      "C:\\Users\\jian_\\AppData\\Local\\Temp\\ipykernel_16692\\2988277198.py:2: FutureWarning: Setting an item of incompatible dtype is deprecated and will raise in a future error of pandas. Value '[0.58333333 0.75       0.66666667 ... 0.66666667 0.41666667 0.33333333]' has dtype incompatible with int64, please explicitly cast to a compatible dtype first.\n",
      "  df.iloc[:, :-1] = scaler.fit_transform(df.iloc[:, :-1])\n",
      "C:\\Users\\jian_\\AppData\\Local\\Temp\\ipykernel_16692\\2988277198.py:2: FutureWarning: Setting an item of incompatible dtype is deprecated and will raise in a future error of pandas. Value '[0.11111111 0.11111111 0.11111111 ... 0.11111111 0.         0.11111111]' has dtype incompatible with int64, please explicitly cast to a compatible dtype first.\n",
      "  df.iloc[:, :-1] = scaler.fit_transform(df.iloc[:, :-1])\n",
      "C:\\Users\\jian_\\AppData\\Local\\Temp\\ipykernel_16692\\2988277198.py:2: FutureWarning: Setting an item of incompatible dtype is deprecated and will raise in a future error of pandas. Value '[0.11111111 0.11111111 0.11111111 ... 0.11111111 0.         0.11111111]' has dtype incompatible with int64, please explicitly cast to a compatible dtype first.\n",
      "  df.iloc[:, :-1] = scaler.fit_transform(df.iloc[:, :-1])\n",
      "C:\\Users\\jian_\\AppData\\Local\\Temp\\ipykernel_16692\\2988277198.py:2: FutureWarning: Setting an item of incompatible dtype is deprecated and will raise in a future error of pandas. Value '[0.4 0.  0.2 ... 0.  0.  0. ]' has dtype incompatible with int64, please explicitly cast to a compatible dtype first.\n",
      "  df.iloc[:, :-1] = scaler.fit_transform(df.iloc[:, :-1])\n",
      "C:\\Users\\jian_\\AppData\\Local\\Temp\\ipykernel_16692\\2988277198.py:2: FutureWarning: Setting an item of incompatible dtype is deprecated and will raise in a future error of pandas. Value '[1.  0.  0.  ... 0.5 0.  0. ]' has dtype incompatible with int64, please explicitly cast to a compatible dtype first.\n",
      "  df.iloc[:, :-1] = scaler.fit_transform(df.iloc[:, :-1])\n",
      "C:\\Users\\jian_\\AppData\\Local\\Temp\\ipykernel_16692\\2988277198.py:2: FutureWarning: Setting an item of incompatible dtype is deprecated and will raise in a future error of pandas. Value '[0.81651376 0.27522936 0.27522936 ... 0.35779817 0.81651376 0.27522936]' has dtype incompatible with int64, please explicitly cast to a compatible dtype first.\n",
      "  df.iloc[:, :-1] = scaler.fit_transform(df.iloc[:, :-1])\n",
      "C:\\Users\\jian_\\AppData\\Local\\Temp\\ipykernel_16692\\2988277198.py:2: FutureWarning: Setting an item of incompatible dtype is deprecated and will raise in a future error of pandas. Value '[0.4875 0.25   0.25   ... 0.3625 0.4875 0.25  ]' has dtype incompatible with int64, please explicitly cast to a compatible dtype first.\n",
      "  df.iloc[:, :-1] = scaler.fit_transform(df.iloc[:, :-1])\n",
      "C:\\Users\\jian_\\AppData\\Local\\Temp\\ipykernel_16692\\2988277198.py:2: FutureWarning: Setting an item of incompatible dtype is deprecated and will raise in a future error of pandas. Value '[0.  0.  0.5 ... 0.  0.5 0.5]' has dtype incompatible with int64, please explicitly cast to a compatible dtype first.\n",
      "  df.iloc[:, :-1] = scaler.fit_transform(df.iloc[:, :-1])\n",
      "C:\\Users\\jian_\\AppData\\Local\\Temp\\ipykernel_16692\\2988277198.py:2: FutureWarning: Setting an item of incompatible dtype is deprecated and will raise in a future error of pandas. Value '[0.  0.  0.5 ... 0.  0.  0.5]' has dtype incompatible with int64, please explicitly cast to a compatible dtype first.\n",
      "  df.iloc[:, :-1] = scaler.fit_transform(df.iloc[:, :-1])\n"
     ]
    }
   ],
   "source": [
    "scaler = MinMaxScaler()\n",
    "df.iloc[:, :-1] = scaler.fit_transform(df.iloc[:, :-1])\n"
   ]
  },
  {
   "cell_type": "code",
   "execution_count": 3,
   "id": "097f8201",
   "metadata": {
    "execution": {
     "iopub.execute_input": "2024-12-27T16:13:51.056173Z",
     "iopub.status.busy": "2024-12-27T16:13:51.056173Z",
     "iopub.status.idle": "2024-12-27T16:13:52.528913Z",
     "shell.execute_reply": "2024-12-27T16:13:52.528913Z"
    },
    "papermill": {
     "duration": 1.489752,
     "end_time": "2024-12-27T16:13:52.530924",
     "exception": false,
     "start_time": "2024-12-27T16:13:51.041172",
     "status": "completed"
    },
    "tags": []
   },
   "outputs": [],
   "source": [
    "df.to_csv('../base_dados/beber_normalizado.csv', index=False)\n",
    "df.head().to_csv('../base_dados/beber_head.csv', index=False)\n",
    "\n"
   ]
  }
 ],
 "metadata": {
  "kernelspec": {
   "display_name": "Python 3",
   "language": "python",
   "name": "python3"
  },
  "language_info": {
   "codemirror_mode": {
    "name": "ipython",
    "version": 3
   },
   "file_extension": ".py",
   "mimetype": "text/x-python",
   "name": "python",
   "nbconvert_exporter": "python",
   "pygments_lexer": "ipython3",
   "version": "3.12.7"
  },
  "papermill": {
   "default_parameters": {},
   "duration": 4.355263,
   "end_time": "2024-12-27T16:13:52.862458",
   "environment_variables": {},
   "exception": null,
   "input_path": "..\\5_minerar_dados_normalizado\\1_normalizando.ipynb",
   "output_path": "..\\5_minerar_dados_normalizado\\1_normalizando.ipynb",
   "parameters": {},
   "start_time": "2024-12-27T16:13:48.507195",
   "version": "2.6.0"
  }
 },
 "nbformat": 4,
 "nbformat_minor": 5
}