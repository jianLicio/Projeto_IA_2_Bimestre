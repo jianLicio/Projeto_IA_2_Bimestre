{
 "cells": [
  {
   "cell_type": "code",
   "execution_count": 1,
   "id": "a2a1bee6",
   "metadata": {
    "execution": {
     "iopub.execute_input": "2024-12-27T18:00:46.881426Z",
     "iopub.status.busy": "2024-12-27T18:00:46.881426Z",
     "iopub.status.idle": "2024-12-27T18:00:48.237815Z",
     "shell.execute_reply": "2024-12-27T18:00:48.237815Z"
    },
    "papermill": {
     "duration": 1.365395,
     "end_time": "2024-12-27T18:00:48.238819",
     "exception": false,
     "start_time": "2024-12-27T18:00:46.873424",
     "status": "completed"
    },
    "tags": []
   },
   "outputs": [],
   "source": [
    "import pandas as pd\n",
    "from sklearn.preprocessing import MinMaxScaler\n",
    "\n",
    "df = pd.read_csv('../base_dados/beber_normalizado.csv', low_memory=False)\n"
   ]
  },
  {
   "cell_type": "markdown",
   "id": "33342bfb",
   "metadata": {
    "papermill": {
     "duration": 0.015,
     "end_time": "2024-12-27T18:00:48.260820",
     "exception": false,
     "start_time": "2024-12-27T18:00:48.245820",
     "status": "completed"
    },
    "tags": []
   },
   "source": [
    "### Sera feito um df com dados normalizados e sem duplicações"
   ]
  },
  {
   "cell_type": "code",
   "execution_count": 2,
   "id": "0a42a6d2",
   "metadata": {
    "execution": {
     "iopub.execute_input": "2024-12-27T18:00:48.290821Z",
     "iopub.status.busy": "2024-12-27T18:00:48.290821Z",
     "iopub.status.idle": "2024-12-27T18:00:48.332517Z",
     "shell.execute_reply": "2024-12-27T18:00:48.332517Z"
    },
    "papermill": {
     "duration": 0.057698,
     "end_time": "2024-12-27T18:00:48.333521",
     "exception": false,
     "start_time": "2024-12-27T18:00:48.275823",
     "status": "completed"
    },
    "tags": []
   },
   "outputs": [],
   "source": [
    "df = df.drop_duplicates()"
   ]
  },
  {
   "cell_type": "code",
   "execution_count": 3,
   "id": "aa70d029",
   "metadata": {
    "execution": {
     "iopub.execute_input": "2024-12-27T18:00:48.355524Z",
     "iopub.status.busy": "2024-12-27T18:00:48.355524Z",
     "iopub.status.idle": "2024-12-27T18:00:48.362780Z",
     "shell.execute_reply": "2024-12-27T18:00:48.362780Z"
    },
    "papermill": {
     "duration": 0.024267,
     "end_time": "2024-12-27T18:00:48.363789",
     "exception": false,
     "start_time": "2024-12-27T18:00:48.339522",
     "status": "completed"
    },
    "tags": []
   },
   "outputs": [
    {
     "name": "stdout",
     "output_type": "stream",
     "text": [
      "Em valores totais\n",
      "drk_yn\n",
      "1    49148\n",
      "0    48878\n",
      "Name: count, dtype: int64\n",
      "\n",
      "Em porcentagem (%)\n",
      "drk_yn\n",
      "1    50.137719\n",
      "0    49.862281\n",
      "Name: proportion, dtype: float64\n"
     ]
    }
   ],
   "source": [
    "print('Em valores totais')\n",
    "print(df['drk_yn'].value_counts())\n",
    "\n",
    "print('\\nEm porcentagem (%)')\n",
    "print(df['drk_yn'].value_counts(normalize=True) * 100)\n"
   ]
  },
  {
   "cell_type": "code",
   "execution_count": 4,
   "id": "555915e8",
   "metadata": {
    "execution": {
     "iopub.execute_input": "2024-12-27T18:00:48.391787Z",
     "iopub.status.busy": "2024-12-27T18:00:48.390785Z",
     "iopub.status.idle": "2024-12-27T18:00:49.839849Z",
     "shell.execute_reply": "2024-12-27T18:00:49.839849Z"
    },
    "papermill": {
     "duration": 1.466069,
     "end_time": "2024-12-27T18:00:49.840855",
     "exception": false,
     "start_time": "2024-12-27T18:00:48.374786",
     "status": "completed"
    },
    "tags": []
   },
   "outputs": [],
   "source": [
    "df.to_csv('../base_dados/beber_sem_duplicata.csv', index=False)\n"
   ]
  }
 ],
 "metadata": {
  "kernelspec": {
   "display_name": "meu_ambiente",
   "language": "python",
   "name": "python3"
  },
  "language_info": {
   "codemirror_mode": {
    "name": "ipython",
    "version": 3
   },
   "file_extension": ".py",
   "mimetype": "text/x-python",
   "name": "python",
   "nbconvert_exporter": "python",
   "pygments_lexer": "ipython3",
   "version": "3.12.7"
  },
  "papermill": {
   "default_parameters": {},
   "duration": 4.574431,
   "end_time": "2024-12-27T18:00:50.172855",
   "environment_variables": {},
   "exception": null,
   "input_path": "..\\6_minerar_dados_sem_duplicatas\\1_remove_duplicata.ipynb",
   "output_path": "..\\6_minerar_dados_sem_duplicatas\\1_remove_duplicata.ipynb",
   "parameters": {},
   "start_time": "2024-12-27T18:00:45.598424",
   "version": "2.6.0"
  }
 },
 "nbformat": 4,
 "nbformat_minor": 5
}