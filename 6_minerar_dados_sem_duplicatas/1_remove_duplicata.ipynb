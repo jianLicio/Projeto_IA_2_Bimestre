{
 "cells": [
  {
   "cell_type": "code",
   "execution_count": 1,
   "id": "a2a1bee6",
   "metadata": {
    "execution": {
     "iopub.execute_input": "2024-12-24T23:57:19.080448Z",
     "iopub.status.busy": "2024-12-24T23:57:19.079444Z",
     "iopub.status.idle": "2024-12-24T23:57:21.656841Z",
     "shell.execute_reply": "2024-12-24T23:57:21.656841Z"
    },
    "papermill": {
     "duration": 2.585402,
     "end_time": "2024-12-24T23:57:21.657846",
     "exception": false,
     "start_time": "2024-12-24T23:57:19.072444",
     "status": "completed"
    },
    "tags": []
   },
   "outputs": [],
   "source": [
    "import pandas as pd\n",
    "from sklearn.preprocessing import MinMaxScaler\n",
    "\n",
    "df = pd.read_csv('../base_dados/beber_normalizado.csv', low_memory=False)\n"
   ]
  },
  {
   "cell_type": "markdown",
   "id": "33342bfb",
   "metadata": {
    "papermill": {
     "duration": 0.014001,
     "end_time": "2024-12-24T23:57:21.679846",
     "exception": false,
     "start_time": "2024-12-24T23:57:21.665845",
     "status": "completed"
    },
    "tags": []
   },
   "source": [
    "### Sera feito um df com dados normalizados e sem duplicações"
   ]
  },
  {
   "cell_type": "code",
   "execution_count": 2,
   "id": "0a42a6d2",
   "metadata": {
    "execution": {
     "iopub.execute_input": "2024-12-24T23:57:21.708847Z",
     "iopub.status.busy": "2024-12-24T23:57:21.708847Z",
     "iopub.status.idle": "2024-12-24T23:57:21.928739Z",
     "shell.execute_reply": "2024-12-24T23:57:21.928739Z"
    },
    "papermill": {
     "duration": 0.2369,
     "end_time": "2024-12-24T23:57:21.930745",
     "exception": false,
     "start_time": "2024-12-24T23:57:21.693845",
     "status": "completed"
    },
    "tags": []
   },
   "outputs": [],
   "source": [
    "df = df.drop_duplicates()"
   ]
  },
  {
   "cell_type": "code",
   "execution_count": 3,
   "id": "aa70d029",
   "metadata": {
    "execution": {
     "iopub.execute_input": "2024-12-24T23:57:21.951745Z",
     "iopub.status.busy": "2024-12-24T23:57:21.951745Z",
     "iopub.status.idle": "2024-12-24T23:57:21.963675Z",
     "shell.execute_reply": "2024-12-24T23:57:21.963675Z"
    },
    "papermill": {
     "duration": 0.026935,
     "end_time": "2024-12-24T23:57:21.964680",
     "exception": false,
     "start_time": "2024-12-24T23:57:21.937745",
     "status": "completed"
    },
    "tags": []
   },
   "outputs": [
    {
     "name": "stdout",
     "output_type": "stream",
     "text": [
      "Em valores totais\n",
      "drk_yn\n",
      "1    289372\n",
      "0    283525\n",
      "Name: count, dtype: int64\n",
      "\n",
      "Em porcentagem (%)\n",
      "drk_yn\n",
      "1    50.510301\n",
      "0    49.489699\n",
      "Name: proportion, dtype: float64\n"
     ]
    }
   ],
   "source": [
    "print('Em valores totais')\n",
    "print(df['drk_yn'].value_counts())\n",
    "\n",
    "print('\\nEm porcentagem (%)')\n",
    "print(df['drk_yn'].value_counts(normalize=True) * 100)\n"
   ]
  },
  {
   "cell_type": "code",
   "execution_count": 4,
   "id": "555915e8",
   "metadata": {
    "execution": {
     "iopub.execute_input": "2024-12-24T23:57:21.985685Z",
     "iopub.status.busy": "2024-12-24T23:57:21.985685Z",
     "iopub.status.idle": "2024-12-24T23:57:30.355497Z",
     "shell.execute_reply": "2024-12-24T23:57:30.355497Z"
    },
    "papermill": {
     "duration": 8.384825,
     "end_time": "2024-12-24T23:57:30.356504",
     "exception": false,
     "start_time": "2024-12-24T23:57:21.971679",
     "status": "completed"
    },
    "tags": []
   },
   "outputs": [],
   "source": [
    "df.to_csv('../base_dados/beber_sem_duplicata.csv', index=False)\n"
   ]
  }
 ],
 "metadata": {
  "kernelspec": {
   "display_name": "meu_ambiente",
   "language": "python",
   "name": "python3"
  },
  "language_info": {
   "codemirror_mode": {
    "name": "ipython",
    "version": 3
   },
   "file_extension": ".py",
   "mimetype": "text/x-python",
   "name": "python",
   "nbconvert_exporter": "python",
   "pygments_lexer": "ipython3",
   "version": "3.12.7"
  },
  "papermill": {
   "default_parameters": {},
   "duration": 13.004653,
   "end_time": "2024-12-24T23:57:30.782503",
   "environment_variables": {},
   "exception": null,
   "input_path": "..\\6_minerar_dados_sem_duplicatas\\1_remove_duplicata.ipynb",
   "output_path": "..\\6_minerar_dados_sem_duplicatas\\1_remove_duplicata.ipynb",
   "parameters": {},
   "start_time": "2024-12-24T23:57:17.777850",
   "version": "2.6.0"
  }
 },
 "nbformat": 4,
 "nbformat_minor": 5
}