{
 "cells": [
  {
   "cell_type": "code",
   "execution_count": 1,
   "id": "005e8271",
   "metadata": {
    "execution": {
     "iopub.execute_input": "2024-12-27T18:02:48.159052Z",
     "iopub.status.busy": "2024-12-27T18:02:48.159052Z",
     "iopub.status.idle": "2024-12-27T18:02:49.450619Z",
     "shell.execute_reply": "2024-12-27T18:02:49.450619Z"
    },
    "papermill": {
     "duration": 1.300581,
     "end_time": "2024-12-27T18:02:49.452630",
     "exception": false,
     "start_time": "2024-12-27T18:02:48.152049",
     "status": "completed"
    },
    "tags": []
   },
   "outputs": [],
   "source": [
    "from sklearn.model_selection import train_test_split\n",
    "from sklearn.metrics import confusion_matrix, classification_report, accuracy_score\n",
    "from sklearn.linear_model import Perceptron\n",
    "import pandas as pd\n",
    "\n",
    "df = pd.read_csv('../base_dados/beber_sem_duplicata.csv', low_memory=False)"
   ]
  },
  {
   "cell_type": "code",
   "execution_count": 2,
   "id": "5deb6d6b",
   "metadata": {
    "execution": {
     "iopub.execute_input": "2024-12-27T18:02:49.473625Z",
     "iopub.status.busy": "2024-12-27T18:02:49.473625Z",
     "iopub.status.idle": "2024-12-27T18:02:49.614920Z",
     "shell.execute_reply": "2024-12-27T18:02:49.614920Z"
    },
    "papermill": {
     "duration": 0.157304,
     "end_time": "2024-12-27T18:02:49.615928",
     "exception": false,
     "start_time": "2024-12-27T18:02:49.458624",
     "status": "completed"
    },
    "tags": []
   },
   "outputs": [
    {
     "name": "stdout",
     "output_type": "stream",
     "text": [
      "Acurácia: 0.5024823177366703\n",
      "Relatório de Classificação:\n",
      "               precision    recall  f1-score   support\n",
      "\n",
      "           0       0.00      0.00      0.00     14631\n",
      "           1       0.50      1.00      0.67     14777\n",
      "\n",
      "    accuracy                           0.50     29408\n",
      "   macro avg       0.25      0.50      0.33     29408\n",
      "weighted avg       0.25      0.50      0.34     29408\n",
      "\n",
      "Matriz de Confusão Simplificada:\n",
      "           Previsto 0  Previsto 1\n",
      "Classe 0           0       14631\n",
      "Classe 1           0       14777\n",
      "Acurácia salva com sucesso.\n"
     ]
    },
    {
     "name": "stderr",
     "output_type": "stream",
     "text": [
      "C:\\Users\\jian_\\AppData\\Roaming\\Python\\Python312\\site-packages\\sklearn\\metrics\\_classification.py:1517: UndefinedMetricWarning: Precision is ill-defined and being set to 0.0 in labels with no predicted samples. Use `zero_division` parameter to control this behavior.\n",
      "  _warn_prf(average, modifier, f\"{metric.capitalize()} is\", len(result))\n",
      "C:\\Users\\jian_\\AppData\\Roaming\\Python\\Python312\\site-packages\\sklearn\\metrics\\_classification.py:1517: UndefinedMetricWarning: Precision is ill-defined and being set to 0.0 in labels with no predicted samples. Use `zero_division` parameter to control this behavior.\n",
      "  _warn_prf(average, modifier, f\"{metric.capitalize()} is\", len(result))\n",
      "C:\\Users\\jian_\\AppData\\Roaming\\Python\\Python312\\site-packages\\sklearn\\metrics\\_classification.py:1517: UndefinedMetricWarning: Precision is ill-defined and being set to 0.0 in labels with no predicted samples. Use `zero_division` parameter to control this behavior.\n",
      "  _warn_prf(average, modifier, f\"{metric.capitalize()} is\", len(result))\n"
     ]
    }
   ],
   "source": [
    "# Separar features e target\n",
    "X = df.drop('drk_yn', axis=1)\n",
    "y = df['drk_yn']\n",
    "\n",
    "# Dividir em treino e teste\n",
    "X_train, X_test, y_train, y_test = train_test_split(X, y, test_size=0.3, random_state=42)\n",
    "\n",
    "# Criar e treinar o modelo\n",
    "model = Perceptron(max_iter=1000, tol=1e-3)\n",
    "model.fit(X_train, y_train)\n",
    "\n",
    "# Fazer previsões\n",
    "y_pred = model.predict(X_test)\n",
    "\n",
    "# Calcular a matriz de confusão\n",
    "conf_matrix = confusion_matrix(y_test, y_pred)\n",
    "\n",
    "# Calcular métricas de desempenho\n",
    "accuracy = accuracy_score(y_test, y_pred)\n",
    "report = classification_report(y_test, y_pred)\n",
    "\n",
    "# Criar DataFrame consolidado\n",
    "resultados_resumidos = pd.DataFrame(conf_matrix, \n",
    "                                    index=['Classe 0', 'Classe 1'], \n",
    "                                    columns=['Previsto 0', 'Previsto 1'])\n",
    "\n",
    "# Salvar matriz de confusão simplificada\n",
    "# resultados_resumidos.to_csv('../base_dados/resultados_mineracao_dados/matriz_confusao_perceptron_sem_duplicata.csv')\n",
    "\n",
    "# Exibir resultados simplificados\n",
    "print('Acurácia:', accuracy)\n",
    "print('Relatório de Classificação:\\n', report)\n",
    "print('Matriz de Confusão Simplificada:\\n', resultados_resumidos)\n",
    "\n",
    "resultados_acuracia = pd.DataFrame({\n",
    "    'Modelo': ['Perceptron'],\n",
    "    'Acurácia': [accuracy]\n",
    "})\n",
    "\n",
    "# Salvar acurácia em CSV\n",
    "resultados_acuracia.to_csv('../base_dados/resultados_mineracao_dados/resultado_perceptron_sem_duplicata.csv', index=False)\n",
    "\n",
    "print(\"Acurácia salva com sucesso.\")"
   ]
  }
 ],
 "metadata": {
  "kernelspec": {
   "display_name": "meu_ambiente",
   "language": "python",
   "name": "python3"
  },
  "language_info": {
   "codemirror_mode": {
    "name": "ipython",
    "version": 3
   },
   "file_extension": ".py",
   "mimetype": "text/x-python",
   "name": "python",
   "nbconvert_exporter": "python",
   "pygments_lexer": "ipython3",
   "version": "3.12.7"
  },
  "papermill": {
   "default_parameters": {},
   "duration": 3.128877,
   "end_time": "2024-12-27T18:02:50.031926",
   "environment_variables": {},
   "exception": null,
   "input_path": "..\\6_minerar_dados_sem_duplicatas\\perceptron.ipynb",
   "output_path": "..\\6_minerar_dados_sem_duplicatas\\perceptron.ipynb",
   "parameters": {},
   "start_time": "2024-12-27T18:02:46.903049",
   "version": "2.6.0"
  }
 },
 "nbformat": 4,
 "nbformat_minor": 5
}