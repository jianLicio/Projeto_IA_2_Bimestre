{
 "cells": [
  {
   "cell_type": "code",
   "execution_count": 1,
   "id": "0e19e587",
   "metadata": {
    "execution": {
     "iopub.execute_input": "2024-12-27T18:02:41.715501Z",
     "iopub.status.busy": "2024-12-27T18:02:41.715501Z",
     "iopub.status.idle": "2024-12-27T18:02:43.000912Z",
     "shell.execute_reply": "2024-12-27T18:02:43.000912Z"
    },
    "papermill": {
     "duration": 1.293424,
     "end_time": "2024-12-27T18:02:43.001918",
     "exception": false,
     "start_time": "2024-12-27T18:02:41.708494",
     "status": "completed"
    },
    "tags": []
   },
   "outputs": [],
   "source": [
    "import pandas as pd\n",
    "from sklearn.model_selection import train_test_split\n",
    "from sklearn.preprocessing import LabelEncoder\n",
    "from sklearn.naive_bayes import CategoricalNB\n",
    "from sklearn.metrics import accuracy_score, classification_report, confusion_matrix, ConfusionMatrixDisplay\n",
    "from sklearn.naive_bayes import GaussianNB\n",
    "\n",
    "df = pd.read_csv('../base_dados/beber_sem_duplicata.csv', low_memory=False)\n"
   ]
  },
  {
   "cell_type": "markdown",
   "id": "655c5875",
   "metadata": {
    "papermill": {
     "duration": 0.013999,
     "end_time": "2024-12-27T18:02:43.022917",
     "exception": false,
     "start_time": "2024-12-27T18:02:43.008918",
     "status": "completed"
    },
    "tags": []
   },
   "source": [
    "### Quantitativos"
   ]
  },
  {
   "cell_type": "code",
   "execution_count": 2,
   "id": "aa386d4a",
   "metadata": {
    "execution": {
     "iopub.execute_input": "2024-12-27T18:02:43.050917Z",
     "iopub.status.busy": "2024-12-27T18:02:43.049917Z",
     "iopub.status.idle": "2024-12-27T18:02:43.667297Z",
     "shell.execute_reply": "2024-12-27T18:02:43.667297Z"
    },
    "papermill": {
     "duration": 0.632383,
     "end_time": "2024-12-27T18:02:43.668301",
     "exception": false,
     "start_time": "2024-12-27T18:02:43.035918",
     "status": "completed"
    },
    "tags": []
   },
   "outputs": [
    {
     "name": "stdout",
     "output_type": "stream",
     "text": [
      "Acurácia: 0.6994355277475517\n",
      "Relatório de Classificação:\n",
      "               precision    recall  f1-score   support\n",
      "\n",
      "           0       0.68      0.75      0.71     14631\n",
      "           1       0.73      0.65      0.68     14777\n",
      "\n",
      "    accuracy                           0.70     29408\n",
      "   macro avg       0.70      0.70      0.70     29408\n",
      "weighted avg       0.70      0.70      0.70     29408\n",
      "\n",
      "Matriz de Confusão (Texto):\n",
      " [[11026  3605]\n",
      " [ 5234  9543]]\n"
     ]
    },
    {
     "name": "stdout",
     "output_type": "stream",
     "text": [
      "Resultados salvos com sucesso.\n"
     ]
    },
    {
     "data": {
      "image/png": "[encoded data removed]",
      "text/plain": [
       "<Figure size 640x480 with 2 Axes>"
      ]
     },
     "metadata": {},
     "output_type": "display_data"
    }
   ],
   "source": [
    "from sklearn.metrics import accuracy_score, classification_report, confusion_matrix, ConfusionMatrixDisplay\n",
    "import pandas as pd\n",
    "from sklearn.model_selection import train_test_split\n",
    "from sklearn.naive_bayes import GaussianNB\n",
    "\n",
    "# Separar features e target\n",
    "X = df.drop(columns=['drk_yn'])\n",
    "y = df['drk_yn']\n",
    "\n",
    "# Dividir dados em treino e teste\n",
    "X_train, X_test, y_train, y_test = train_test_split(X, y, test_size=0.3, random_state=42)\n",
    "\n",
    "# Criar e treinar o modelo\n",
    "gnb = GaussianNB()\n",
    "gnb.fit(X_train, y_train)\n",
    "\n",
    "# Prever e avaliar\n",
    "y_pred = gnb.predict(X_test)\n",
    "\n",
    "# Avaliação\n",
    "accuracy = accuracy_score(y_test, y_pred)\n",
    "report = classification_report(y_test, y_pred)\n",
    "\n",
    "print(\"Acurácia:\", accuracy)\n",
    "print(\"Relatório de Classificação:\\n\", report)\n",
    "\n",
    "# Matriz de confusão\n",
    "cm = confusion_matrix(y_test, y_pred)\n",
    "print(\"Matriz de Confusão (Texto):\\n\", cm)\n",
    "\n",
    "# Salvar acurácia e relatório em CSV\n",
    "resultados = pd.DataFrame({\n",
    "    'Modelo': ['Naive Bayes'],\n",
    "    'Acurácia': [accuracy]\n",
    "})\n",
    "\n",
    "# Salvar relatório de classificação como arquivo de texto\n",
    "with open('../base_dados/resultados_mineracao_dados/relatorio_classificacao_naive_bayes_quantitativo_sem_duplicata.txt', 'w') as f:\n",
    "    f.write(\"Relatório de Classificação:\\n\")\n",
    "    f.write(report)\n",
    "\n",
    "# Salvar matriz de confusão\n",
    "# cm_df = pd.DataFrame(cm, index=[f'Classe {i}' for i in range(len(cm))], columns=[f'Classe {i}' for i in range(len(cm))])\n",
    "# cm_df.to_csv('../base_dados/resultados_mineracao_dados/matriz_confusao_naive_bayes_sem_duplicata.csv', index=True)\n",
    "\n",
    "# Salvar acurácia em CSV\n",
    "resultados.to_csv('../base_dados/resultados_mineracao_dados/resultado_naive_bayes_quantitativo_sem_duplicata.csv', index=False)\n",
    "\n",
    "# Exibir matriz de confusão graficamente\n",
    "disp = ConfusionMatrixDisplay(confusion_matrix=cm)\n",
    "disp.plot()\n",
    "\n",
    "print(\"Resultados salvos com sucesso.\")\n"
   ]
  },
  {
   "cell_type": "markdown",
   "id": "d625efdb",
   "metadata": {
    "papermill": {
     "duration": 0.014002,
     "end_time": "2024-12-27T18:02:43.689303",
     "exception": false,
     "start_time": "2024-12-27T18:02:43.675301",
     "status": "completed"
    },
    "tags": []
   },
   "source": [
    "### Qualitativos"
   ]
  },
  {
   "cell_type": "code",
   "execution_count": 3,
   "id": "a57ef552",
   "metadata": {
    "execution": {
     "iopub.execute_input": "2024-12-27T18:02:43.717305Z",
     "iopub.status.busy": "2024-12-27T18:02:43.717305Z",
     "iopub.status.idle": "2024-12-27T18:02:46.302435Z",
     "shell.execute_reply": "2024-12-27T18:02:46.302435Z"
    },
    "papermill": {
     "duration": 2.601139,
     "end_time": "2024-12-27T18:02:46.303441",
     "exception": false,
     "start_time": "2024-12-27T18:02:43.702302",
     "status": "completed"
    },
    "tags": []
   },
   "outputs": [
    {
     "name": "stdout",
     "output_type": "stream",
     "text": [
      "Acurácia: 0.7032100108813928\n",
      "Relatório de Classificação:\n",
      "               precision    recall  f1-score   support\n",
      "\n",
      "           0       0.70      0.71      0.70     14631\n",
      "           1       0.71      0.70      0.70     14777\n",
      "\n",
      "    accuracy                           0.70     29408\n",
      "   macro avg       0.70      0.70      0.70     29408\n",
      "weighted avg       0.70      0.70      0.70     29408\n",
      "\n",
      "Matriz de Confusão (Texto):\n",
      " [[10383  4248]\n",
      " [ 4480 10297]]\n",
      "Resultados salvos com sucesso.\n"
     ]
    },
    {
     "data": {
      "image/png": "[encoded data removed]",
      "text/plain": [
       "<Figure size 640x480 with 2 Axes>"
      ]
     },
     "metadata": {},
     "output_type": "display_data"
    }
   ],
   "source": [
    "# Converter todos os dados para string\n",
    "df = df.astype(str)\n",
    "\n",
    "# Separar atributos e rótulo\n",
    "X = df.drop(columns=['drk_yn'])\n",
    "y = df['drk_yn']\n",
    "\n",
    "# Dividir dados\n",
    "X_train, X_test, y_train, y_test = train_test_split(X, y, test_size=0.3, random_state=42)\n",
    "\n",
    "# Codificar com LabelEncoder\n",
    "X_train = X_train.apply(LabelEncoder().fit_transform)\n",
    "X_test = X_test.apply(LabelEncoder().fit_transform)\n",
    "\n",
    "# Criar e treinar o modelo\n",
    "cnb = CategoricalNB()\n",
    "cnb.fit(X_train, y_train)\n",
    "\n",
    "# Prever e avaliar\n",
    "y_pred = cnb.predict(X_test)\n",
    "\n",
    "# Avaliação\n",
    "accuracy = accuracy_score(y_test, y_pred)\n",
    "report = classification_report(y_test, y_pred)\n",
    "\n",
    "print(\"Acurácia:\", accuracy)\n",
    "print(\"Relatório de Classificação:\\n\", report)\n",
    "\n",
    "# Matriz de confusão\n",
    "cm = confusion_matrix(y_test, y_pred)\n",
    "print(\"Matriz de Confusão (Texto):\\n\", cm)\n",
    "\n",
    "# Salvar acurácia e relatório em CSV\n",
    "resultados = pd.DataFrame({\n",
    "    'Modelo': ['Categorical Naive Bayes'],\n",
    "    'Acurácia': [accuracy]\n",
    "})\n",
    "\n",
    "# Salvar relatório de classificação como arquivo de texto\n",
    "with open('../base_dados/resultados_mineracao_dados/relatorio_classificacao_naive_bayes_qualitativo_sem_duplicata.txt', 'w') as f:\n",
    "    f.write(\"Relatório de Classificação:\\n\")\n",
    "    f.write(report)\n",
    "\n",
    "# Salvar matriz de confusão\n",
    "# cm_df = pd.DataFrame(cm, index=[f'Classe {i}' for i in range(len(cm))], columns=[f'Classe {i}' for i in range(len(cm))])\n",
    "# cm_df.to_csv('../base_dados/resultados_mineracao_dados/matriz_confusao_naive_bayes_qualitativo_sem_duplicata.csv', index=True)\n",
    "\n",
    "# Salvar acurácia em CSV\n",
    "resultados.to_csv('../base_dados/resultados_mineracao_dados/resultado_naive_bayes_qualitativo_sem_duplicata.csv', index=False)\n",
    "\n",
    "# Exibir matriz de confusão graficamente\n",
    "disp = ConfusionMatrixDisplay(confusion_matrix=cm)\n",
    "disp.plot()\n",
    "\n",
    "print(\"Resultados salvos com sucesso.\")"
   ]
  },
  {
   "cell_type": "code",
   "execution_count": 4,
   "id": "1fb0677b",
   "metadata": {
    "execution": {
     "iopub.execute_input": "2024-12-27T18:02:46.328444Z",
     "iopub.status.busy": "2024-12-27T18:02:46.328444Z",
     "iopub.status.idle": "2024-12-27T18:02:46.331510Z",
     "shell.execute_reply": "2024-12-27T18:02:46.331510Z"
    },
    "papermill": {
     "duration": 0.02008,
     "end_time": "2024-12-27T18:02:46.332520",
     "exception": false,
     "start_time": "2024-12-27T18:02:46.312440",
     "status": "completed"
    },
    "tags": []
   },
   "outputs": [],
   "source": [
    "# cm_df = pd.DataFrame(cm, index=[f'Classe {i}' for i in range(len(cm))], columns=[f'Classe {i}' for i in range(len(cm))])\n",
    "# cm_df.to_csv('../base_dados/resultados_mineracao_dados/matriz_confusao_naive_bayes_sem_duplicata.csv', index=True)"
   ]
  }
 ],
 "metadata": {
  "kernelspec": {
   "display_name": "meu_ambiente",
   "language": "python",
   "name": "python3"
  },
  "language_info": {
   "codemirror_mode": {
    "name": "ipython",
    "version": 3
   },
   "file_extension": ".py",
   "mimetype": "text/x-python",
   "name": "python",
   "nbconvert_exporter": "python",
   "pygments_lexer": "ipython3",
   "version": "3.12.7"
  },
  "papermill": {
   "default_parameters": {},
   "duration": 6.614556,
   "end_time": "2024-12-27T18:02:46.865051",
   "environment_variables": {},
   "exception": null,
   "input_path": "..\\6_minerar_dados_sem_duplicatas\\naive_bayes.ipynb",
   "output_path": "..\\6_minerar_dados_sem_duplicatas\\naive_bayes.ipynb",
   "parameters": {},
   "start_time": "2024-12-27T18:02:40.250495",
   "version": "2.6.0"
  }
 },
 "nbformat": 4,
 "nbformat_minor": 5
}