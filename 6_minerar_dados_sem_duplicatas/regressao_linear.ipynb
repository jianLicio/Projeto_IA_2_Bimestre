{
 "cells": [
  {
   "cell_type": "code",
   "execution_count": 1,
   "id": "90139de0",
   "metadata": {
    "execution": {
     "iopub.execute_input": "2024-12-27T18:02:51.342740Z",
     "iopub.status.busy": "2024-12-27T18:02:51.341743Z",
     "iopub.status.idle": "2024-12-27T18:02:53.056790Z",
     "shell.execute_reply": "2024-12-27T18:02:53.056790Z"
    },
    "papermill": {
     "duration": 1.733053,
     "end_time": "2024-12-27T18:02:53.057794",
     "exception": false,
     "start_time": "2024-12-27T18:02:51.324741",
     "status": "completed"
    },
    "tags": []
   },
   "outputs": [],
   "source": [
    "from sklearn.metrics import confusion_matrix, classification_report, ConfusionMatrixDisplay, accuracy_score\n",
    "from sklearn.model_selection import train_test_split\n",
    "import statsmodels.api as sm\n",
    "import pandas as pd\n",
    "import numpy as np\n",
    "\n",
    "df = pd.read_csv('../base_dados/beber_sem_duplicata.csv', low_memory=False)\n"
   ]
  },
  {
   "cell_type": "code",
   "execution_count": 2,
   "id": "b0860b3d",
   "metadata": {
    "execution": {
     "iopub.execute_input": "2024-12-27T18:02:53.080797Z",
     "iopub.status.busy": "2024-12-27T18:02:53.079799Z",
     "iopub.status.idle": "2024-12-27T18:02:53.679026Z",
     "shell.execute_reply": "2024-12-27T18:02:53.679026Z"
    },
    "papermill": {
     "duration": 0.616241,
     "end_time": "2024-12-27T18:02:53.680035",
     "exception": false,
     "start_time": "2024-12-27T18:02:53.063794",
     "status": "completed"
    },
    "tags": []
   },
   "outputs": [
    {
     "name": "stdout",
     "output_type": "stream",
     "text": [
      "                            OLS Regression Results                            \n",
      "==============================================================================\n",
      "Dep. Variable:                 drk_yn   R-squared:                       0.254\n",
      "Model:                            OLS   Adj. R-squared:                  0.253\n",
      "Method:                 Least Squares   F-statistic:                     1166.\n",
      "Date:                Fri, 27 Dec 2024   Prob (F-statistic):               0.00\n",
      "Time:                        15:02:53   Log-Likelihood:                -39765.\n",
      "No. Observations:               68618   AIC:                         7.957e+04\n",
      "Df Residuals:                   68597   BIC:                         7.976e+04\n",
      "Df Model:                          20                                         \n",
      "Covariance Type:            nonrobust                                         \n",
      "==========================================================================================\n",
      "                             coef    std err          t      P>|t|      [0.025      0.975]\n",
      "------------------------------------------------------------------------------------------\n",
      "const                      0.2713      0.013     21.619      0.000       0.247       0.296\n",
      "sex                        0.1865      0.006     32.087      0.000       0.175       0.198\n",
      "age                       -0.4940      0.010    -49.806      0.000      -0.513      -0.475\n",
      "height                     0.1647      0.020      8.234      0.000       0.125       0.204\n",
      "sight_left                 0.0403      0.023      1.729      0.084      -0.005       0.086\n",
      "sight_right               -0.0233      0.023     -1.012      0.311      -0.068       0.022\n",
      "urine_protein             -0.0104      0.019     -0.551      0.582      -0.048       0.027\n",
      "smk_stat_type_cd           0.1943      0.005     38.308      0.000       0.184       0.204\n",
      "sbp_grupo                  0.0065      0.013      0.495      0.621      -0.019       0.032\n",
      "dbp_grupo                  0.1527      0.020      7.695      0.000       0.114       0.192\n",
      "blds_grupo                 0.0284      0.006      5.077      0.000       0.017       0.039\n",
      "hemoglobin_grupo          -0.0103      0.008     -1.304      0.192      -0.026       0.005\n",
      "waistline_grupo            0.0366      0.011      3.310      0.001       0.015       0.058\n",
      "weight_grupo               0.0036      0.013      0.269      0.788      -0.023       0.030\n",
      "serum_creatinine_grupo    -0.7024      0.153     -4.582      0.000      -1.003      -0.402\n",
      "tot_chole_grupo            0.0291      0.019      1.534      0.125      -0.008       0.066\n",
      "hdl_chole_grupo            0.3067      0.009     33.175      0.000       0.289       0.325\n",
      "ldl_chole_grupo           -0.0781      0.018     -4.420      0.000      -0.113      -0.043\n",
      "triglyceride_grupo         0.3058      0.035      8.736      0.000       0.237       0.374\n",
      "sgot_ast_grupo            -0.1826      0.062     -2.937      0.003      -0.304      -0.061\n",
      "gamma_gtp_grupo            0.0008   4.02e-05     20.908      0.000       0.001       0.001\n",
      "==============================================================================\n",
      "Omnibus:                    17007.379   Durbin-Watson:                   2.005\n",
      "Prob(Omnibus):                  0.000   Jarque-Bera (JB):             2953.433\n",
      "Skew:                          -0.036   Prob(JB):                         0.00\n",
      "Kurtosis:                       1.986   Cond. No.                     5.08e+03\n",
      "==============================================================================\n",
      "\n",
      "Notes:\n",
      "[1] Standard Errors assume that the covariance matrix of the errors is correctly specified.\n",
      "[2] The condition number is large, 5.08e+03. This might indicate that there are\n",
      "strong multicollinearity or other numerical problems.\n",
      "Acurácia: 0.72\n",
      "Relatório de Classificação:\n",
      "               precision    recall  f1-score   support\n",
      "\n",
      "           0       0.72      0.72      0.72     14631\n",
      "           1       0.72      0.72      0.72     14777\n",
      "\n",
      "    accuracy                           0.72     29408\n",
      "   macro avg       0.72      0.72      0.72     29408\n",
      "weighted avg       0.72      0.72      0.72     29408\n",
      "\n",
      "Matriz de Confusão (Texto):\n",
      " [[10525  4106]\n",
      " [ 4165 10612]]\n"
     ]
    },
    {
     "name": "stdout",
     "output_type": "stream",
     "text": [
      "Acurácia salva com sucesso.\n"
     ]
    },
    {
     "data": {
      "image/png": "[encoded data removed]",
      "text/plain": [
       "<Figure size 640x480 with 2 Axes>"
      ]
     },
     "metadata": {},
     "output_type": "display_data"
    }
   ],
   "source": [
    "\n",
    "\n",
    "# Definir variáveis independentes (X) e dependente (y)\n",
    "X = df.drop(columns=['drk_yn'])  # Todas as colunas, exceto a de destino\n",
    "y = df['drk_yn']\n",
    "\n",
    "# Dividir em treino e teste\n",
    "X_train, X_test, y_train, y_test = train_test_split(X, y, test_size=0.3, random_state=42)\n",
    "\n",
    "# Adicionar constante ao modelo (intercepto)\n",
    "X_train = sm.add_constant(X_train)\n",
    "X_test = sm.add_constant(X_test)\n",
    "\n",
    "# Ajustar o modelo de regressão linear\n",
    "modelo = sm.OLS(y_train, X_train).fit()\n",
    "\n",
    "# Exibir o resumo do modelo\n",
    "print(modelo.summary())\n",
    "\n",
    "# Fazer previsões (resultados contínuos)\n",
    "y_pred = modelo.predict(X_test)\n",
    "\n",
    "# Converter previsões para classes binárias (0 ou 1) com threshold de 0.5\n",
    "y_pred_class = np.where(y_pred >= 0.5, 1, 0)\n",
    "\n",
    "# Avaliar o modelo\n",
    "accuracy = accuracy_score(y_test, y_pred_class)\n",
    "print(f'Acurácia: {accuracy:.2f}')\n",
    "\n",
    "# Relatório de classificação\n",
    "print(\"Relatório de Classificação:\\n\", classification_report(y_test, y_pred_class))\n",
    "\n",
    "# Matriz de confusão\n",
    "cm = confusion_matrix(y_test, y_pred_class)\n",
    "print(\"Matriz de Confusão (Texto):\\n\", cm)\n",
    "\n",
    "# Exibir matriz de confusão graficamente\n",
    "disp = ConfusionMatrixDisplay(confusion_matrix=cm)\n",
    "disp.plot()\n",
    "\n",
    "# cm_df = pd.DataFrame(cm, index=[f'Classe {i}' for i in range(len(cm))], columns=[f'Classe {i}' for i in range(len(cm))])\n",
    "# cm_df.to_csv('../base_dados/resultados_mineracao_dados/matriz_confusao_regressao_linear_sem_duplicata.csv', index=True)\n",
    "\n",
    "resultados = pd.DataFrame({\n",
    "    'Modelo': ['Regressão Linear'],\n",
    "    'Acurácia': [accuracy]\n",
    "})\n",
    "\n",
    "# Salvar o resultado em um arquivo CSV\n",
    "resultados.to_csv('../base_dados/resultados_mineracao_dados/resultado_regressao_linear_sem_duplicata.csv', index=False)\n",
    "\n",
    "print(\"Acurácia salva com sucesso.\")"
   ]
  }
 ],
 "metadata": {
  "kernelspec": {
   "display_name": "meu_ambiente",
   "language": "python",
   "name": "python3"
  },
  "language_info": {
   "codemirror_mode": {
    "name": "ipython",
    "version": 3
   },
   "file_extension": ".py",
   "mimetype": "text/x-python",
   "name": "python",
   "nbconvert_exporter": "python",
   "pygments_lexer": "ipython3",
   "version": "3.12.7"
  },
  "papermill": {
   "default_parameters": {},
   "duration": 4.130109,
   "end_time": "2024-12-27T18:02:54.200035",
   "environment_variables": {},
   "exception": null,
   "input_path": "..\\6_minerar_dados_sem_duplicatas\\regressao_linear.ipynb",
   "output_path": "..\\6_minerar_dados_sem_duplicatas\\regressao_linear.ipynb",
   "parameters": {},
   "start_time": "2024-12-27T18:02:50.069926",
   "version": "2.6.0"
  }
 },
 "nbformat": 4,
 "nbformat_minor": 5
}