{
 "cells": [
  {
   "cell_type": "code",
   "execution_count": 1,
   "id": "90139de0",
   "metadata": {
    "execution": {
     "iopub.execute_input": "2024-12-25T00:43:35.569645Z",
     "iopub.status.busy": "2024-12-25T00:43:35.569645Z",
     "iopub.status.idle": "2024-12-25T00:43:38.375437Z",
     "shell.execute_reply": "2024-12-25T00:43:38.375437Z"
    },
    "papermill": {
     "duration": 2.8168,
     "end_time": "2024-12-25T00:43:38.377443",
     "exception": false,
     "start_time": "2024-12-25T00:43:35.560643",
     "status": "completed"
    },
    "tags": []
   },
   "outputs": [],
   "source": [
    "from sklearn.metrics import confusion_matrix, classification_report, ConfusionMatrixDisplay, accuracy_score\n",
    "from sklearn.model_selection import train_test_split\n",
    "import statsmodels.api as sm\n",
    "import pandas as pd\n",
    "import numpy as np\n",
    "\n",
    "df = pd.read_csv('../base_dados/beber_sem_duplicata.csv', low_memory=False)\n"
   ]
  },
  {
   "cell_type": "code",
   "execution_count": 2,
   "id": "b0860b3d",
   "metadata": {
    "execution": {
     "iopub.execute_input": "2024-12-25T00:43:38.402442Z",
     "iopub.status.busy": "2024-12-25T00:43:38.402442Z",
     "iopub.status.idle": "2024-12-25T00:43:40.057432Z",
     "shell.execute_reply": "2024-12-25T00:43:40.057432Z"
    },
    "papermill": {
     "duration": 1.672003,
     "end_time": "2024-12-25T00:43:40.058444",
     "exception": false,
     "start_time": "2024-12-25T00:43:38.386441",
     "status": "completed"
    },
    "tags": []
   },
   "outputs": [
    {
     "name": "stdout",
     "output_type": "stream",
     "text": [
      "                            OLS Regression Results                            \n",
      "==============================================================================\n",
      "Dep. Variable:                 drk_yn   R-squared:                       0.253\n",
      "Model:                            OLS   Adj. R-squared:                  0.253\n",
      "Method:                 Least Squares   F-statistic:                     6787.\n",
      "Date:                Thu, 26 Dec 2024   Prob (F-statistic):               0.00\n",
      "Time:                        10:43:50   Log-Likelihood:            -2.3258e+05\n",
      "No. Observations:              401027   AIC:                         4.652e+05\n",
      "Df Residuals:                  401006   BIC:                         4.654e+05\n",
      "Df Model:                          20                                         \n",
      "Covariance Type:            nonrobust                                         \n",
      "==========================================================================================\n",
      "                             coef    std err          t      P>|t|      [0.025      0.975]\n",
      "------------------------------------------------------------------------------------------\n",
      "const                      0.2687      0.005     51.808      0.000       0.259       0.279\n",
      "sex                        0.1821      0.002     75.341      0.000       0.177       0.187\n",
      "age                       -0.4873      0.004   -119.052      0.000      -0.495      -0.479\n",
      "height                     0.1656      0.008     20.169      0.000       0.149       0.182\n",
      "sight_left                 0.0250      0.009      2.646      0.008       0.006       0.043\n",
      "sight_right               -0.0131      0.009     -1.387      0.165      -0.032       0.005\n",
      "urine_protein             -0.0339      0.008     -4.354      0.000      -0.049      -0.019\n",
      "smk_stat_type_cd           0.1952      0.002     94.023      0.000       0.191       0.199\n",
      "sbp_grupo                  0.0121      0.005      2.244      0.025       0.002       0.023\n",
      "dbp_grupo                  0.1733      0.008     21.137      0.000       0.157       0.189\n",
      "blds_grupo                 0.0286      0.002     12.470      0.000       0.024       0.033\n",
      "hemoglobin_grupo          -0.0083      0.003     -2.551      0.011      -0.015      -0.002\n",
      "waistline_grupo            0.0276      0.005      6.042      0.000       0.019       0.037\n",
      "weight_grupo               0.0136      0.006      2.460      0.014       0.003       0.024\n",
      "serum_creatinine_grupo    -0.9072      0.089    -10.196      0.000      -1.082      -0.733\n",
      "tot_chole_grupo            0.0321      0.008      4.086      0.000       0.017       0.048\n",
      "hdl_chole_grupo            0.2969      0.004     77.825      0.000       0.289       0.304\n",
      "ldl_chole_grupo           -0.0812      0.007    -11.123      0.000      -0.096      -0.067\n",
      "triglyceride_grupo         0.2901      0.015     19.946      0.000       0.262       0.319\n",
      "sgot_ast_grupo            -0.2646      0.026    -10.093      0.000      -0.316      -0.213\n",
      "gamma_gtp_grupo            0.0009   1.63e-05     53.473      0.000       0.001       0.001\n",
      "==============================================================================\n",
      "Omnibus:                   101338.840   Durbin-Watson:                   2.000\n",
      "Prob(Omnibus):                  0.000   Jarque-Bera (JB):            17430.564\n",
      "Skew:                          -0.047   Prob(JB):                         0.00\n",
      "Kurtosis:                       1.983   Cond. No.                     7.24e+03\n",
      "==============================================================================\n",
      "\n",
      "Notes:\n",
      "[1] Standard Errors assume that the covariance matrix of the errors is correctly specified.\n",
      "[2] The condition number is large, 7.24e+03. This might indicate that there are\n",
      "strong multicollinearity or other numerical problems.\n",
      "Acurácia: 0.72\n",
      "Relatório de Classificação:\n",
      "               precision    recall  f1-score   support\n",
      "\n",
      "           0       0.71      0.71      0.71     84709\n",
      "           1       0.72      0.72      0.72     87161\n",
      "\n",
      "    accuracy                           0.72    171870\n",
      "   macro avg       0.72      0.72      0.72    171870\n",
      "weighted avg       0.72      0.72      0.72    171870\n",
      "\n",
      "Matriz de Confusão (Texto):\n",
      " [[60315 24394]\n",
      " [24138 63023]]\n",
      "Acurácia salva com sucesso.\n"
     ]
    },
    {
     "data": {
      "image/png": "[encoded data removed]",
      "text/plain": [
       "<Figure size 640x480 with 2 Axes>"
      ]
     },
     "metadata": {},
     "output_type": "display_data"
    }
   ],
   "source": [
    "\n",
    "\n",
    "# Definir variáveis independentes (X) e dependente (y)\n",
    "X = df.drop(columns=['drk_yn'])  # Todas as colunas, exceto a de destino\n",
    "y = df['drk_yn']\n",
    "\n",
    "# Dividir em treino e teste\n",
    "X_train, X_test, y_train, y_test = train_test_split(X, y, test_size=0.3, random_state=42)\n",
    "\n",
    "# Adicionar constante ao modelo (intercepto)\n",
    "X_train = sm.add_constant(X_train)\n",
    "X_test = sm.add_constant(X_test)\n",
    "\n",
    "# Ajustar o modelo de regressão linear\n",
    "modelo = sm.OLS(y_train, X_train).fit()\n",
    "\n",
    "# Exibir o resumo do modelo\n",
    "print(modelo.summary())\n",
    "\n",
    "# Fazer previsões (resultados contínuos)\n",
    "y_pred = modelo.predict(X_test)\n",
    "\n",
    "# Converter previsões para classes binárias (0 ou 1) com threshold de 0.5\n",
    "y_pred_class = np.where(y_pred >= 0.5, 1, 0)\n",
    "\n",
    "# Avaliar o modelo\n",
    "accuracy = accuracy_score(y_test, y_pred_class)\n",
    "print(f'Acurácia: {accuracy:.2f}')\n",
    "\n",
    "# Relatório de classificação\n",
    "print(\"Relatório de Classificação:\\n\", classification_report(y_test, y_pred_class))\n",
    "\n",
    "# Matriz de confusão\n",
    "cm = confusion_matrix(y_test, y_pred_class)\n",
    "print(\"Matriz de Confusão (Texto):\\n\", cm)\n",
    "\n",
    "# Exibir matriz de confusão graficamente\n",
    "disp = ConfusionMatrixDisplay(confusion_matrix=cm)\n",
    "disp.plot()\n",
    "\n",
    "# cm_df = pd.DataFrame(cm, index=[f'Classe {i}' for i in range(len(cm))], columns=[f'Classe {i}' for i in range(len(cm))])\n",
    "# cm_df.to_csv('../base_dados/resultados_mineracao_dados/matriz_confusao_regressao_linear_sem_duplicata.csv', index=True)\n",
    "\n",
    "resultados = pd.DataFrame({\n",
    "    'Modelo': ['Regressão Linear'],\n",
    "    'Acurácia': [accuracy]\n",
    "})\n",
    "\n",
    "# Salvar o resultado em um arquivo CSV\n",
    "resultados.to_csv('../base_dados/resultados_mineracao_dados/resultado_regressao_linear_sem_duplicata.csv', index=False)\n",
    "\n",
    "print(\"Acurácia salva com sucesso.\")"
   ]
  }
 ],
 "metadata": {
  "kernelspec": {
   "display_name": "meu_ambiente",
   "language": "python",
   "name": "python3"
  },
  "language_info": {
   "codemirror_mode": {
    "name": "ipython",
    "version": 3
   },
   "file_extension": ".py",
   "mimetype": "text/x-python",
   "name": "python",
   "nbconvert_exporter": "python",
   "pygments_lexer": "ipython3",
   "version": "3.12.7"
  },
  "papermill": {
   "default_parameters": {},
   "duration": 7.54509,
   "end_time": "2024-12-25T00:43:41.648752",
   "environment_variables": {},
   "exception": null,
   "input_path": "..\\6_minerar_dados_sem_duplicatas\\regressao_linear.ipynb",
   "output_path": "..\\6_minerar_dados_sem_duplicatas\\regressao_linear.ipynb",
   "parameters": {},
   "start_time": "2024-12-25T00:43:34.103662",
   "version": "2.6.0"
  }
 },
 "nbformat": 4,
 "nbformat_minor": 5
}
