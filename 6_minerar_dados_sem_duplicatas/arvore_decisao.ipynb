{
 "cells": [
  {
   "cell_type": "code",
   "execution_count": 1,
   "id": "57eb46f2",
   "metadata": {
    "execution": {
     "iopub.execute_input": "2024-12-27T18:00:51.468064Z",
     "iopub.status.busy": "2024-12-27T18:00:51.468064Z",
     "iopub.status.idle": "2024-12-27T18:00:52.885074Z",
     "shell.execute_reply": "2024-12-27T18:00:52.885074Z"
    },
    "papermill": {
     "duration": 1.425016,
     "end_time": "2024-12-27T18:00:52.886078",
     "exception": false,
     "start_time": "2024-12-27T18:00:51.461062",
     "status": "completed"
    },
    "tags": []
   },
   "outputs": [],
   "source": [
    "import pandas as pd\n",
    "from sklearn.model_selection import train_test_split\n",
    "from sklearn.tree import DecisionTreeClassifier\n",
    "from sklearn.metrics import accuracy_score, classification_report, confusion_matrix, ConfusionMatrixDisplay\n",
    "\n",
    "df = pd.read_csv('../base_dados/beber_sem_duplicata.csv', low_memory=False)\n"
   ]
  },
  {
   "cell_type": "code",
   "execution_count": 2,
   "id": "3318c066",
   "metadata": {
    "execution": {
     "iopub.execute_input": "2024-12-27T18:00:52.907080Z",
     "iopub.status.busy": "2024-12-27T18:00:52.907080Z",
     "iopub.status.idle": "2024-12-27T18:00:53.825940Z",
     "shell.execute_reply": "2024-12-27T18:00:53.825940Z"
    },
    "papermill": {
     "duration": 0.933865,
     "end_time": "2024-12-27T18:00:53.826946",
     "exception": false,
     "start_time": "2024-12-27T18:00:52.893081",
     "status": "completed"
    },
    "tags": []
   },
   "outputs": [
    {
     "name": "stdout",
     "output_type": "stream",
     "text": [
      "Acurácia: 0.62\n",
      "Relatório de Classificação:\n",
      "               precision    recall  f1-score   support\n",
      "\n",
      "           0       0.62      0.62      0.62     14631\n",
      "           1       0.62      0.62      0.62     14777\n",
      "\n",
      "    accuracy                           0.62     29408\n",
      "   macro avg       0.62      0.62      0.62     29408\n",
      "weighted avg       0.62      0.62      0.62     29408\n",
      "\n"
     ]
    },
    {
     "name": "stdout",
     "output_type": "stream",
     "text": [
      "Acurácia e relatório de classificação salvos com sucesso.\n"
     ]
    },
    {
     "data": {
      "image/png": "[encoded data removed]",
      "text/plain": [
       "<Figure size 640x480 with 2 Axes>"
      ]
     },
     "metadata": {},
     "output_type": "display_data"
    }
   ],
   "source": [
    "X = df.drop(columns=['drk_yn'])  # Atributos\n",
    "y = df['drk_yn']  # Classe alvo\n",
    "\n",
    "# Dividir os dados em treino e teste\n",
    "X_train, X_test, y_train, y_test = train_test_split(X, y, test_size=0.3, random_state=42)\n",
    "\n",
    "# Criar e treinar o modelo de Árvore de Decisão\n",
    "model = DecisionTreeClassifier(random_state=42)\n",
    "model.fit(X_train, y_train)\n",
    "\n",
    "# Fazer previsões\n",
    "y_pred = model.predict(X_test)\n",
    "\n",
    "# Avaliação do modelo\n",
    "accuracy = accuracy_score(y_test, y_pred)\n",
    "report = classification_report(y_test, y_pred)\n",
    "\n",
    "print(f'Acurácia: {accuracy:.2f}')\n",
    "print('Relatório de Classificação:\\n', report)\n",
    "\n",
    "# Matriz de confusão\n",
    "y_pred = model.predict(X_test)\n",
    "cm = confusion_matrix(y_test, y_pred)\n",
    "disp = ConfusionMatrixDisplay(confusion_matrix=cm)\n",
    "disp.plot()\n",
    "\n",
    "# Salvar a matriz de confusão em CSV\n",
    "# cm_df = pd.DataFrame(cm, index=[f'Classe {i}' for i in range(len(cm))], \n",
    "#                      columns=[f'Classe {i}' for i in range(len(cm))])\n",
    "# cm_df.to_csv('../base_dados/resultados_mineracao_dados/matriz_confusao_arvore_decisao_sem_duplicata.csv', index=True)\n",
    "\n",
    "\n",
    "resultados = pd.DataFrame({\n",
    "    'Modelo': ['Árvore de Decisão'],\n",
    "    'Acurácia': [accuracy]\n",
    "})\n",
    "\n",
    "# Salvar acurácia em CSV\n",
    "resultados.to_csv('../base_dados/resultados_mineracao_dados/resultado_arvore_decisao_sem_duplicata.csv', index=False)\n",
    "\n",
    "# Salvar relatório de classificação como arquivo de texto\n",
    "with open('../base_dados/resultados_mineracao_dados/relatorio_classificacao_arvore_decisaosem_duplicata.txt', 'w') as f:\n",
    "    f.write(\"Relatório de Classificação:\\n\")\n",
    "    f.write(report)\n",
    "\n",
    "print(\"Acurácia e relatório de classificação salvos com sucesso.\")"
   ]
  }
 ],
 "metadata": {
  "kernelspec": {
   "display_name": "meu_ambiente",
   "language": "python",
   "name": "python3"
  },
  "language_info": {
   "codemirror_mode": {
    "name": "ipython",
    "version": 3
   },
   "file_extension": ".py",
   "mimetype": "text/x-python",
   "name": "python",
   "nbconvert_exporter": "python",
   "pygments_lexer": "ipython3",
   "version": "3.12.7"
  },
  "papermill": {
   "default_parameters": {},
   "duration": 4.14509,
   "end_time": "2024-12-27T18:00:54.357945",
   "environment_variables": {},
   "exception": null,
   "input_path": "..\\6_minerar_dados_sem_duplicatas\\arvore_decisao.ipynb",
   "output_path": "..\\6_minerar_dados_sem_duplicatas\\arvore_decisao.ipynb",
   "parameters": {},
   "start_time": "2024-12-27T18:00:50.212855",
   "version": "2.6.0"
  }
 },
 "nbformat": 4,
 "nbformat_minor": 5
}