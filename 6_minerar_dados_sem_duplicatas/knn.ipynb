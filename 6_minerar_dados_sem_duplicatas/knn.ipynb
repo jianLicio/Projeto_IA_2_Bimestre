{
 "cells": [
  {
   "cell_type": "code",
   "execution_count": 1,
   "id": "16d13c78",
   "metadata": {
    "execution": {
     "iopub.execute_input": "2024-12-24T23:57:40.405943Z",
     "iopub.status.busy": "2024-12-24T23:57:40.405943Z",
     "iopub.status.idle": "2024-12-24T23:57:43.013882Z",
     "shell.execute_reply": "2024-12-24T23:57:43.013882Z"
    },
    "papermill": {
     "duration": 2.617945,
     "end_time": "2024-12-24T23:57:43.015887",
     "exception": false,
     "start_time": "2024-12-24T23:57:40.397942",
     "status": "completed"
    },
    "tags": []
   },
   "outputs": [],
   "source": [
    "from sklearn.model_selection import train_test_split\n",
    "from sklearn.neighbors import KNeighborsClassifier\n",
    "from sklearn.metrics import accuracy_score, confusion_matrix, classification_report, ConfusionMatrixDisplay\n",
    "import pandas as pd\n",
    "import numpy as np\n",
    "\n",
    "df = pd.read_csv('../base_dados/beber_sem_duplicata.csv', low_memory=False)\n"
   ]
  },
  {
   "cell_type": "code",
   "execution_count": 2,
   "id": "0b0b64b0",
   "metadata": {
    "execution": {
     "iopub.execute_input": "2024-12-24T23:57:43.046889Z",
     "iopub.status.busy": "2024-12-24T23:57:43.045891Z",
     "iopub.status.idle": "2024-12-25T00:43:00.923634Z",
     "shell.execute_reply": "2024-12-25T00:43:00.923634Z"
    },
    "papermill": {
     "duration": 2717.904754,
     "end_time": "2024-12-25T00:43:00.931642",
     "exception": false,
     "start_time": "2024-12-24T23:57:43.026888",
     "status": "completed"
    },
    "tags": []
   },
   "outputs": [
    {
     "name": "stdout",
     "output_type": "stream",
     "text": [
      "Resultados salvos em knn_results_sem_duplicata.csv\n"
     ]
    }
   ],
   "source": [
    "# Separar features e target\n",
    "X = df.drop('drk_yn', axis=1)\n",
    "y = df['drk_yn']\n",
    "\n",
    "# Dividir em treino e teste\n",
    "X_train, X_test, y_train, y_test = train_test_split(X, y, test_size=0.3, random_state=42)\n",
    "\n",
    "# Definindo intervalos de k e distâncias\n",
    "k_values = np.arange(1, 31, 3)\n",
    "distances = ['euclidean', 'manhattan', 'minkowski']\n",
    "\n",
    "# Armazenar resultados\n",
    "results = []\n",
    "\n",
    "for k in k_values:\n",
    "    for dist in distances:\n",
    "        knn = KNeighborsClassifier(n_neighbors=k, metric=dist)\n",
    "        knn.fit(X_train, y_train)\n",
    "        y_pred = knn.predict(X_test)\n",
    "        acc = accuracy_score(y_test, y_pred)\n",
    "        results.append({'k': k, 'distance': dist, 'accuracy': acc})\n",
    "\n",
    "        # Calcular matriz de confusão\n",
    "        cm = confusion_matrix(y_test, y_pred)\n",
    "\n",
    "        # Salvar a matriz de confusão\n",
    "        # cm_df = pd.DataFrame(cm, index=[f'Classe {i}' for i in range(len(cm))], \n",
    "        #                      columns=[f'Classe {i}' for i in range(len(cm))])\n",
    "        # cm_df.to_csv(f'../base_dados/resultados_mineracao_dados/matriz_confusao_knn_k{k}_{dist}_sem_duplicata.csv', index=True)\n",
    "\n",
    "# Salvar resultados\n",
    "results_df = pd.DataFrame(results)\n",
    "results_df.to_csv('../base_dados/resultados_mineracao_dados/knn_results_sem_duplicata.csv', index=False)\n",
    "\n",
    "print(\"Resultados salvos em knn_results_sem_duplicata.csv\")"
   ]
  }
 ],
 "metadata": {
  "kernelspec": {
   "display_name": "meu_ambiente",
   "language": "python",
   "name": "python3"
  },
  "language_info": {
   "codemirror_mode": {
    "name": "ipython",
    "version": 3
   },
   "file_extension": ".py",
   "mimetype": "text/x-python",
   "name": "python",
   "nbconvert_exporter": "python",
   "pygments_lexer": "ipython3",
   "version": "3.12.7"
  },
  "papermill": {
   "default_parameters": {},
   "duration": 2722.228695,
   "end_time": "2024-12-25T00:43:01.366640",
   "environment_variables": {},
   "exception": null,
   "input_path": "..\\6_minerar_dados_sem_duplicatas\\knn.ipynb",
   "output_path": "..\\6_minerar_dados_sem_duplicatas\\knn.ipynb",
   "parameters": {},
   "start_time": "2024-12-24T23:57:39.137945",
   "version": "2.6.0"
  }
 },
 "nbformat": 4,
 "nbformat_minor": 5
}